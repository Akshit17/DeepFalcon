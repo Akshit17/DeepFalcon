{
 "cells": [
  {
   "cell_type": "code",
   "execution_count": 1,
   "id": "ecd0e4d4",
   "metadata": {},
   "outputs": [],
   "source": [
    "WANDB_DESC = 'Setting up BNAF.'"
   ]
  },
  {
   "cell_type": "code",
   "execution_count": 2,
   "id": "aaf0bc13",
   "metadata": {},
   "outputs": [],
   "source": [
    "%%capture\n",
    "! pip3 install torch==1.9.0+cu102 torchvision==0.10.0+cu102 -f https://download.pytorch.org/whl/torch_stable.html\n",
    "! pip install wandb"
   ]
  },
  {
   "cell_type": "code",
   "execution_count": 3,
   "id": "d2e5970d",
   "metadata": {},
   "outputs": [],
   "source": [
    "import torch\n",
    "assert torch.__version__ == '1.9.0+cu102'\n",
    "! pip list | grep torch"
   ]
  },
  {
   "cell_type": "code",
   "execution_count": 4,
   "id": "70e3c12a",
   "metadata": {},
   "outputs": [],
   "source": [
    "! wandb login"
   ]
  },
  {
   "cell_type": "code",
   "execution_count": 5,
   "id": "c10356a5",
   "metadata": {},
   "outputs": [],
   "source": [
    "### COLAB ###\n",
    "\n",
    "# Mount Drive\n",
    "from google.colab import drive\n",
    "drive.mount('/content/drive')\n",
    "\n",
    "# Install missing packages\n",
    "! apt-get install tree >/dev/null\n",
    "\n",
    "# Download dataset\n",
    "# ! ./get_dataset.sh"
   ]
  },
  {
   "cell_type": "code",
   "execution_count": 6,
   "id": "08fe0e7d",
   "metadata": {},
   "outputs": [],
   "source": [
    "# Input format of files in $ROOT/data\n",
    "INPUT_FORMAT = 'Boosted_Jets_Sample-{}.snappy.parquet'"
   ]
  },
  {
   "cell_type": "code",
   "execution_count": 7,
   "id": "1b1704ff",
   "metadata": {},
   "outputs": [],
   "source": [
    "''' DOING IMPORTS '''\n",
    "\n",
    "import os\n",
    "import cv2\n",
    "import wandb\n",
    "import numpy as np\n",
    "import pandas as pd\n",
    "import pickle as pkl\n",
    "import matplotlib.pyplot as plt\n",
    "import pyarrow.parquet as pq\n",
    "from tqdm.auto import tqdm, trange\n",
    "import torch.nn.functional as F\n",
    "\n",
    "\n",
    "# Set Numpy Print Options\n",
    "np.set_printoptions(precision=3)\n",
    "np.set_printoptions(suppress=True)"
   ]
  },
  {
   "cell_type": "code",
   "execution_count": 8,
   "id": "6bde75e2",
   "metadata": {},
   "outputs": [],
   "source": [
    "''' CREATE AND SET DATA/CACHE DIRECTORIES '''\n",
    "\n",
    "ROOT = '/content/drive/My Drive/_GSoC/Normalizing-Flows/'\n",
    "DATA_ROOT = ROOT + \"data/\"\n",
    "CACHE_ROOT = ROOT + \"cache/\"\n",
    "LOGS_ROOT = ROOT + \"logs/\"\n",
    "\n",
    "os.chdir(ROOT)\n",
    "os.makedirs(DATA_ROOT, exist_ok=True)\n",
    "os.makedirs(CACHE_ROOT, exist_ok=True)\n",
    "os.makedirs(LOGS_ROOT, exist_ok=True)\n",
    "\n",
    "# Initialize scratch space on /content for faster read-write\n",
    "SCRATCH_ROOT = '/content/scratch/'   \n",
    "os.makedirs(SCRATCH_ROOT, exist_ok=True) \n",
    "\n",
    "# print('Directory Structure [Excluding Log/Temp Files]:')\n",
    "! tree -I 'model*|temp__*|wandb*|run_'"
   ]
  },
  {
   "cell_type": "code",
   "execution_count": 9,
   "id": "dd875909",
   "metadata": {},
   "outputs": [],
   "source": [
    "import torch\n",
    "from torch.utils.data import *\n",
    "\n",
    "class ParquetDataset(Dataset):\n",
    "    def __init__(self, filename, channels=[1], max_instances=1024):\n",
    "        self.parquet = pq.ParquetFile(filename)\n",
    "        self.cols = None \n",
    "        self.verbose = False\n",
    "        self.channels = channels  # Channels to process - currently only Ecal. \n",
    "        self.max_instances = max_instances  # Number of hits to force in each jet.\n",
    "        \n",
    "    def __getitem__(self, index):\n",
    "        data = self.parquet.read_row_group(index, columns=self.cols).to_pydict()\n",
    "        data['X_jets'] = np.float32(data['X_jets'][0]) \n",
    "        data['X_jets'] = data['X_jets'][0:]\n",
    "        data['X_jets'][data['X_jets'] < 1.e-3] = 0.     # Zero-Suppression\n",
    "        jets = [self.parse_img(dict(data)['X_jets'][i]) for i in self.channels]\n",
    "        jets = jets[0]            # Temporary Hack for Ecal\n",
    "        return jets\n",
    "    \n",
    "    def __len__(self):\n",
    "        return self.parquet.num_row_groups\n",
    "\n",
    "    def parse_img(self, track_img, reduce=False):\n",
    "        '''\n",
    "        Returns non-zero hits from the single-channel input jet image - `track_img`. \n",
    "        If `max_instances` is defined then returns an array of shape [max_instances, 3].   \n",
    "        Else returns an array of shape [N, 3] where N is the number of non-zero hits in each jet.\n",
    "        '''\n",
    "        track_img = torch.Tensor(track_img)        \n",
    "        x_pos, y_pos = torch.nonzero(track_img, as_tuple=True)\n",
    "        val = track_img[x_pos, y_pos]\n",
    "        out = torch.stack((x_pos,y_pos),dim=1)\n",
    "        # print(out.shape)\n",
    "\n",
    "        if self.max_instances:\n",
    "            # Pad instances with fewer hits\n",
    "            if out.shape[0] <= self.max_instances:\n",
    "                pad_len = self.max_instances - out.shape[0]\n",
    "                out = F.pad(out, pad=(0, 0, 0, pad_len), mode='constant', value=0)\n",
    "            # Cut off excess hits from other jets\n",
    "            else:\n",
    "                out = out[:self.max_instances,:]\n",
    "        \n",
    "        if self.verbose:\n",
    "            print('Output Shape:', out.shape)\n",
    "        return out"
   ]
  },
  {
   "cell_type": "code",
   "execution_count": 10,
   "id": "8c872ffe",
   "metadata": {},
   "outputs": [],
   "source": [
    "def vis(arr, is_parsed=True, title=None, scale=1000, cmap='gist_heat', reduce=False):  \n",
    "    '''\n",
    "    Visualise a jet instance.\n",
    "    '''\n",
    "\n",
    "    if not is_parsed:   \n",
    "        arr = parse_img(arr, reduce)\n",
    "\n",
    "    x_pos, y_pos, val = arr[:,0], arr[:,1], arr[:,2]\n",
    "\n",
    "    if scale:\n",
    "        sz = np.array(np.abs(val)) * scale\n",
    "    else:\n",
    "        sz = np.ones_like(val) * 10\n",
    "        \n",
    "    plt.figure(figsize=[10,6], facecolor='#f0f0f0')\n",
    "    cm = plt.cm.get_cmap(cmap)     # 'gist_heat' / 'YlOrRd'\n",
    "    sc = plt.scatter(x_pos, y_pos, c=val, s=sz, cmap=cm, alpha=0.5, edgecolors='k')\n",
    "    plt.colorbar(sc)\n",
    "    plt.xlim(0, 126)\n",
    "    plt.ylim(0, 126)\n",
    "    plt.xticks(range(0,125,25))\n",
    "    plt.yticks(range(0,125,25))\n",
    "    plt.grid()\n",
    "    if title:\n",
    "        plt.title(title)\n",
    "    plt.show()"
   ]
  },
  {
   "cell_type": "code",
   "execution_count": 11,
   "id": "2ff02b4e",
   "metadata": {},
   "outputs": [],
   "source": [
    "dataset_file = DATA_ROOT + INPUT_FORMAT.format(0)\n",
    "dataset = ParquetDataset(dataset_file, max_instances=None)\n",
    "dataset.verbose = True\n",
    "print('Length of Dataset: ', dataset.__len__())"
   ]
  },
  {
   "cell_type": "code",
   "execution_count": 12,
   "id": "fc697212",
   "metadata": {},
   "outputs": [],
   "source": [
    "data_sample = dataset.__getitem__(1)"
   ]
  },
  {
   "cell_type": "code",
   "execution_count": 13,
   "id": "758f8112",
   "metadata": {},
   "outputs": [],
   "source": [
    "import torch\n",
    "import torch.nn as nn\n",
    "import torch.nn.functional as F\n",
    "import torch.distributions as D\n",
    "from torch.utils.data import DataLoader, TensorDataset\n",
    "\n",
    "import math\n",
    "import os\n",
    "import time\n",
    "import argparse\n",
    "import pprint\n",
    "from functools import partial\n",
    "\n",
    "import matplotlib\n",
    "matplotlib.use('Agg')\n",
    "import matplotlib.pyplot as plt\n",
    "from tqdm import tqdm"
   ]
  },
  {
   "cell_type": "code",
   "execution_count": 14,
   "id": "b26f0bd0",
   "metadata": {},
   "outputs": [],
   "source": [
    "def get_args():\n",
    "    parser = argparse.ArgumentParser()\n",
    "    parser.add_argument('--train', action='store_true', help='Train a flow.')\n",
    "    parser.add_argument('--plot', action='store_false', help='Plot a flow and target density.')\n",
    "    parser.add_argument('--restore_file', type=str, help='Path to model to restore.')\n",
    "    parser.add_argument('--output_dir', default='./results/run_')\n",
    "    parser.add_argument('--cuda', type=int, help='Which GPU to run on.')\n",
    "    parser.add_argument('--seed', type=int, default=0, help='Random seed.')\n",
    "    # model parameters\n",
    "    parser.add_argument('--data_dim', type=int, default=2, help='Dimension of the data.')\n",
    "    parser.add_argument('--hidden_dim', type=int, default=100, help='Dimensions of hidden layers.')\n",
    "    parser.add_argument('--n_hidden', type=int, default=3, help='Number of hidden layers.')\n",
    "    # training parameters\n",
    "    parser.add_argument('--step', type=int, default=0, help='Current step of training (number of minibatches processed).')\n",
    "    parser.add_argument('--n_steps', type=int, default=1, help='Number of steps to train.')\n",
    "    parser.add_argument('--batch_size', type=int, default=200, help='Training batch size.')\n",
    "    parser.add_argument('--lr', type=float, default=1e-1, help='Initial learning rate.')\n",
    "    parser.add_argument('--lr_decay', type=float, default=0.5, help='Learning rate decay.')\n",
    "    parser.add_argument('--lr_patience', type=float, default=2000, help='Number of steps before decaying learning rate.')\n",
    "    parser.add_argument('--log_interval', type=int, default=50, help='How often to save model and samples.')\n",
    "\n",
    "    args = parser.parse_args([])\n",
    "    args.output_dir = os.path.join('./results/run_', time.strftime('%Y-%m-%d_%H-%M-%S', time.gmtime()))\n",
    "    if not os.path.isdir(args.output_dir): \n",
    "        os.makedirs(args.output_dir)\n",
    "    args.device = torch.device('cuda:{}'.format(args.cuda) if args.cuda is not None and torch.cuda.is_available() else 'cpu')\n",
    "\n",
    "    return args"
   ]
  },
  {
   "cell_type": "code",
   "execution_count": 15,
   "id": "ab579606",
   "metadata": {},
   "outputs": [
    {
     "name": "stdout",
     "output_type": "stream",
     "text": [
      "tensor([1., 2., 3., 4., 5.])"
     ]
    }
   ],
   "source": [
    "d = [1,2,3,4,5]\n",
    "d = torch.Tensor(d)\n",
    "d = d.type(torch.int)\n",
    "d = d.type(torch.float32)\n",
    "d\n",
    "# d.dtype"
   ]
  },
  {
   "cell_type": "code",
   "execution_count": 16,
   "id": "0ff51d12",
   "metadata": {},
   "outputs": [],
   "source": [
    "''' Model components ''' \n",
    "\n",
    "class MaskedLinear(nn.Module):\n",
    "    def __init__(self, in_features, out_features, data_dim):\n",
    "        super().__init__()\n",
    "        self.in_features = in_features\n",
    "        self.out_features = out_features\n",
    "        self.data_dim = data_dim\n",
    "        # print(self.in_features, self.out_features, self.data_dim)\n",
    "\n",
    "        # Notation:\n",
    "        # BNAF weight calculation for (eq 8): W = g(W) * M_d + W * M_o\n",
    "        #   where W is block lower triangular so model is autoregressive,\n",
    "        #         g = exp function; M_d is block diagonal mask; M_o is block off-diagonal mask.\n",
    "        # Weight Normalization (Salimans & Kingma, eq 2): w = g * v / ||v||\n",
    "        #   where g is scalar, v is k-dim vector, ||v|| is Euclidean norm\n",
    "        # ------\n",
    "        # Here: pre-weight norm matrix is v; then: v = exp(weight) * mask_d + weight * mask_o\n",
    "        #       weight-norm scalar is g: out_features dimensional vector (here logg is used instead to avoid taking logs in the logdet calc.\n",
    "        #       then weight-normed weight matrix is w = g * v / ||v||\n",
    "        #\n",
    "        #       log det jacobian of block lower triangular is taking block diagonal mask of\n",
    "        #           log(g*v/||v||) = log(g) + log(v) - log(||v||)\n",
    "        #                          = log(g) + weight - log(||v||) since v = exp(weight) * mask_d + weight * mask_o\n",
    "\n",
    "        weight = torch.zeros(out_features, in_features)\n",
    "        mask_d = torch.zeros_like(weight)\n",
    "        mask_o = torch.zeros_like(weight)\n",
    "        for i in range(data_dim):\n",
    "            # select block slices\n",
    "            h     = slice(i * out_features // data_dim, (i+1) * out_features // data_dim)\n",
    "            w     = slice(i * in_features // data_dim,  (i+1) * in_features // data_dim)\n",
    "            w_row = slice(0,                            (i+1) * in_features // data_dim)\n",
    "            # initialize block-lower-triangular weight and construct block diagonal mask_d and lower triangular mask_o\n",
    "            nn.init.kaiming_uniform_(weight[h,w_row], a=math.sqrt(5))  # default nn.Linear weight init only block-wise\n",
    "            mask_d[h,w] = 1\n",
    "            mask_o[h,w_row] = 1\n",
    "\n",
    "        mask_o = mask_o - mask_d  # remove diagonal so mask_o is lower triangular 1-off the diagonal\n",
    "\n",
    "        self.weight = nn.Parameter(weight)                          # pre-mask, pre-weight-norm\n",
    "        self.logg = nn.Parameter(torch.rand(out_features, 1).log()) # weight-norm parameter\n",
    "        self.bias = nn.Parameter(nn.init.uniform_(torch.rand(out_features), -1/math.sqrt(in_features), 1/math.sqrt(in_features)))  # default nn.Linear bias init\n",
    "        self.register_buffer('mask_d', mask_d)\n",
    "        self.register_buffer('mask_o', mask_o)\n",
    "\n",
    "    def forward(self, x, sum_logdets):\n",
    "        # 1. compute BNAF masked weight eq 8\n",
    "        v = self.weight.exp() * self.mask_d + self.weight * self.mask_o\n",
    "        # 2. weight normalization\n",
    "        v_norm = v.norm(p=2, dim=1, keepdim=True)\n",
    "        w = self.logg.exp() * v / v_norm\n",
    "        # 3. compute output and logdet of the layer\n",
    "        # print(x.dtype)\n",
    "        # print(w.dtype)\n",
    "        # print(x)\n",
    "        # print(w)\n",
    "        x = x.type(torch.float32)\n",
    "        # print(x.dtype)\n",
    "        out = F.linear(x, w, self.bias)\n",
    "        # print('Out:', out.shape)\n",
    "\n",
    "\n",
    "        logdet = self.logg + self.weight - 0.5 * v_norm.pow(2).log()\n",
    "        logdet = logdet[self.mask_d.byte()]\n",
    "        logdet = logdet.view(1, self.data_dim, out.shape[1]//self.data_dim, x.shape[1]//self.data_dim) \\\n",
    "                       .expand(x.shape[0],-1,-1,-1)  # output (B, data_dim, out_dim // data_dim, in_dim // data_dim)\n",
    "\n",
    "        # 4. sum with sum_logdets from layers before (BNAF section 3.3)\n",
    "        # Compute log det jacobian of the flow (eq 9, 10, 11) using log-matrix multiplication of the different layers.\n",
    "        # Specifically for two successive MaskedLinear layers A -> B with logdets A and B of shapes\n",
    "        #  logdet A is (B, data_dim, outA_dim, inA_dim)\n",
    "        #  logdet B is (B, data_dim, outB_dim, inB_dim) where outA_dim = inB_dim\n",
    "        #\n",
    "        #  Note -- in the first layer, inA_dim = in_features//data_dim = 1 since in_features == data_dim.\n",
    "        #            thus logdet A is (B, data_dim, outA_dim, 1)\n",
    "        #\n",
    "        #  Then:\n",
    "        #  logsumexp(A.transpose(2,3) + B) = logsumexp( (B, data_dim, 1, outA_dim) + (B, data_dim, outB_dim, inB_dim) , dim=-1)\n",
    "        #                                  = logsumexp( (B, data_dim, 1, outA_dim) + (B, data_dim, outB_dim, outA_dim), dim=-1)\n",
    "        #                                  = logsumexp( (B, data_dim, outB_dim, outA_dim), dim=-1) where dim2 of tensor1 is broadcasted\n",
    "        #                                  = (B, data_dim, outB_dim, 1)\n",
    "\n",
    "        sum_logdets = torch.logsumexp(sum_logdets.transpose(2,3) + logdet, dim=-1, keepdim=True)\n",
    "\n",
    "        return out, sum_logdets\n",
    "\n",
    "\n",
    "    def extra_repr(self):\n",
    "        return 'in_features={}, out_features={}, bias={}'.format(\n",
    "            self.in_features, self.out_features, self.bias is not None\n",
    "        )\n",
    "\n",
    "class Tanh(nn.Module):\n",
    "    def __init__(self):\n",
    "        super().__init__()\n",
    "\n",
    "    def forward(self, x, sum_logdets):\n",
    "        # derivation of logdet:\n",
    "        # d/dx tanh = 1 / cosh^2; cosh = (1 + exp(-2x)) / (2*exp(-x))\n",
    "        # log d/dx tanh = - 2 * log cosh = -2 * (x - log 2 + log(1 + exp(-2x)))\n",
    "        logdet = -2 * (x - math.log(2) + F.softplus(-2*x))\n",
    "        sum_logdets = sum_logdets + logdet.view_as(sum_logdets)\n",
    "        return x.tanh(), sum_logdets\n",
    "\n",
    "class FlowSequential(nn.Sequential):\n",
    "    \"\"\" Container for layers of a normalizing flow \"\"\"\n",
    "    def forward(self, x):\n",
    "        sum_logdets = torch.zeros(1, x.shape[1], 1, 1, device=x.device)\n",
    "        for module in self:\n",
    "            x, sum_logdets = module(x, sum_logdets)\n",
    "        return x, sum_logdets.squeeze()"
   ]
  },
  {
   "cell_type": "code",
   "execution_count": 17,
   "id": "50254d53",
   "metadata": {},
   "outputs": [],
   "source": [
    "''' Model '''\n",
    "\n",
    "class BNAF(nn.Module):\n",
    "    def __init__(self, data_dim, n_hidden, hidden_dim):\n",
    "        super().__init__()\n",
    "\n",
    "        # base distribution for calculation of log prob under the model\n",
    "        self.register_buffer('base_dist_mean', torch.zeros(data_dim))\n",
    "        self.register_buffer('base_dist_var', torch.ones(data_dim))\n",
    "\n",
    "        # construct model\n",
    "        modules = []\n",
    "        modules += [MaskedLinear(data_dim, hidden_dim, data_dim), Tanh()]\n",
    "        for _ in range(n_hidden):\n",
    "            modules += [MaskedLinear(hidden_dim, hidden_dim, data_dim), Tanh()]\n",
    "        modules += [MaskedLinear(hidden_dim, data_dim, data_dim)]\n",
    "        self.net = FlowSequential(*modules)\n",
    "\n",
    "        # TODO --   add permutation\n",
    "        #           add residual gate\n",
    "        #           add stack of flows\n",
    "\n",
    "    @property\n",
    "    def base_dist(self):\n",
    "        return D.Normal(self.base_dist_mean, self.base_dist_var)\n",
    "\n",
    "    def forward(self, x):\n",
    "        return self.net(x)\n",
    "\n",
    "def compute_kl_pq_loss(model, input_data):\n",
    "    input_data = input_data.to(model.base_dist.loc.device)\n",
    "    z, logdet = model(input_data)\n",
    "    return - torch.sum(model.base_dist.log_prob(z) + logdet, dim=1)"
   ]
  },
  {
   "cell_type": "code",
   "execution_count": 18,
   "id": "e03119c2",
   "metadata": {},
   "outputs": [],
   "source": [
    "''' Training ''' \n",
    "\n",
    "def train_flow(model, dataset, loss_fn, optimizer, scheduler, args):\n",
    "    model.train()\n",
    "\n",
    "    for idx in range(args.n_steps):\n",
    "        args.step += 1\n",
    "\n",
    "        input_data = dataset.__getitem__(idx)\n",
    "        input_data = input_data.reshape(1,-1)\n",
    "        loss = loss_fn(model, input_data).mean(0)\n",
    "\n",
    "        optimizer.zero_grad()\n",
    "        loss.backward()\n",
    "        optimizer.step()\n",
    "        scheduler.step(loss)\n",
    "\n",
    "        print(\"Step: {:03d}/{:03d} | Loss: {:14.2f}\".format(args.step, args.n_steps, loss.item()))\n",
    "        wandb.log({'Step': args.step, 'Loss': loss.item()})\n",
    "\n",
    "        if args.step % args.log_interval == 0:\n",
    "            # save model\n",
    "            torch.save({'step': args.step,\n",
    "                        'state_dict': model.state_dict()},\n",
    "                        os.path.join(args.output_dir, 'checkpoint.pt'))\n",
    "            torch.save({'optimizer': optimizer.state_dict(),\n",
    "                        'scheduler': scheduler.state_dict()},\n",
    "                        os.path.join(args.output_dir, 'optim_checkpoint.pt'))"
   ]
  },
  {
   "cell_type": "code",
   "execution_count": 19,
   "id": "b91993bf",
   "metadata": {},
   "outputs": [],
   "source": [
    "# Config to initialize wandb.\n",
    "DEFAULT_CFG = {\n",
    "    'model': 'BNAF',\n",
    "    'root_dir': ROOT,\n",
    "}"
   ]
  },
  {
   "cell_type": "code",
   "execution_count": 20,
   "id": "22141c47",
   "metadata": {},
   "outputs": [],
   "source": [
    "import warnings\n",
    "warnings.filterwarnings('ignore')\n",
    "\n",
    "# Get Args\n",
    "args = get_args()\n",
    "\n",
    "# Set custom args\n",
    "args.data_dim = 2048\n",
    "args.hidden_dim = 2048   #3072\n",
    "args.n_steps = 500\n",
    "args.log_interval = 200\n",
    "args.cuda = 0\n",
    "args.lr = 0.3\n",
    "args.step = 0\n",
    "\n",
    "# Set Seeds\n",
    "torch.manual_seed(args.seed)\n",
    "if args.device.type == 'cuda': \n",
    "    torch.cuda.manual_seed(args.seed)\n",
    "\n",
    "# Get Model\n",
    "model = BNAF(args.data_dim, args.n_hidden, args.hidden_dim).to(args.device)\n",
    "if args.restore_file:\n",
    "    model_checkpoint = torch.load(args.restore_file, map_location=args.device)\n",
    "    model.load_state_dict(model_checkpoint['state_dict'])\n",
    "    args.step = model_checkpoint['step']\n",
    "\n",
    "# Save Config\n",
    "config = 'Parsed args:\\n{}\\n\\n'.format(pprint.pformat(args.__dict__)) + \\\n",
    "            'Num trainable params: {:,.0f}\\n\\n'.format(sum(p.numel() for p in model.parameters())) + \\\n",
    "            'Model:\\n{}'.format(model)\n",
    "\n",
    "config_path = os.path.join(args.output_dir, 'config.txt')\n",
    "if not os.path.exists(config_path):\n",
    "    with open(config_path, 'a') as f:\n",
    "        print(config, file=f)\n",
    "\n",
    "# Get Optimizer + Scheduler\n",
    "optimizer = torch.optim.Adam(model.parameters(), lr=args.lr)\n",
    "scheduler = torch.optim.lr_scheduler.ReduceLROnPlateau(optimizer, factor=args.lr_decay, patience=args.lr_patience, verbose=True)\n",
    "if args.restore_file:\n",
    "    optim_checkpoint = torch.load(os.path.dirname(args.restore_file) + '/optim_checkpoint.pt', map_location=args.device)\n",
    "    optimizer.load_state_dict(optim_checkpoint['optimizer'])\n",
    "    scheduler.load_state_dict(optim_checkpoint['scheduler'])\n",
    "\n",
    "# Initialize Dataset \n",
    "dataset_file = DATA_ROOT + INPUT_FORMAT.format(0)\n",
    "dataset = ParquetDataset(dataset_file)\n",
    "\n",
    "# Define Loss\n",
    "loss_fn = compute_kl_pq_loss"
   ]
  },
  {
   "cell_type": "code",
   "execution_count": 21,
   "id": "44e15d02",
   "metadata": {},
   "outputs": [
    {
     "name": "stdout",
     "output_type": "stream",
     "text": [
      "['/content/drive/My Drive/_GSoC/Normalizing-Flows/logs/wandb/run-20210702_063355-pbccpm56/files/requirements.txt',\n",
      " '/content/drive/My Drive/_GSoC/Normalizing-Flows/logs/wandb/run-20210702_063355-pbccpm56/files/requirements.txt']"
     ]
    }
   ],
   "source": [
    "# Init Wandb\n",
    "os.environ[\"WANDB_SILENT\"] = \"true\"\n",
    "os.environ[\"WANDB_NOTES\"] = WANDB_DESC\n",
    "run = wandb.init(project='gnf', config=DEFAULT_CFG, dir=LOGS_ROOT)\n",
    "wandb.config.update(args)\n",
    "\n",
    "# Save files for later\n",
    "! pip freeze > requirements.txt\n",
    "wandb.save(ROOT + 'requirements.txt')\n",
    "# wandb.save(config_path)       # TODO: Fix permission issue on Colab."
   ]
  },
  {
   "cell_type": "code",
   "execution_count": 22,
   "id": "b1a2d5f4",
   "metadata": {},
   "outputs": [],
   "source": [
    "# Train The Model\n",
    "train_flow(model, dataset, loss_fn, optimizer, scheduler, args)"
   ]
  },
  {
   "cell_type": "code",
   "execution_count": 23,
   "id": "11d72e6d",
   "metadata": {},
   "outputs": [
    {
     "name": "stdout",
     "output_type": "stream",
     "text": [
      "0"
     ]
    }
   ],
   "source": [
    "00"
   ]
  },
  {
   "cell_type": "code",
   "execution_count": 24,
   "id": "9c603372",
   "metadata": {},
   "outputs": [],
   "source": [
    "def eval_bnaf(model, dataset, instance_idx, verbose=True):\n",
    "    input_data = dataset.__getitem__(instance_idx)\n",
    "    zzk, logdets = model(input_data.reshape(1,-1))\n",
    "    log_prob = model.base_dist.log_prob(zzk) + logdets\n",
    "    prob = log_prob.sum(1).exp().cpu()\n",
    "    pred = log_prob.reshape(1024,3).cpu().detach()\n",
    "\n",
    "    if verbose:\n",
    "        print('zzk:{}, logdets:{}'.format(zzk.shape, logdets.shape))\n",
    "        print('zzk:{}, logdets:{}'.format(prob.shape, log_prob.shape))\n",
    "        print('pred:{}'.format(pred.shape))\n",
    "\n",
    "    return input_data, pred\n",
    "\n",
    "input_data, pred = eval_bnaf(model, dataset, instance=0)"
   ]
  },
  {
   "cell_type": "code",
   "execution_count": 25,
   "id": "46a8848a",
   "metadata": {},
   "outputs": [],
   "source": [
    "def eval_bnaf(model, dataset, instance_idx, verbose=True):\n",
    "    input_data = dataset.__getitem__(instance_idx)\n",
    "    zzk, logdets = model(input_data.reshape(1,-1))\n",
    "    log_prob = model.base_dist.log_prob(zzk) + logdets\n",
    "    prob = log_prob.sum(1).exp().cpu()\n",
    "    pred = log_prob.reshape(1024,2).cpu().detach()\n",
    "\n",
    "    if verbose:\n",
    "        print('zzk:{}, logdets:{}'.format(zzk.shape, logdets.shape))\n",
    "        print('zzk:{}, logdets:{}'.format(prob.shape, log_prob.shape))\n",
    "        print('pred:{}'.format(pred.shape))\n",
    "\n",
    "    return input_data, pred\n",
    "\n",
    "input_data, pred = eval_bnaf(model, dataset, instance_idx=0)"
   ]
  },
  {
   "cell_type": "code",
   "execution_count": 26,
   "id": "3072ca4f",
   "metadata": {},
   "outputs": [],
   "source": [
    "vis(input_data)"
   ]
  },
  {
   "cell_type": "code",
   "execution_count": 27,
   "id": "b3f4f320",
   "metadata": {},
   "outputs": [
    {
     "name": "stdout",
     "output_type": "stream",
     "text": [
      "torch.Size([1024, 2])"
     ]
    }
   ],
   "source": [
    "input_data.shape"
   ]
  },
  {
   "cell_type": "code",
   "execution_count": 28,
   "id": "d4056e4a",
   "metadata": {},
   "outputs": [
    {
     "name": "stdout",
     "output_type": "stream",
     "text": [
      "2"
     ]
    }
   ],
   "source": [
    "input_data.shape[1]"
   ]
  },
  {
   "cell_type": "code",
   "execution_count": 29,
   "id": "b5103b4a",
   "metadata": {},
   "outputs": [],
   "source": [
    "def vis(arr, is_parsed=True, title=None, scale=1000, cmap='gist_heat', reduce=False):  \n",
    "    '''\n",
    "    Visualise a jet instance.\n",
    "    '''\n",
    "\n",
    "    if not is_parsed:   \n",
    "        arr = parse_img(arr, reduce)\n",
    "\n",
    "    if input_data.shape[1] == 2:\n",
    "        x_pos, y_pos, val = arr[:,0], arr[:,1], arr[:,2]\n",
    "    else:\n",
    "        x_pos, y_pos = arr[:,0], arr[:,1]\n",
    "        val = torch.ones_like(x_pos)\n",
    "        scale = None\n",
    "\n",
    "    if scale:\n",
    "        sz = np.array(np.abs(val)) * scale\n",
    "    else:\n",
    "        sz = np.ones_like(val) * 10\n",
    "        \n",
    "    plt.figure(figsize=[10,6], facecolor='#f0f0f0')\n",
    "    cm = plt.cm.get_cmap(cmap)     # 'gist_heat' / 'YlOrRd'\n",
    "    sc = plt.scatter(x_pos, y_pos, c=val, s=sz, cmap=cm, alpha=0.5, edgecolors='k')\n",
    "    plt.colorbar(sc)\n",
    "    plt.xlim(0, 126)\n",
    "    plt.ylim(0, 126)\n",
    "    plt.xticks(range(0,125,25))\n",
    "    plt.yticks(range(0,125,25))\n",
    "    plt.grid()\n",
    "    if title:\n",
    "        plt.title(title)\n",
    "    plt.show()"
   ]
  },
  {
   "cell_type": "code",
   "execution_count": 30,
   "id": "4eaa0ce1",
   "metadata": {},
   "outputs": [],
   "source": [
    "vis(input_data)"
   ]
  },
  {
   "cell_type": "code",
   "execution_count": 31,
   "id": "d2dcab05",
   "metadata": {},
   "outputs": [],
   "source": [
    "input_data.shape[2]"
   ]
  },
  {
   "cell_type": "code",
   "execution_count": 32,
   "id": "c0ee6489",
   "metadata": {},
   "outputs": [
    {
     "name": "stdout",
     "output_type": "stream",
     "text": [
      "2"
     ]
    }
   ],
   "source": [
    "input_data.shape[1]"
   ]
  },
  {
   "cell_type": "code",
   "execution_count": 33,
   "id": "d5b577ef",
   "metadata": {},
   "outputs": [],
   "source": [
    "def vis(arr, is_parsed=True, title=None, scale=1000, cmap='gist_heat', reduce=False):  \n",
    "    '''\n",
    "    Visualise a jet instance.\n",
    "    '''\n",
    "\n",
    "    if not is_parsed:   \n",
    "        arr = parse_img(arr, reduce)\n",
    "\n",
    "    if input_data.shape[1] == 3:\n",
    "        x_pos, y_pos, val = arr[:,0], arr[:,1], arr[:,2]\n",
    "    else:\n",
    "        x_pos, y_pos = arr[:,0], arr[:,1]\n",
    "        val = torch.ones_like(x_pos)\n",
    "        scale = None\n",
    "\n",
    "    if scale:\n",
    "        sz = np.array(np.abs(val)) * scale\n",
    "    else:\n",
    "        sz = np.ones_like(val) * 10\n",
    "        \n",
    "    plt.figure(figsize=[10,6], facecolor='#f0f0f0')\n",
    "    cm = plt.cm.get_cmap(cmap)     # 'gist_heat' / 'YlOrRd'\n",
    "    sc = plt.scatter(x_pos, y_pos, c=val, s=sz, cmap=cm, alpha=0.5, edgecolors='k')\n",
    "    plt.colorbar(sc)\n",
    "    plt.xlim(0, 126)\n",
    "    plt.ylim(0, 126)\n",
    "    plt.xticks(range(0,125,25))\n",
    "    plt.yticks(range(0,125,25))\n",
    "    plt.grid()\n",
    "    if title:\n",
    "        plt.title(title)\n",
    "    plt.show()"
   ]
  },
  {
   "cell_type": "code",
   "execution_count": 34,
   "id": "6d3c90a8",
   "metadata": {},
   "outputs": [],
   "source": [
    "vis(input_data)"
   ]
  },
  {
   "cell_type": "code",
   "execution_count": 35,
   "id": "60e1e029",
   "metadata": {},
   "outputs": [],
   "source": [
    "def vis(arr, is_parsed=True, title=None, scale=1000, cmap='gist_heat', reduce=False):  \n",
    "    '''\n",
    "    Visualise a jet instance.\n",
    "    '''\n",
    "\n",
    "    if not is_parsed:   \n",
    "        arr = parse_img(arr, reduce)\n",
    "\n",
    "    if input_data.shape[1] == 3:\n",
    "        x_pos, y_pos, val = arr[:,0], arr[:,1], arr[:,2]\n",
    "    elif input_data.shape[1] == 2:\n",
    "        x_pos, y_pos = arr[:,0], arr[:,1]\n",
    "        val = torch.ones_like(x_pos)\n",
    "        scale = None\n",
    "\n",
    "    if scale:\n",
    "        sz = np.array(np.abs(val)) * scale\n",
    "    else:\n",
    "        sz = np.ones_like(val) * 10\n",
    "        \n",
    "    plt.figure(figsize=[10,6], facecolor='#f0f0f0')\n",
    "    cm = plt.cm.get_cmap(cmap)     # 'gist_heat' / 'YlOrRd'\n",
    "    sc = plt.scatter(x_pos, y_pos, c=val, s=sz, cmap=cm, alpha=0.5, edgecolors='k')\n",
    "    plt.colorbar(sc)\n",
    "    plt.xlim(0, 126)\n",
    "    plt.ylim(0, 126)\n",
    "    plt.xticks(range(0,125,25))\n",
    "    plt.yticks(range(0,125,25))\n",
    "    plt.grid()\n",
    "    if title:\n",
    "        plt.title(title)\n",
    "    plt.show()"
   ]
  },
  {
   "cell_type": "code",
   "execution_count": 36,
   "id": "d70ec802",
   "metadata": {},
   "outputs": [],
   "source": [
    "vis(input_data)"
   ]
  },
  {
   "cell_type": "code",
   "execution_count": 37,
   "id": "758a7dfb",
   "metadata": {},
   "outputs": [],
   "source": [
    "def vis(arr, is_parsed=True, title=None, scale=1000, cmap='gist_heat', reduce=False):  \n",
    "    '''\n",
    "    Visualise a jet instance.\n",
    "    '''\n",
    "\n",
    "    if not is_parsed:   \n",
    "        arr = parse_img(arr, reduce)\n",
    "\n",
    "    if arr.shape[1] == 3:\n",
    "        x_pos, y_pos, val = arr[:,0], arr[:,1], arr[:,2]\n",
    "    elif arr.shape[1] == 2:\n",
    "        x_pos, y_pos = arr[:,0], arr[:,1]\n",
    "        val = torch.ones_like(x_pos)\n",
    "        scale = None\n",
    "\n",
    "    if scale:\n",
    "        sz = np.array(np.abs(val)) * scale\n",
    "    else:\n",
    "        sz = np.ones_like(val) * 10\n",
    "        \n",
    "    plt.figure(figsize=[10,6], facecolor='#f0f0f0')\n",
    "    cm = plt.cm.get_cmap(cmap)     # 'gist_heat' / 'YlOrRd'\n",
    "    sc = plt.scatter(x_pos, y_pos, c=val, s=sz, cmap=cm, alpha=0.5, edgecolors='k')\n",
    "    plt.colorbar(sc)\n",
    "    plt.xlim(0, 126)\n",
    "    plt.ylim(0, 126)\n",
    "    plt.xticks(range(0,125,25))\n",
    "    plt.yticks(range(0,125,25))\n",
    "    plt.grid()\n",
    "    if title:\n",
    "        plt.title(title)\n",
    "    plt.show()"
   ]
  },
  {
   "cell_type": "code",
   "execution_count": 38,
   "id": "a6ac801b",
   "metadata": {},
   "outputs": [],
   "source": [
    "vis(input_data)"
   ]
  },
  {
   "cell_type": "code",
   "execution_count": 39,
   "id": "ef03456a",
   "metadata": {},
   "outputs": [],
   "source": [
    "arr = input_data\n",
    "\n",
    "\n",
    "x_pos, y_pos = arr[:,0], arr[:,1]\n",
    "val = np.ones_like(x_pos)\n",
    "scale = None\n",
    "\n",
    "sz = np.ones_like(val) * 10\n",
    "    \n",
    "plt.figure(figsize=[10,6], facecolor='#f0f0f0')\n",
    "cm = plt.cm.get_cmap(cmap)     # 'gist_heat' / 'YlOrRd'\n",
    "sc = plt.scatter(x_pos, y_pos, c=val, s=sz, cmap=cm, alpha=0.5, edgecolors='k')\n",
    "plt.colorbar(sc)\n",
    "plt.xlim(0, 126)\n",
    "plt.ylim(0, 126)\n",
    "plt.xticks(range(0,125,25))\n",
    "plt.yticks(range(0,125,25))\n",
    "plt.grid()\n",
    "if title:\n",
    "    plt.title(title)\n",
    "plt.show()"
   ]
  },
  {
   "cell_type": "code",
   "execution_count": 40,
   "id": "6995de6a",
   "metadata": {},
   "outputs": [],
   "source": [
    "arr = input_data\n",
    "\n",
    "\n",
    "x_pos, y_pos = arr[:,0], arr[:,1]\n",
    "val = np.ones_like(x_pos)\n",
    "scale = None\n",
    "\n",
    "sz = np.ones_like(val) * 10\n",
    "    \n",
    "plt.figure(figsize=[10,6], facecolor='#f0f0f0')\n",
    "cm = plt.cm.get_cmap('gist_heat')     # 'gist_heat' / 'YlOrRd'\n",
    "sc = plt.scatter(x_pos, y_pos, c=val, s=sz, cmap=cm, alpha=0.5, edgecolors='k')\n",
    "plt.colorbar(sc)\n",
    "plt.xlim(0, 126)\n",
    "plt.ylim(0, 126)\n",
    "plt.xticks(range(0,125,25))\n",
    "plt.yticks(range(0,125,25))\n",
    "plt.grid()\n",
    "plt.show()"
   ]
  },
  {
   "cell_type": "code",
   "execution_count": 41,
   "id": "e60a39ed",
   "metadata": {},
   "outputs": [],
   "source": [
    "arr = input_data\n",
    "\n",
    "x_pos, y_pos = arr[:,0], arr[:,1]\n",
    "val = np.ones_like(x_pos)\n",
    "scale = None\n",
    "\n",
    "sz = np.ones_like(val) * 10\n",
    "print(x_pos.shape, y_pos.shape, val.shape)\n",
    "\n",
    "plt.figure(figsize=[10,6], facecolor='#f0f0f0')\n",
    "cm = plt.cm.get_cmap('gist_heat')     # 'gist_heat' / 'YlOrRd'\n",
    "sc = plt.scatter(x_pos, y_pos, c=val, s=sz, cmap=cm, alpha=0.5, edgecolors='k')\n",
    "plt.colorbar(sc)\n",
    "plt.xlim(0, 126)\n",
    "plt.ylim(0, 126)\n",
    "plt.xticks(range(0,125,25))\n",
    "plt.yticks(range(0,125,25))\n",
    "plt.grid()\n",
    "plt.show()"
   ]
  },
  {
   "cell_type": "code",
   "execution_count": 42,
   "id": "d52e6401",
   "metadata": {},
   "outputs": [
    {
     "name": "stdout",
     "output_type": "stream",
     "text": [
      "tensor([ 3, 10, 22,  ...,  0,  0,  0])"
     ]
    }
   ],
   "source": [
    "x_pos"
   ]
  },
  {
   "cell_type": "code",
   "execution_count": 43,
   "id": "c3f20581",
   "metadata": {},
   "outputs": [],
   "source": [
    "''' DOING IMPORTS '''\n",
    "\n",
    "%matplotlib inline\n",
    "\n",
    "import os\n",
    "import cv2\n",
    "import wandb\n",
    "import numpy as np\n",
    "import pandas as pd\n",
    "import pickle as pkl\n",
    "import matplotlib.pyplot as plt\n",
    "import pyarrow.parquet as pq\n",
    "from tqdm.auto import tqdm, trange\n",
    "import torch.nn.functional as F\n",
    "\n",
    "# Set Numpy Print Options\n",
    "np.set_printoptions(precision=3)\n",
    "np.set_printoptions(suppress=True)"
   ]
  },
  {
   "cell_type": "code",
   "execution_count": 44,
   "id": "d92f40c3",
   "metadata": {},
   "outputs": [],
   "source": [
    "''' CREATE AND SET DATA/CACHE DIRECTORIES '''\n",
    "\n",
    "ROOT = '/content/drive/My Drive/_GSoC/Normalizing-Flows/'\n",
    "DATA_ROOT = ROOT + \"data/\"\n",
    "CACHE_ROOT = ROOT + \"cache/\"\n",
    "LOGS_ROOT = ROOT + \"logs/\"\n",
    "\n",
    "os.chdir(ROOT)\n",
    "os.makedirs(DATA_ROOT, exist_ok=True)\n",
    "os.makedirs(CACHE_ROOT, exist_ok=True)\n",
    "os.makedirs(LOGS_ROOT, exist_ok=True)\n",
    "\n",
    "# Initialize scratch space on /content for faster read-write\n",
    "SCRATCH_ROOT = '/content/scratch/'   \n",
    "os.makedirs(SCRATCH_ROOT, exist_ok=True) \n",
    "\n",
    "# print('Directory Structure [Excluding Log/Temp Files]:')\n",
    "! tree -I 'model*|temp__*|wandb*|run_'"
   ]
  },
  {
   "cell_type": "code",
   "execution_count": 45,
   "id": "c9978183",
   "metadata": {},
   "outputs": [],
   "source": [
    "arr = input_data\n",
    "\n",
    "x_pos, y_pos = arr[:,0], arr[:,1]\n",
    "val = np.ones_like(x_pos)\n",
    "scale = None\n",
    "\n",
    "sz = np.ones_like(val) * 10\n",
    "print(x_pos.shape, y_pos.shape, val.shape)\n",
    "\n",
    "plt.figure(figsize=[10,6], facecolor='#f0f0f0')\n",
    "cm = plt.cm.get_cmap('gist_heat')     # 'gist_heat' / 'YlOrRd'\n",
    "sc = plt.scatter(x_pos, y_pos, c=val, s=sz, cmap=cm, alpha=0.5, edgecolors='k')\n",
    "plt.colorbar(sc)\n",
    "plt.xlim(0, 126)\n",
    "plt.ylim(0, 126)\n",
    "plt.xticks(range(0,125,25))\n",
    "plt.yticks(range(0,125,25))\n",
    "plt.grid()\n",
    "plt.show()"
   ]
  },
  {
   "cell_type": "code",
   "execution_count": 46,
   "id": "2a71cf20",
   "metadata": {},
   "outputs": [],
   "source": [
    "vis(input_data)"
   ]
  },
  {
   "cell_type": "code",
   "execution_count": 47,
   "id": "a7060174",
   "metadata": {},
   "outputs": [],
   "source": [
    "vis(input_data)"
   ]
  },
  {
   "cell_type": "code",
   "execution_count": 48,
   "id": "f3361da3",
   "metadata": {},
   "outputs": [],
   "source": [
    "vis(pred)"
   ]
  },
  {
   "cell_type": "code",
   "execution_count": 49,
   "id": "d56ac03d",
   "metadata": {},
   "outputs": [],
   "source": [
    "def analyse_prediction(pred):\n",
    "    fig, axes = plt.subplots(nrows=3, ncols=1, figsize=[12,12])\n",
    "    labels = ['X', 'Y', 'Energy']\n",
    "\n",
    "    for i,ax in enumerate(axes):\n",
    "        ax.plot(pred[:,i])\n",
    "        ax.set_title('Distribution of: {}'.format(labels[i]))\n",
    "        ax.grid()\n",
    "        ax.set_xlim(0,1025)\n",
    "        ax.set_xticks(range(0,1025,128))\n",
    "    plt.show()\n",
    "\n",
    "analyse_prediction(pred)"
   ]
  },
  {
   "cell_type": "code",
   "execution_count": 50,
   "id": "d60602cf",
   "metadata": {},
   "outputs": [],
   "source": [
    "def analyse_prediction(pred):\n",
    "    fig, axes = plt.subplots(nrows=2, ncols=1, figsize=[12,12])\n",
    "    labels = ['X', 'Y']\n",
    "\n",
    "    for i,ax in enumerate(axes):\n",
    "        ax.plot(pred[:,i])\n",
    "        ax.set_title('Distribution of: {}'.format(labels[i]))\n",
    "        ax.grid()\n",
    "        ax.set_xlim(0,1025)\n",
    "        ax.set_xticks(range(0,1025,128))\n",
    "    plt.show()\n",
    "\n",
    "analyse_prediction(pred)"
   ]
  },
  {
   "cell_type": "code",
   "execution_count": 51,
   "id": "731351f5",
   "metadata": {},
   "outputs": [],
   "source": [
    "p = abs(pred)\n",
    "print(p)"
   ]
  },
  {
   "cell_type": "code",
   "execution_count": 52,
   "id": "4c067868",
   "metadata": {},
   "outputs": [],
   "source": [
    "from sklearn.preprocessing import StandardScaler\n",
    "scaler = StandardScaler()\n",
    "p = scaler.fit_transform(abs(pred)))\n",
    "\n",
    "print(p)"
   ]
  },
  {
   "cell_type": "code",
   "execution_count": 53,
   "id": "ba9eef32",
   "metadata": {},
   "outputs": [],
   "source": [
    "from sklearn.preprocessing import StandardScaler\n",
    "scaler = StandardScaler()\n",
    "p = scaler.fit_transform(abs(pred))\n",
    "\n",
    "print(p)"
   ]
  },
  {
   "cell_type": "code",
   "execution_count": 54,
   "id": "973dec97",
   "metadata": {},
   "outputs": [],
   "source": [
    "# from sklearn.preprocessing import StandardScaler\n",
    "# scaler = StandardScaler()\n",
    "# p = scaler.fit_transform(abs(pred))\n",
    "\n",
    "print(p.max)"
   ]
  },
  {
   "cell_type": "code",
   "execution_count": 55,
   "id": "d2368bae",
   "metadata": {},
   "outputs": [],
   "source": [
    "# from sklearn.preprocessing import StandardScaler\n",
    "# scaler = StandardScaler()\n",
    "# p = scaler.fit_transform(abs(pred))\n",
    "\n",
    "print(p.max(), m.min())"
   ]
  },
  {
   "cell_type": "code",
   "execution_count": 56,
   "id": "a6bfe40f",
   "metadata": {},
   "outputs": [],
   "source": [
    "# from sklearn.preprocessing import StandardScaler\n",
    "# scaler = StandardScaler()\n",
    "# p = scaler.fit_transform(abs(pred))\n",
    "\n",
    "print(p.max(), p.min())"
   ]
  },
  {
   "cell_type": "code",
   "execution_count": 57,
   "id": "d4d340bb",
   "metadata": {},
   "outputs": [],
   "source": [
    "from sklearn.preprocessing import MinMaxScaler\n",
    "scaler = MinMaxScaler()\n",
    "p = scaler.fit_transform(abs(pred))\n",
    "\n",
    "print(p.max(), p.min())"
   ]
  },
  {
   "cell_type": "code",
   "execution_count": 58,
   "id": "bf8dfe9f",
   "metadata": {},
   "outputs": [],
   "source": [
    "from sklearn.preprocessing import MinMaxScaler\n",
    "scaler = MinMaxScaler()\n",
    "p = scaler.fit_transform(abs(pred)) * 125\n",
    "\n",
    "print(p.max(), p.min())"
   ]
  },
  {
   "cell_type": "code",
   "execution_count": 59,
   "id": "6ec0c3a0",
   "metadata": {},
   "outputs": [],
   "source": [
    "def analyse_prediction(pred):\n",
    "    fig, axes = plt.subplots(nrows=2, ncols=1, figsize=[12,12])\n",
    "    labels = ['X', 'Y']\n",
    "\n",
    "    for i,ax in enumerate(axes):\n",
    "        ax.plot(pred[:,i])\n",
    "        ax.set_title('Distribution of: {}'.format(labels[i]))\n",
    "        ax.grid()\n",
    "        ax.set_xlim(0,1025)\n",
    "        ax.set_xticks(range(0,1025,128))\n",
    "    plt.show()\n",
    "\n",
    "analyse_prediction(pred)"
   ]
  },
  {
   "cell_type": "code",
   "execution_count": 60,
   "id": "c7fc4c2c",
   "metadata": {},
   "outputs": [],
   "source": [
    "def analyse_prediction(pred):\n",
    "    fig, axes = plt.subplots(nrows=2, ncols=1, figsize=[12,12])\n",
    "    labels = ['X', 'Y']\n",
    "\n",
    "    for i,ax in enumerate(axes):\n",
    "        ax.plot(pred[:,i])\n",
    "        ax.set_title('Distribution of: {}'.format(labels[i]))\n",
    "        ax.grid()\n",
    "        ax.set_xlim(0,1025)\n",
    "        ax.set_xticks(range(0,1025,128))\n",
    "    plt.show()\n",
    "\n",
    "analyse_prediction(p)"
   ]
  },
  {
   "cell_type": "code",
   "execution_count": 61,
   "id": "d8f07b7c",
   "metadata": {},
   "outputs": [],
   "source": [
    "vis(p)"
   ]
  },
  {
   "cell_type": "code",
   "execution_count": 62,
   "id": "f50f7175",
   "metadata": {},
   "outputs": [],
   "source": [
    "from sklearn.preprocessing import MinMaxScaler\n",
    "scaler = MinMaxScaler()\n",
    "p = scaler.fit_transform(abs(pred)) * 125\n",
    "p = torch.Tensor(p)\n",
    "\n",
    "print(p.max(), p.min())"
   ]
  },
  {
   "cell_type": "code",
   "execution_count": 63,
   "id": "b7d5af79",
   "metadata": {},
   "outputs": [],
   "source": [
    "vis(p)"
   ]
  },
  {
   "cell_type": "code",
   "execution_count": 64,
   "id": "e3b3a536",
   "metadata": {},
   "outputs": [],
   "source": [
    "def eval_bnaf(model, dataset, instance_idx, scale=True, verbose=True):\n",
    "    input_data = dataset.__getitem__(instance_idx)\n",
    "    zzk, logdets = model(input_data.reshape(1,-1))\n",
    "    log_prob = model.base_dist.log_prob(zzk) + logdets\n",
    "    prob = log_prob.sum(1).exp().cpu()\n",
    "    pred = log_prob.reshape(1024,2).cpu().detach()\n",
    "\n",
    "    if verbose:\n",
    "        print('zzk:{}, logdets:{}'.format(zzk.shape, logdets.shape))\n",
    "        print('zzk:{}, logdets:{}'.format(prob.shape, log_prob.shape))\n",
    "        print('pred:{}'.format(pred.shape))\n",
    "\n",
    "    if scale:\n",
    "        scaler = MinMaxScaler()\n",
    "        pred = scaler.fit_transform(pred) * 125\n",
    "        pred = torch.Tensor(pred)\n",
    "\n",
    "    return input_data, pred\n",
    "\n",
    "input_data, pred = eval_bnaf(model, dataset, instance_idx=0)"
   ]
  },
  {
   "cell_type": "code",
   "execution_count": 65,
   "id": "a7b317d2",
   "metadata": {},
   "outputs": [
    {
     "name": "stdout",
     "output_type": "stream",
     "text": [
      "2"
     ]
    }
   ],
   "source": [
    "input_data.shape[1]"
   ]
  },
  {
   "cell_type": "code",
   "execution_count": 66,
   "id": "2dfc1cca",
   "metadata": {},
   "outputs": [],
   "source": [
    "vis(input_data)"
   ]
  },
  {
   "cell_type": "code",
   "execution_count": 67,
   "id": "7a4800cd",
   "metadata": {},
   "outputs": [],
   "source": [
    "vis(pred)"
   ]
  },
  {
   "cell_type": "code",
   "execution_count": 68,
   "id": "ed640e76",
   "metadata": {},
   "outputs": [],
   "source": [
    "def analyse_prediction(pred):\n",
    "    fig, axes = plt.subplots(nrows=2, ncols=1, figsize=[12,12])\n",
    "    labels = ['X', 'Y']\n",
    "\n",
    "    for i,ax in enumerate(axes):\n",
    "        ax.plot(pred[:,i])\n",
    "        ax.set_title('Distribution of: {}'.format(labels[i]))\n",
    "        ax.grid()\n",
    "        ax.set_xlim(0,1025)\n",
    "        ax.set_xticks(range(0,1025,128))\n",
    "    plt.show()\n",
    "\n",
    "analyse_prediction(pred)"
   ]
  },
  {
   "cell_type": "code",
   "execution_count": 69,
   "id": "38eaea5f",
   "metadata": {},
   "outputs": [],
   "source": [
    "from sklearn.preprocessing import MinMaxScaler\n",
    "\n",
    "def eval_bnaf(model, dataset, instance_idx, scale=True, verbose=True):\n",
    "    input_data = dataset.__getitem__(instance_idx)\n",
    "    zzk, logdets = model(input_data.reshape(1,-1))\n",
    "    log_prob = model.base_dist.log_prob(zzk) + logdets\n",
    "    prob = log_prob.sum(1).exp().cpu()\n",
    "    pred = log_prob.reshape(1024,2).cpu().detach()\n",
    "\n",
    "    if verbose:\n",
    "        print('zzk:{}, logdets:{}'.format(zzk.shape, logdets.shape))\n",
    "        print('zzk:{}, logdets:{}'.format(prob.shape, log_prob.shape))\n",
    "        print('pred:{}'.format(pred.shape))\n",
    "\n",
    "    if scale:\n",
    "        scaler = MinMaxScaler()\n",
    "        pred = scaler.fit_transform(pred) * 125\n",
    "        pred = torch.Tensor(pred)\n",
    "\n",
    "    return input_data, pred\n",
    "\n",
    "input_data, pred = eval_bnaf(model, dataset, instance_idx=1, scale=True)"
   ]
  },
  {
   "cell_type": "code",
   "execution_count": 70,
   "id": "89c3a3e3",
   "metadata": {},
   "outputs": [
    {
     "name": "stdout",
     "output_type": "stream",
     "text": [
      "2"
     ]
    }
   ],
   "source": [
    "input_data.shape[1]"
   ]
  },
  {
   "cell_type": "code",
   "execution_count": 71,
   "id": "01aa4b50",
   "metadata": {},
   "outputs": [],
   "source": [
    "vis(input_data)"
   ]
  },
  {
   "cell_type": "code",
   "execution_count": 72,
   "id": "4523f8ef",
   "metadata": {},
   "outputs": [],
   "source": [
    "vis(pred)"
   ]
  },
  {
   "cell_type": "code",
   "execution_count": 73,
   "id": "2700a2c5",
   "metadata": {},
   "outputs": [],
   "source": [
    "def analyse_prediction(pred):\n",
    "    fig, axes = plt.subplots(nrows=2, ncols=1, figsize=[12,12])\n",
    "    labels = ['X', 'Y']\n",
    "\n",
    "    for i,ax in enumerate(axes):\n",
    "        ax.plot(pred[:,i])\n",
    "        ax.set_title('Distribution of: {}'.format(labels[i]))\n",
    "        ax.grid()\n",
    "        ax.set_xlim(0,1025)\n",
    "        ax.set_xticks(range(0,1025,128))\n",
    "    plt.show()\n",
    "\n",
    "analyse_prediction(pred)"
   ]
  },
  {
   "cell_type": "code",
   "execution_count": 74,
   "id": "5c7901ae",
   "metadata": {},
   "outputs": [],
   "source": [
    "def analyse_prediction(input_data, pred):\n",
    "    fig, axes = plt.subplots(nrows=2, ncols=1, figsize=[12,12])\n",
    "    labels = ['X', 'Y']\n",
    "\n",
    "    for i,ax in enumerate(axes):\n",
    "        ax.plot(input_data[:,i], label='labels')\n",
    "        ax.plot(pred[:,i], label='prediction')\n",
    "        ax.set_title('Distribution of: {}'.format(labels[i]))\n",
    "        ax.grid()\n",
    "        ax.set_xlim(0,1025)\n",
    "        ax.set_xticks(range(0,1025,128))\n",
    "        ax.legend()\n",
    "    plt.show()\n",
    "\n",
    "analyse_prediction(pred)"
   ]
  },
  {
   "cell_type": "code",
   "execution_count": 75,
   "id": "66ba10b0",
   "metadata": {},
   "outputs": [],
   "source": [
    "def analyse_prediction(input_data, pred):\n",
    "    fig, axes = plt.subplots(nrows=2, ncols=1, figsize=[12,12])\n",
    "    labels = ['X', 'Y']\n",
    "\n",
    "    for i,ax in enumerate(axes):\n",
    "        ax.plot(input_data[:,i], label='labels')\n",
    "        ax.plot(pred[:,i], label='prediction')\n",
    "        ax.set_title('Distribution of: {}'.format(labels[i]))\n",
    "        ax.grid()\n",
    "        ax.set_xlim(0,1025)\n",
    "        ax.set_xticks(range(0,1025,128))\n",
    "        ax.legend()\n",
    "    plt.show()\n",
    "\n",
    "analyse_prediction(input_data, pred)"
   ]
  },
  {
   "cell_type": "code",
   "execution_count": 76,
   "id": "dc799c8f",
   "metadata": {},
   "outputs": [],
   "source": [
    "def analyse_prediction(data, pred):\n",
    "    fig, axes = plt.subplots(nrows=2, ncols=1, figsize=[12,12])\n",
    "    labels = ['X', 'Y']\n",
    "\n",
    "    for i,ax in enumerate(axes):\n",
    "        ax.plot(pred[:,i], label='prediction', col='lightskyblue')\n",
    "        ax.plot(data[:,i], label='labels')\n",
    "        ax.set_title('Distribution of: {}'.format(labels[i]))\n",
    "        ax.grid()\n",
    "        ax.set_xlim(0,1025)\n",
    "        ax.set_xticks(range(0,1025,128))\n",
    "        ax.legend()\n",
    "    plt.show()\n",
    "\n",
    "analyse_prediction(input_data, pred)"
   ]
  },
  {
   "cell_type": "code",
   "execution_count": 77,
   "id": "211dcdb6",
   "metadata": {},
   "outputs": [],
   "source": [
    "def analyse_prediction(data, pred):\n",
    "    fig, axes = plt.subplots(nrows=2, ncols=1, figsize=[12,12])\n",
    "    labels = ['X', 'Y']\n",
    "\n",
    "    for i,ax in enumerate(axes):\n",
    "        ax.plot(pred[:,i], label='prediction', c='lightskyblue')\n",
    "        ax.plot(data[:,i], label='labels')\n",
    "        ax.set_title('Distribution of: {}'.format(labels[i]))\n",
    "        ax.grid()\n",
    "        ax.set_xlim(0,1025)\n",
    "        ax.set_xticks(range(0,1025,128))\n",
    "        ax.legend()\n",
    "    plt.show()\n",
    "\n",
    "analyse_prediction(input_data, pred)"
   ]
  },
  {
   "cell_type": "code",
   "execution_count": 78,
   "id": "bde2d9fa",
   "metadata": {},
   "outputs": [],
   "source": [
    "def analyse_prediction(data, pred):\n",
    "    fig, axes = plt.subplots(nrows=2, ncols=1, figsize=[12,12])\n",
    "    labels = ['X', 'Y']\n",
    "\n",
    "    for i,ax in enumerate(axes):\n",
    "        ax.plot(pred[:,i], label='prediction', c='lightskyblue')\n",
    "        ax.plot(data[:,i], label='labels', c='navy')\n",
    "        ax.set_title('Distribution of: {}'.format(labels[i]))\n",
    "        ax.grid()\n",
    "        ax.set_xlim(0,1025)\n",
    "        ax.set_xticks(range(0,1025,128))\n",
    "        ax.legend()\n",
    "    plt.show()\n",
    "\n",
    "analyse_prediction(input_data, pred)"
   ]
  },
  {
   "cell_type": "code",
   "execution_count": 79,
   "id": "a5779eef",
   "metadata": {},
   "outputs": [],
   "source": [
    "data[:,0]"
   ]
  },
  {
   "cell_type": "code",
   "execution_count": 80,
   "id": "41d62a14",
   "metadata": {},
   "outputs": [
    {
     "name": "stdout",
     "output_type": "stream",
     "text": [
      "tensor([0, 0, 0,  ..., 0, 0, 0])"
     ]
    }
   ],
   "source": [
    "input_data[:,0]"
   ]
  },
  {
   "cell_type": "code",
   "execution_count": 81,
   "id": "e7a3c959",
   "metadata": {},
   "outputs": [],
   "source": [
    "k = [1,2,3,4,0,0,0]\n",
    "k.nonzero"
   ]
  },
  {
   "cell_type": "code",
   "execution_count": 82,
   "id": "43000190",
   "metadata": {},
   "outputs": [
    {
     "name": "stdout",
     "output_type": "stream",
     "text": [
      "<function Tensor.nonzero>"
     ]
    }
   ],
   "source": [
    "k = torch.Tensor([1,2,3,4,0,0,0])\n",
    "k.nonzero"
   ]
  },
  {
   "cell_type": "code",
   "execution_count": 83,
   "id": "4a8cf7f4",
   "metadata": {},
   "outputs": [
    {
     "name": "stdout",
     "output_type": "stream",
     "text": [
      "tensor([[0],\n",
      "        [1],\n",
      "        [2],\n",
      "        [3]])"
     ]
    }
   ],
   "source": [
    "k = torch.Tensor([1,2,3,4,0,0,0])\n",
    "k.nonzero()"
   ]
  },
  {
   "cell_type": "code",
   "execution_count": 84,
   "id": "c3bd3ba3",
   "metadata": {},
   "outputs": [
    {
     "name": "stdout",
     "output_type": "stream",
     "text": [
      "4"
     ]
    }
   ],
   "source": [
    "k = torch.Tensor([1,2,3,4,0,0,0])\n",
    "len(k.nonzero())"
   ]
  },
  {
   "cell_type": "code",
   "execution_count": 85,
   "id": "a58276e3",
   "metadata": {},
   "outputs": [],
   "source": [
    "def analyse_prediction(data, pred):\n",
    "    fig, axes = plt.subplots(nrows=2, ncols=1, figsize=[12,12])\n",
    "    labels = ['X', 'Y']\n",
    "\n",
    "    for i,ax in enumerate(axes):\n",
    "        ax.plot(pred[:,i], label='prediction', c='lightskyblue')\n",
    "        ax.plot(data[:,i], label='labels', c='navy')\n",
    "        ax.set_title('Distribution of: {}'.format(labels[i]))\n",
    "        ax.grid()\n",
    "        ax.set_xlim(0,1025)\n",
    "        ax.set_xticks(range(0,1025,128))\n",
    "        ax.legend()\n",
    "    plt.show()\n",
    "\n",
    "analyse_prediction(input_data, pred)"
   ]
  },
  {
   "cell_type": "code",
   "execution_count": 86,
   "id": "bcaa69d6",
   "metadata": {},
   "outputs": [],
   "source": [
    "(1024 / 300) * list(range(0,1024))"
   ]
  },
  {
   "cell_type": "code",
   "execution_count": 87,
   "id": "b0d6972f",
   "metadata": {},
   "outputs": [
    {
     "name": "stdout",
     "output_type": "stream",
     "text": [
      "array([   0.   ,    3.413,    6.827, ..., 3485.013, 3488.427, 3491.84 ])"
     ]
    }
   ],
   "source": [
    "(1024 / 300) * np.array(range(0,1024))"
   ]
  },
  {
   "cell_type": "code",
   "execution_count": 88,
   "id": "63d05376",
   "metadata": {},
   "outputs": [
    {
     "name": "stdout",
     "output_type": "stream",
     "text": [
      "array([   0.   ,    3.413,    6.827,   10.24 ,   13.653,   17.067,\n",
      "         20.48 ,   23.893,   27.307,   30.72 ,   34.133,   37.547,\n",
      "         40.96 ,   44.373,   47.787,   51.2  ,   54.613,   58.027,\n",
      "         61.44 ,   64.853,   68.267,   71.68 ,   75.093,   78.507,\n",
      "         81.92 ,   85.333,   88.747,   92.16 ,   95.573,   98.987,\n",
      "        102.4  ,  105.813,  109.227,  112.64 ,  116.053,  119.467,\n",
      "        122.88 ,  126.293,  129.707,  133.12 ,  136.533,  139.947,\n",
      "        143.36 ,  146.773,  150.187,  153.6  ,  157.013,  160.427,\n",
      "        163.84 ,  167.253,  170.667,  174.08 ,  177.493,  180.907,\n",
      "        184.32 ,  187.733,  191.147,  194.56 ,  197.973,  201.387,\n",
      "        204.8  ,  208.213,  211.627,  215.04 ,  218.453,  221.867,\n",
      "        225.28 ,  228.693,  232.107,  235.52 ,  238.933,  242.347,\n",
      "        245.76 ,  249.173,  252.587,  256.   ,  259.413,  262.827,\n",
      "        266.24 ,  269.653,  273.067,  276.48 ,  279.893,  283.307,\n",
      "        286.72 ,  290.133,  293.547,  296.96 ,  300.373,  303.787,\n",
      "        307.2  ,  310.613,  314.027,  317.44 ,  320.853,  324.267,\n",
      "        327.68 ,  331.093,  334.507,  337.92 ,  341.333,  344.747,\n",
      "        348.16 ,  351.573,  354.987,  358.4  ,  361.813,  365.227,\n",
      "        368.64 ,  372.053,  375.467,  378.88 ,  382.293,  385.707,\n",
      "        389.12 ,  392.533,  395.947,  399.36 ,  402.773,  406.187,\n",
      "        409.6  ,  413.013,  416.427,  419.84 ,  423.253,  426.667,\n",
      "        430.08 ,  433.493,  436.907,  440.32 ,  443.733,  447.147,\n",
      "        450.56 ,  453.973,  457.387,  460.8  ,  464.213,  467.627,\n",
      "        471.04 ,  474.453,  477.867,  481.28 ,  484.693,  488.107,\n",
      "        491.52 ,  494.933,  498.347,  501.76 ,  505.173,  508.587,\n",
      "        512.   ,  515.413,  518.827,  522.24 ,  525.653,  529.067,\n",
      "        532.48 ,  535.893,  539.307,  542.72 ,  546.133,  549.547,\n",
      "        552.96 ,  556.373,  559.787,  563.2  ,  566.613,  570.027,\n",
      "        573.44 ,  576.853,  580.267,  583.68 ,  587.093,  590.507,\n",
      "        593.92 ,  597.333,  600.747,  604.16 ,  607.573,  610.987,\n",
      "        614.4  ,  617.813,  621.227,  624.64 ,  628.053,  631.467,\n",
      "        634.88 ,  638.293,  641.707,  645.12 ,  648.533,  651.947,\n",
      "        655.36 ,  658.773,  662.187,  665.6  ,  669.013,  672.427,\n",
      "        675.84 ,  679.253,  682.667,  686.08 ,  689.493,  692.907,\n",
      "        696.32 ,  699.733,  703.147,  706.56 ,  709.973,  713.387,\n",
      "        716.8  ,  720.213,  723.627,  727.04 ,  730.453,  733.867,\n",
      "        737.28 ,  740.693,  744.107,  747.52 ,  750.933,  754.347,\n",
      "        757.76 ,  761.173,  764.587,  768.   ,  771.413,  774.827,\n",
      "        778.24 ,  781.653,  785.067,  788.48 ,  791.893,  795.307,\n",
      "        798.72 ,  802.133,  805.547,  808.96 ,  812.373,  815.787,\n",
      "        819.2  ,  822.613,  826.027,  829.44 ,  832.853,  836.267,\n",
      "        839.68 ,  843.093,  846.507,  849.92 ,  853.333,  856.747,\n",
      "        860.16 ,  863.573,  866.987,  870.4  ,  873.813,  877.227,\n",
      "        880.64 ,  884.053,  887.467,  890.88 ,  894.293,  897.707,\n",
      "        901.12 ,  904.533,  907.947,  911.36 ,  914.773,  918.187,\n",
      "        921.6  ,  925.013,  928.427,  931.84 ,  935.253,  938.667,\n",
      "        942.08 ,  945.493,  948.907,  952.32 ,  955.733,  959.147,\n",
      "        962.56 ,  965.973,  969.387,  972.8  ,  976.213,  979.627,\n",
      "        983.04 ,  986.453,  989.867,  993.28 ,  996.693, 1000.107,\n",
      "       1003.52 , 1006.933, 1010.347, 1013.76 , 1017.173, 1020.587])"
     ]
    }
   ],
   "source": [
    "(1024 / 300) * np.array(range(0,300))"
   ]
  },
  {
   "cell_type": "code",
   "execution_count": 89,
   "id": "34665546",
   "metadata": {},
   "outputs": [],
   "source": [
    "def analyse_prediction(data, pred):\n",
    "    fig, axes = plt.subplots(nrows=2, ncols=1, figsize=[12,12])\n",
    "    labels = ['X', 'Y']\n",
    "    n_hits = len(data.nonzero())\n",
    "\n",
    "    for i,ax in enumerate(axes):\n",
    "        pred_idx = np.array(range(0,1024))\n",
    "        data_idx = (1024 / n_hits) * np.array(range(0,n_hits))\n",
    "        ax.plot(pred_idx, pred[:,i], label='prediction', c='lightskyblue')\n",
    "        ax.plot(data_idx, data[:,i], label='labels', c='navy')\n",
    "        ax.set_title('Distribution of: {}'.format(labels[i]))\n",
    "        ax.grid()\n",
    "        ax.set_xlim(0,1025)\n",
    "        ax.set_xticks(range(0,1025,128))\n",
    "        ax.legend()\n",
    "    plt.show()\n",
    "\n",
    "analyse_prediction(input_data, pred)"
   ]
  },
  {
   "cell_type": "code",
   "execution_count": 90,
   "id": "cf947080",
   "metadata": {},
   "outputs": [],
   "source": [
    "def analyse_prediction(data, pred):\n",
    "    fig, axes = plt.subplots(nrows=2, ncols=1, figsize=[12,12])\n",
    "    labels = ['X', 'Y']\n",
    "    n_hits = len(data.nonzero())\n",
    "    data[data.nonzero()]\n",
    "\n",
    "    for i,ax in enumerate(axes):\n",
    "        pred_idx = np.array(range(0,1024))\n",
    "        data_idx = (1024 / n_hits) * np.array(range(0,n_hits))\n",
    "        ax.plot(pred_idx, pred[:,i], label='prediction', c='lightskyblue')\n",
    "        ax.plot(data_idx, data[:,i], label='labels', c='navy')\n",
    "        ax.set_title('Distribution of: {}'.format(labels[i]))\n",
    "        ax.grid()\n",
    "        ax.set_xlim(0,1025)\n",
    "        ax.set_xticks(range(0,1025,128))\n",
    "        ax.legend()\n",
    "    plt.show()\n",
    "\n",
    "analyse_prediction(input_data, pred)"
   ]
  },
  {
   "cell_type": "code",
   "execution_count": 91,
   "id": "70ca9551",
   "metadata": {},
   "outputs": [],
   "source": [
    "def analyse_prediction(data, pred):\n",
    "    fig, axes = plt.subplots(nrows=2, ncols=1, figsize=[12,12])\n",
    "    labels = ['X', 'Y']\n",
    "    n_hits = len(data.nonzero())\n",
    "    print(n_hits)\n",
    "    data[data.nonzero()]\n",
    "\n",
    "    for i,ax in enumerate(axes):\n",
    "        pred_idx = np.array(range(0,1024))\n",
    "        data_idx = (1024 / n_hits) * np.array(range(0,n_hits))\n",
    "        ax.plot(pred_idx, pred[:,i], label='prediction', c='lightskyblue')\n",
    "        ax.plot(data_idx, data[:,i], label='labels', c='navy')\n",
    "        ax.set_title('Distribution of: {}'.format(labels[i]))\n",
    "        ax.grid()\n",
    "        ax.set_xlim(0,1025)\n",
    "        ax.set_xticks(range(0,1025,128))\n",
    "        ax.legend()\n",
    "    plt.show()\n",
    "\n",
    "analyse_prediction(input_data, pred)"
   ]
  },
  {
   "cell_type": "code",
   "execution_count": 92,
   "id": "c35b53ba",
   "metadata": {},
   "outputs": [],
   "source": [
    "def analyse_prediction(data, pred):\n",
    "    fig, axes = plt.subplots(nrows=2, ncols=1, figsize=[12,12])\n",
    "    labels = ['X', 'Y']\n",
    "    n_hits = len(data.nonzero())\n",
    "    print(n_hits)\n",
    "    data = data[data.nonzero()]\n",
    "\n",
    "    for i,ax in enumerate(axes):\n",
    "        pred_idx = np.array(range(0,1024))\n",
    "        data_idx = (1024 / n_hits) * np.array(range(0,n_hits))\n",
    "        print(data_idx.shape, data.shape)\n",
    "        ax.plot(pred_idx, pred[:,i], label='prediction', c='lightskyblue')\n",
    "        ax.plot(data_idx, data[:,i], label='labels', c='navy')\n",
    "        ax.set_title('Distribution of: {}'.format(labels[i]))\n",
    "        ax.grid()\n",
    "        ax.set_xlim(0,1025)\n",
    "        ax.set_xticks(range(0,1025,128))\n",
    "        ax.legend()\n",
    "    plt.show()\n",
    "\n",
    "analyse_prediction(input_data, pred)"
   ]
  },
  {
   "cell_type": "code",
   "execution_count": 93,
   "id": "800863de",
   "metadata": {},
   "outputs": [],
   "source": [
    "def analyse_prediction(data, pred):\n",
    "    fig, axes = plt.subplots(nrows=2, ncols=1, figsize=[12,12])\n",
    "    labels = ['X', 'Y']\n",
    "    n_hits = len(data.nonzero())\n",
    "    # print(n_hits)\n",
    "    data = data[data.nonzero()]\n",
    "\n",
    "    for i,ax in enumerate(axes):\n",
    "        pred_idx = np.array(range(0,1024))\n",
    "        data_idx = (1024 / n_hits) * np.array(range(0,n_hits))\n",
    "        # print(data_idx.shape, data.shape)\n",
    "        ax.plot(pred_idx, pred[:,i], label='prediction', c='lightskyblue')\n",
    "        ax.plot(data_idx, data[:,i], label='labels', c='navy')\n",
    "        ax.set_title('Distribution of: {}'.format(labels[i]))\n",
    "        ax.grid()\n",
    "        ax.set_xlim(0,1025)\n",
    "        ax.set_xticks(range(0,1025,128))\n",
    "        ax.legend()\n",
    "    plt.show()\n",
    "\n",
    "analyse_prediction(input_data, pred)"
   ]
  },
  {
   "cell_type": "code",
   "execution_count": 94,
   "id": "82ec6382",
   "metadata": {},
   "outputs": [],
   "source": [
    "def analyse_prediction(data, pred):\n",
    "    fig, axes = plt.subplots(nrows=2, ncols=1, figsize=[12,12])\n",
    "    labels = ['X', 'Y']\n",
    "    n_hits = len(data.nonzero())\n",
    "    # print(n_hits)\n",
    "    data = data[data.nonzero()]\n",
    "\n",
    "    for i,ax in enumerate(axes):\n",
    "        pred_idx = np.array(range(0,1024))\n",
    "        data_idx = (1024 / n_hits) * np.array(range(0,n_hits))\n",
    "        print(data_idx.shape, data.shape)\n",
    "        print(pred[:,i].shape, data[:,i].shape)\n",
    "        ax.plot(pred_idx, pred[:,i], label='prediction', c='lightskyblue')\n",
    "        ax.plot(data_idx, data[:,i], label='labels', c='navy')\n",
    "        ax.set_title('Distribution of: {}'.format(labels[i]))\n",
    "        ax.grid()\n",
    "        ax.set_xlim(0,1025)\n",
    "        ax.set_xticks(range(0,1025,128))\n",
    "        ax.legend()\n",
    "    plt.show()\n",
    "\n",
    "analyse_prediction(input_data, pred)"
   ]
  },
  {
   "cell_type": "code",
   "execution_count": 95,
   "id": "2e7b16a9",
   "metadata": {},
   "outputs": [],
   "source": [
    "def analyse_prediction(data, pred):\n",
    "    fig, axes = plt.subplots(nrows=2, ncols=1, figsize=[12,12])\n",
    "    labels = ['X', 'Y']\n",
    "    n_hits = len(data.nonzero())\n",
    "    # print(n_hits)\n",
    "    print(data.shape)\n",
    "    data = data[data.nonzero()]\n",
    "    print(data.shape)\n",
    "    return\n",
    "\n",
    "    for i,ax in enumerate(axes):\n",
    "        pred_idx = np.array(range(0,1024))\n",
    "        data_idx = (1024 / n_hits) * np.array(range(0,n_hits))\n",
    "        print(data_idx.shape, data.shape)\n",
    "        print(pred[:,i].shape, data[:,i].shape)\n",
    "        ax.plot(pred_idx, pred[:,i], label='prediction', c='lightskyblue')\n",
    "        ax.plot(data_idx, data[:,i], label='labels', c='navy')\n",
    "        ax.set_title('Distribution of: {}'.format(labels[i]))\n",
    "        ax.grid()\n",
    "        ax.set_xlim(0,1025)\n",
    "        ax.set_xticks(range(0,1025,128))\n",
    "        ax.legend()\n",
    "    plt.show()\n",
    "\n",
    "analyse_prediction(input_data, pred)"
   ]
  },
  {
   "cell_type": "code",
   "execution_count": 96,
   "id": "06a7d8dd",
   "metadata": {},
   "outputs": [],
   "source": [
    "def analyse_prediction(data, pred):\n",
    "    fig, axes = plt.subplots(nrows=2, ncols=1, figsize=[12,12])\n",
    "    labels = ['X', 'Y']\n",
    "    n_hits = len(data.nonzero())\n",
    "    # print(n_hits)\n",
    "    print(data.shape)\n",
    "    data = data[:,:data.nonzero()]\n",
    "    print(data.shape)\n",
    "    return\n",
    "\n",
    "    for i,ax in enumerate(axes):\n",
    "        pred_idx = np.array(range(0,1024))\n",
    "        data_idx = (1024 / n_hits) * np.array(range(0,n_hits))\n",
    "        print(data_idx.shape, data.shape)\n",
    "        print(pred[:,i].shape, data[:,i].shape)\n",
    "        ax.plot(pred_idx, pred[:,i], label='prediction', c='lightskyblue')\n",
    "        ax.plot(data_idx, data[:,i], label='labels', c='navy')\n",
    "        ax.set_title('Distribution of: {}'.format(labels[i]))\n",
    "        ax.grid()\n",
    "        ax.set_xlim(0,1025)\n",
    "        ax.set_xticks(range(0,1025,128))\n",
    "        ax.legend()\n",
    "    plt.show()\n",
    "\n",
    "analyse_prediction(input_data, pred)"
   ]
  },
  {
   "cell_type": "code",
   "execution_count": 97,
   "id": "4b5a680f",
   "metadata": {},
   "outputs": [],
   "source": [
    "def analyse_prediction(data, pred):\n",
    "    fig, axes = plt.subplots(nrows=2, ncols=1, figsize=[12,12])\n",
    "    labels = ['X', 'Y']\n",
    "    n_hits = len(data.nonzero())\n",
    "    # print(n_hits)\n",
    "    print(data.shape)\n",
    "    data = data[:,:n_hits]\n",
    "    print(data.shape)\n",
    "    return\n",
    "\n",
    "    for i,ax in enumerate(axes):\n",
    "        pred_idx = np.array(range(0,1024))\n",
    "        data_idx = (1024 / n_hits) * np.array(range(0,n_hits))\n",
    "        print(data_idx.shape, data.shape)\n",
    "        print(pred[:,i].shape, data[:,i].shape)\n",
    "        ax.plot(pred_idx, pred[:,i], label='prediction', c='lightskyblue')\n",
    "        ax.plot(data_idx, data[:,i], label='labels', c='navy')\n",
    "        ax.set_title('Distribution of: {}'.format(labels[i]))\n",
    "        ax.grid()\n",
    "        ax.set_xlim(0,1025)\n",
    "        ax.set_xticks(range(0,1025,128))\n",
    "        ax.legend()\n",
    "    plt.show()\n",
    "\n",
    "analyse_prediction(input_data, pred)"
   ]
  },
  {
   "cell_type": "code",
   "execution_count": 98,
   "id": "d19f1b88",
   "metadata": {},
   "outputs": [],
   "source": [
    "def analyse_prediction(data, pred):\n",
    "    fig, axes = plt.subplots(nrows=2, ncols=1, figsize=[12,12])\n",
    "    labels = ['X', 'Y']\n",
    "    n_hits = len(data.nonzero())\n",
    "    # print(n_hits)\n",
    "    print(data.shape)\n",
    "    data = data[:n_hits,:]\n",
    "    print(data.shape)\n",
    "    return\n",
    "\n",
    "    for i,ax in enumerate(axes):\n",
    "        pred_idx = np.array(range(0,1024))\n",
    "        data_idx = (1024 / n_hits) * np.array(range(0,n_hits))\n",
    "        print(data_idx.shape, data.shape)\n",
    "        print(pred[:,i].shape, data[:,i].shape)\n",
    "        ax.plot(pred_idx, pred[:,i], label='prediction', c='lightskyblue')\n",
    "        ax.plot(data_idx, data[:,i], label='labels', c='navy')\n",
    "        ax.set_title('Distribution of: {}'.format(labels[i]))\n",
    "        ax.grid()\n",
    "        ax.set_xlim(0,1025)\n",
    "        ax.set_xticks(range(0,1025,128))\n",
    "        ax.legend()\n",
    "    plt.show()\n",
    "\n",
    "analyse_prediction(input_data, pred)"
   ]
  },
  {
   "cell_type": "code",
   "execution_count": 99,
   "id": "4c5eb906",
   "metadata": {},
   "outputs": [],
   "source": [
    "def analyse_prediction(data, pred):\n",
    "    fig, axes = plt.subplots(nrows=2, ncols=1, figsize=[12,12])\n",
    "    labels = ['X', 'Y']\n",
    "    n_hits = len(data.nonzero())\n",
    "    # print(n_hits)\n",
    "    print(data.shape)\n",
    "    data = data[:n_hits]\n",
    "    print(data.shape)\n",
    "    return\n",
    "\n",
    "    for i,ax in enumerate(axes):\n",
    "        pred_idx = np.array(range(0,1024))\n",
    "        data_idx = (1024 / n_hits) * np.array(range(0,n_hits))\n",
    "        print(data_idx.shape, data.shape)\n",
    "        print(pred[:,i].shape, data[:,i].shape)\n",
    "        ax.plot(pred_idx, pred[:,i], label='prediction', c='lightskyblue')\n",
    "        ax.plot(data_idx, data[:,i], label='labels', c='navy')\n",
    "        ax.set_title('Distribution of: {}'.format(labels[i]))\n",
    "        ax.grid()\n",
    "        ax.set_xlim(0,1025)\n",
    "        ax.set_xticks(range(0,1025,128))\n",
    "        ax.legend()\n",
    "    plt.show()\n",
    "\n",
    "analyse_prediction(input_data, pred)"
   ]
  },
  {
   "cell_type": "code",
   "execution_count": 100,
   "id": "8693388a",
   "metadata": {},
   "outputs": [],
   "source": [
    "def analyse_prediction(data, pred):\n",
    "    fig, axes = plt.subplots(nrows=2, ncols=1, figsize=[12,12])\n",
    "    labels = ['X', 'Y']\n",
    "    n_hits = len(data.nonzero())\n",
    "    # print(n_hits)\n",
    "    print(data.shape)\n",
    "    data = data[:n_hits]\n",
    "    print(data.shape)\n",
    "    # return\n",
    "\n",
    "    for i,ax in enumerate(axes):\n",
    "        pred_idx = np.array(range(0,1024))\n",
    "        data_idx = (1024 / n_hits) * np.array(range(0,n_hits))\n",
    "        print(data_idx.shape, data.shape)\n",
    "        print(pred[:,i].shape, data[:,i].shape)\n",
    "        ax.plot(pred_idx, pred[:,i], label='prediction', c='lightskyblue')\n",
    "        ax.plot(data_idx, data[:,i], label='labels', c='navy')\n",
    "        ax.set_title('Distribution of: {}'.format(labels[i]))\n",
    "        ax.grid()\n",
    "        ax.set_xlim(0,1025)\n",
    "        ax.set_xticks(range(0,1025,128))\n",
    "        ax.legend()\n",
    "    plt.show()\n",
    "\n",
    "analyse_prediction(input_data, pred)"
   ]
  },
  {
   "cell_type": "code",
   "execution_count": 101,
   "id": "a414f8e0",
   "metadata": {},
   "outputs": [],
   "source": [
    "def analyse_prediction(data, pred):\n",
    "    fig, axes = plt.subplots(nrows=2, ncols=1, figsize=[12,12])\n",
    "    labels = ['X', 'Y']\n",
    "    n_hits = len(data.nonzero())\n",
    "    data = data[:n_hits]\n",
    "\n",
    "    for i,ax in enumerate(axes):\n",
    "        pred_idx = np.array(range(0,1024))\n",
    "        data_idx = (1024 / n_hits) * np.array(range(0,n_hits))\n",
    "        # print(data_idx.shape, data.shape)\n",
    "        # print(pred[:,i].shape, data[:,i].shape)\n",
    "        ax.plot(pred_idx, pred[:,i], label='prediction', c='lightskyblue')\n",
    "        ax.plot(data_idx, data[:,i], label='labels', c='navy')\n",
    "        ax.set_title('Distribution of: {}'.format(labels[i]))\n",
    "        ax.grid()\n",
    "        ax.set_xlim(0,1025)\n",
    "        ax.set_xticks(range(0,1025,128))\n",
    "        ax.legend()\n",
    "    plt.show()\n",
    "\n",
    "analyse_prediction(input_data, pred)"
   ]
  },
  {
   "cell_type": "code",
   "execution_count": 102,
   "id": "5fa5cab4",
   "metadata": {},
   "outputs": [],
   "source": [
    "def analyse_prediction(data, pred):\n",
    "    fig, axes = plt.subplots(nrows=2, ncols=1, figsize=[12,12])\n",
    "    labels = ['X', 'Y']\n",
    "    n_hits = len(data.nonzero()) // 2\n",
    "    data = data[:n_hits]\n",
    "\n",
    "    for i,ax in enumerate(axes):\n",
    "        pred_idx = np.array(range(0,1024))\n",
    "        data_idx = (1024 / n_hits) * np.array(range(0,n_hits))\n",
    "        # print(data_idx.shape, data.shape)\n",
    "        # print(pred[:,i].shape, data[:,i].shape)\n",
    "        ax.plot(pred_idx, pred[:,i], label='prediction', c='lightskyblue')\n",
    "        ax.plot(data_idx, data[:,i], label='labels', c='navy')\n",
    "        ax.set_title('Distribution of: {}'.format(labels[i]))\n",
    "        ax.grid()\n",
    "        ax.set_xlim(0,1025)\n",
    "        ax.set_xticks(range(0,1025,128))\n",
    "        ax.legend()\n",
    "    plt.show()\n",
    "\n",
    "analyse_prediction(input_data, pred)"
   ]
  },
  {
   "cell_type": "code",
   "execution_count": 103,
   "id": "6d2116b8",
   "metadata": {},
   "outputs": [],
   "source": [
    "def analyse_prediction(data, pred):\n",
    "    fig, axes = plt.subplots(nrows=2, ncols=1, figsize=[12,12])\n",
    "    labels = ['X', 'Y']\n",
    "    n_hits = len(data.nonzero()) / 2\n",
    "    data = data[:n_hits]\n",
    "\n",
    "    for i,ax in enumerate(axes):\n",
    "        pred_idx = np.array(range(0,1024))\n",
    "        data_idx = (1024 / n_hits) * np.array(range(0,n_hits))\n",
    "        # print(data_idx.shape, data.shape)\n",
    "        # print(pred[:,i].shape, data[:,i].shape)\n",
    "        ax.plot(pred_idx, pred[:,i], label='prediction', c='lightskyblue')\n",
    "        ax.plot(data_idx, data[:,i], label='labels', c='navy')\n",
    "        ax.set_title('Distribution of: {}'.format(labels[i]))\n",
    "        ax.grid()\n",
    "        ax.set_xlim(0,1025)\n",
    "        ax.set_xticks(range(0,1025,128))\n",
    "        ax.legend()\n",
    "    plt.show()\n",
    "\n",
    "analyse_prediction(input_data, pred)"
   ]
  },
  {
   "cell_type": "code",
   "execution_count": 104,
   "id": "54347e4e",
   "metadata": {},
   "outputs": [],
   "source": [
    "def analyse_prediction(data, pred):\n",
    "    fig, axes = plt.subplots(nrows=2, ncols=1, figsize=[12,12])\n",
    "    labels = ['X', 'Y']\n",
    "    n_hits = len(data.nonzero()) // 2\n",
    "    data = data[:n_hits]\n",
    "\n",
    "    for i,ax in enumerate(axes):\n",
    "        pred_idx = np.array(range(0,1024))\n",
    "        data_idx = (1024 / n_hits) * np.array(range(0,n_hits))\n",
    "        # print(data_idx.shape, data.shape)\n",
    "        # print(pred[:,i].shape, data[:,i].shape)\n",
    "        ax.plot(pred_idx, pred[:,i], label='prediction', c='lightskyblue')\n",
    "        ax.plot(data_idx, data[:,i], label='labels', c='navy')\n",
    "        ax.set_title('Distribution of: {}'.format(labels[i]))\n",
    "        ax.grid()\n",
    "        ax.set_xlim(0,1025)\n",
    "        ax.set_xticks(range(0,1025,128))\n",
    "        ax.legend()\n",
    "    plt.show()\n",
    "\n",
    "analyse_prediction(input_data, pred)"
   ]
  },
  {
   "cell_type": "code",
   "execution_count": 105,
   "id": "7e954842",
   "metadata": {},
   "outputs": [],
   "source": [
    "def analyse_prediction(data, pred, sorted=False):\n",
    "    fig, axes = plt.subplots(nrows=2, ncols=1, figsize=[12,12])\n",
    "    labels = ['X', 'Y']\n",
    "    n_hits = len(data.nonzero()) // 2\n",
    "    data = data[:n_hits]\n",
    "\n",
    "    for i,ax in enumerate(axes):\n",
    "        pred_idx = np.array(range(0,1024))\n",
    "        data_idx = (1024 / n_hits) * np.array(range(0,n_hits))\n",
    "\n",
    "        if sorted:\n",
    "            ax.plot(pred_idx, sorted(pred[:,i]), label='prediction', c='lightskyblue')\n",
    "            ax.plot(data_idx, sorted(data[:,i]), label='labels', c='navy')\n",
    "        else:\n",
    "            ax.plot(pred_idx, pred[:,i], label='prediction', c='lightskyblue')\n",
    "            ax.plot(data_idx, data[:,i], label='labels', c='navy')\n",
    "        \n",
    "        ax.set_title('Distribution of: {}'.format(labels[i]))\n",
    "        ax.grid()\n",
    "        ax.set_xlim(0,1025)\n",
    "        ax.set_xticks(range(0,1025,128))\n",
    "        ax.legend()\n",
    "    plt.show()\n",
    "\n",
    "analyse_prediction(input_data, pred)\n",
    "analyse_prediction(input_data, pred, sorted=True)"
   ]
  },
  {
   "cell_type": "code",
   "execution_count": 106,
   "id": "4845d9af",
   "metadata": {},
   "outputs": [],
   "source": [
    "def analyse_prediction(data, pred, to_sort=False):\n",
    "    fig, axes = plt.subplots(nrows=2, ncols=1, figsize=[12,12])\n",
    "    labels = ['X', 'Y']\n",
    "    n_hits = len(data.nonzero()) // 2\n",
    "    data = data[:n_hits]\n",
    "\n",
    "    for i,ax in enumerate(axes):\n",
    "        pred_idx = np.array(range(0,1024))\n",
    "        data_idx = (1024 / n_hits) * np.array(range(0,n_hits))\n",
    "\n",
    "        if to_sort:\n",
    "            ax.plot(pred_idx, sorted(pred[:,i]), label='prediction', c='lightskyblue')\n",
    "            ax.plot(data_idx, sorted(data[:,i]), label='labels', c='navy')\n",
    "        else:\n",
    "            ax.plot(pred_idx, pred[:,i], label='prediction', c='lightskyblue')\n",
    "            ax.plot(data_idx, data[:,i], label='labels', c='navy')\n",
    "        \n",
    "        ax.set_title('Distribution of: {}'.format(labels[i]))\n",
    "        ax.grid()\n",
    "        ax.set_xlim(0,1025)\n",
    "        ax.set_xticks(range(0,1025,128))\n",
    "        ax.legend()\n",
    "    plt.show()\n",
    "\n",
    "analyse_prediction(input_data, pred)\n",
    "analyse_prediction(input_data, pred, to_sort=True)"
   ]
  },
  {
   "cell_type": "code",
   "execution_count": 107,
   "id": "7f303e5a",
   "metadata": {},
   "outputs": [],
   "source": [
    "from sklearn.preprocessing import MinMaxScaler\n",
    "\n",
    "def eval_bnaf(model, dataset, instance_idx, scale=True, verbose=True):\n",
    "    input_data = dataset.__getitem__(instance_idx)\n",
    "    zzk, logdets = model(input_data.reshape(1,-1))\n",
    "    log_prob = model.base_dist.log_prob(zzk) + logdets\n",
    "    prob = log_prob.sum(1).exp().cpu()\n",
    "    pred = log_prob.reshape(1024,2).cpu().detach()\n",
    "\n",
    "    if verbose:\n",
    "        print('zzk:{}, logdets:{}'.format(zzk.shape, logdets.shape))\n",
    "        print('zzk:{}, logdets:{}'.format(prob.shape, log_prob.shape))\n",
    "        print('pred:{}'.format(pred.shape))\n",
    "\n",
    "    if scale:\n",
    "        scaler = MinMaxScaler()\n",
    "        pred = scaler.fit_transform(pred) * 125\n",
    "        pred = torch.Tensor(pred)\n",
    "\n",
    "    return input_data, pred\n",
    "\n",
    "input_data, pred = eval_bnaf(model, dataset, instance_idx=0, scale=True)"
   ]
  },
  {
   "cell_type": "code",
   "execution_count": 108,
   "id": "8a4739d5",
   "metadata": {},
   "outputs": [
    {
     "name": "stdout",
     "output_type": "stream",
     "text": [
      "2"
     ]
    }
   ],
   "source": [
    "input_data.shape[1]"
   ]
  },
  {
   "cell_type": "code",
   "execution_count": 109,
   "id": "1f4048da",
   "metadata": {},
   "outputs": [],
   "source": [
    "vis(input_data)"
   ]
  },
  {
   "cell_type": "code",
   "execution_count": 110,
   "id": "ea1a761c",
   "metadata": {},
   "outputs": [],
   "source": [
    "vis(pred)"
   ]
  },
  {
   "cell_type": "code",
   "execution_count": 111,
   "id": "fcb840dd",
   "metadata": {},
   "outputs": [],
   "source": [
    "def analyse_prediction(data, pred, to_sort=False):\n",
    "    fig, axes = plt.subplots(nrows=2, ncols=1, figsize=[12,12])\n",
    "    labels = ['X', 'Y']\n",
    "    n_hits = len(data.nonzero()) // 2\n",
    "    data = data[:n_hits]\n",
    "\n",
    "    for i,ax in enumerate(axes):\n",
    "        pred_idx = np.array(range(0,1024))\n",
    "        data_idx = (1024 / n_hits) * np.array(range(0,n_hits))\n",
    "\n",
    "        if to_sort:\n",
    "            ax.plot(pred_idx, sorted(pred[:,i]), label='prediction', c='lightskyblue')\n",
    "            ax.plot(data_idx, sorted(data[:,i]), label='labels', c='navy')\n",
    "        else:\n",
    "            ax.plot(pred_idx, pred[:,i], label='prediction', c='lightskyblue')\n",
    "            ax.plot(data_idx, data[:,i], label='labels', c='navy')\n",
    "        \n",
    "        ax.set_title('Distribution of: {}'.format(labels[i]))\n",
    "        ax.grid()\n",
    "        ax.set_xlim(0,1025)\n",
    "        ax.set_xticks(range(0,1025,128))\n",
    "        ax.legend()\n",
    "    plt.show()\n",
    "\n",
    "analyse_prediction(input_data, pred)\n",
    "analyse_prediction(input_data, pred, to_sort=True)"
   ]
  },
  {
   "cell_type": "code",
   "execution_count": 112,
   "id": "f9ff9aae",
   "metadata": {},
   "outputs": [],
   "source": [
    "import warnings\n",
    "warnings.filterwarnings('ignore')\n",
    "\n",
    "# Get Args\n",
    "args = get_args()\n",
    "\n",
    "# Set custom args\n",
    "args.data_dim = 2048\n",
    "args.hidden_dim = 2048*2   #3072\n",
    "args.n_steps = 500*2\n",
    "args.log_interval = 200\n",
    "args.cuda = 0\n",
    "args.lr = 0.1\n",
    "args.step = 0\n",
    "\n",
    "# Set Seeds\n",
    "torch.manual_seed(args.seed)\n",
    "if args.device.type == 'cuda': \n",
    "    torch.cuda.manual_seed(args.seed)\n",
    "\n",
    "# Get Model\n",
    "model = BNAF(args.data_dim, args.n_hidden, args.hidden_dim).to(args.device)\n",
    "if args.restore_file:\n",
    "    model_checkpoint = torch.load(args.restore_file, map_location=args.device)\n",
    "    model.load_state_dict(model_checkpoint['state_dict'])\n",
    "    args.step = model_checkpoint['step']\n",
    "\n",
    "# Save Config\n",
    "config = 'Parsed args:\\n{}\\n\\n'.format(pprint.pformat(args.__dict__)) + \\\n",
    "            'Num trainable params: {:,.0f}\\n\\n'.format(sum(p.numel() for p in model.parameters())) + \\\n",
    "            'Model:\\n{}'.format(model)\n",
    "\n",
    "config_path = os.path.join(args.output_dir, 'config.txt')\n",
    "if not os.path.exists(config_path):\n",
    "    with open(config_path, 'a') as f:\n",
    "        print(config, file=f)\n",
    "\n",
    "# Get Optimizer + Scheduler\n",
    "optimizer = torch.optim.Adam(model.parameters(), lr=args.lr)\n",
    "scheduler = torch.optim.lr_scheduler.ReduceLROnPlateau(optimizer, factor=args.lr_decay, patience=args.lr_patience, verbose=True)\n",
    "if args.restore_file:\n",
    "    optim_checkpoint = torch.load(os.path.dirname(args.restore_file) + '/optim_checkpoint.pt', map_location=args.device)\n",
    "    optimizer.load_state_dict(optim_checkpoint['optimizer'])\n",
    "    scheduler.load_state_dict(optim_checkpoint['scheduler'])\n",
    "\n",
    "# Initialize Dataset \n",
    "dataset_file = DATA_ROOT + INPUT_FORMAT.format(0)\n",
    "dataset = ParquetDataset(dataset_file)\n",
    "\n",
    "# Define Loss\n",
    "loss_fn = compute_kl_pq_loss"
   ]
  },
  {
   "cell_type": "code",
   "execution_count": 113,
   "id": "fbea0b82",
   "metadata": {},
   "outputs": [
    {
     "name": "stdout",
     "output_type": "stream",
     "text": [
      "['/content/drive/My Drive/_GSoC/Normalizing-Flows/logs/wandb/run-20210702_073653-1uk1de3x/files/requirements.txt',\n",
      " '/content/drive/My Drive/_GSoC/Normalizing-Flows/logs/wandb/run-20210702_073653-1uk1de3x/files/requirements.txt']"
     ]
    }
   ],
   "source": [
    "# Init Wandb\n",
    "os.environ[\"WANDB_SILENT\"] = \"true\"\n",
    "os.environ[\"WANDB_NOTES\"] = WANDB_DESC\n",
    "run = wandb.init(project='gnf', config=DEFAULT_CFG, dir=LOGS_ROOT)\n",
    "wandb.config.update(args)\n",
    "\n",
    "# Save files for later\n",
    "! pip freeze > requirements.txt\n",
    "wandb.save(ROOT + 'requirements.txt')\n",
    "# wandb.save(config_path)       # TODO: Fix permission issue on Colab."
   ]
  },
  {
   "cell_type": "code",
   "execution_count": 114,
   "id": "ab31cc82",
   "metadata": {},
   "outputs": [],
   "source": [
    "# Train The Model\n",
    "train_flow(model, dataset, loss_fn, optimizer, scheduler, args)"
   ]
  },
  {
   "cell_type": "code",
   "execution_count": 115,
   "id": "7581fcd8",
   "metadata": {},
   "outputs": [],
   "source": [
    "from sklearn.preprocessing import MinMaxScaler\n",
    "\n",
    "def eval_bnaf(model, dataset, instance_idx, scale=True, verbose=True):\n",
    "    input_data = dataset.__getitem__(instance_idx)\n",
    "    zzk, logdets = model(input_data.reshape(1,-1))\n",
    "    log_prob = model.base_dist.log_prob(zzk) + logdets\n",
    "    prob = log_prob.sum(1).exp().cpu()\n",
    "    pred = log_prob.reshape(1024,2).cpu().detach()\n",
    "\n",
    "    if verbose:\n",
    "        print('zzk:{}, logdets:{}'.format(zzk.shape, logdets.shape))\n",
    "        print('zzk:{}, logdets:{}'.format(prob.shape, log_prob.shape))\n",
    "        print('pred:{}'.format(pred.shape))\n",
    "\n",
    "    if scale:\n",
    "        scaler = MinMaxScaler()\n",
    "        pred = scaler.fit_transform(pred) * 125\n",
    "        pred = torch.Tensor(pred)\n",
    "\n",
    "    return input_data, pred\n",
    "\n",
    "input_data, pred = eval_bnaf(model, dataset, instance_idx=0, scale=True)"
   ]
  },
  {
   "cell_type": "code",
   "execution_count": 116,
   "id": "2f924ccf",
   "metadata": {},
   "outputs": [
    {
     "name": "stdout",
     "output_type": "stream",
     "text": [
      "2"
     ]
    }
   ],
   "source": [
    "input_data.shape[1]"
   ]
  },
  {
   "cell_type": "code",
   "execution_count": 117,
   "id": "0f8cae3a",
   "metadata": {},
   "outputs": [],
   "source": [
    "vis(input_data)"
   ]
  },
  {
   "cell_type": "code",
   "execution_count": 118,
   "id": "4eb9eaa7",
   "metadata": {},
   "outputs": [],
   "source": [
    "vis(pred)"
   ]
  },
  {
   "cell_type": "code",
   "execution_count": 119,
   "id": "17ba0008",
   "metadata": {},
   "outputs": [],
   "source": [
    "def analyse_prediction(data, pred, to_sort=False):\n",
    "    fig, axes = plt.subplots(nrows=2, ncols=1, figsize=[12,12])\n",
    "    labels = ['X', 'Y']\n",
    "    n_hits = len(data.nonzero()) // 2\n",
    "    data = data[:n_hits]\n",
    "\n",
    "    for i,ax in enumerate(axes):\n",
    "        pred_idx = np.array(range(0,1024))\n",
    "        data_idx = (1024 / n_hits) * np.array(range(0,n_hits))\n",
    "\n",
    "        if to_sort:\n",
    "            ax.plot(pred_idx, sorted(pred[:,i]), label='prediction', c='lightskyblue')\n",
    "            ax.plot(data_idx, sorted(data[:,i]), label='labels', c='navy')\n",
    "        else:\n",
    "            ax.plot(pred_idx, pred[:,i], label='prediction', c='lightskyblue')\n",
    "            ax.plot(data_idx, data[:,i], label='labels', c='navy')\n",
    "        \n",
    "        ax.set_title('Distribution of: {}'.format(labels[i]))\n",
    "        ax.grid()\n",
    "        ax.set_xlim(0,1025)\n",
    "        ax.set_xticks(range(0,1025,128))\n",
    "        ax.legend()\n",
    "    plt.show()\n",
    "\n",
    "analyse_prediction(input_data, pred)\n",
    "analyse_prediction(input_data, pred, to_sort=True)"
   ]
  },
  {
   "cell_type": "code",
   "execution_count": 120,
   "id": "dc87a769",
   "metadata": {},
   "outputs": [
    {
     "name": "stdout",
     "output_type": "stream",
     "text": [
      "1000"
     ]
    }
   ],
   "source": [
    "args.step"
   ]
  },
  {
   "cell_type": "code",
   "execution_count": 121,
   "id": "eb0c09b8",
   "metadata": {},
   "outputs": [],
   "source": [
    "args.step, step.n_steps"
   ]
  },
  {
   "cell_type": "code",
   "execution_count": 122,
   "id": "d386cffb",
   "metadata": {},
   "outputs": [
    {
     "name": "stdout",
     "output_type": "stream",
     "text": [
      "1000"
     ]
    }
   ],
   "source": [
    "args.step #, step.n_steps"
   ]
  },
  {
   "cell_type": "code",
   "execution_count": 123,
   "id": "ea8503b9",
   "metadata": {},
   "outputs": [
    {
     "name": "stdout",
     "output_type": "stream",
     "text": [
      "(1000, 1000)"
     ]
    }
   ],
   "source": [
    "args.step, args.n_steps"
   ]
  },
  {
   "cell_type": "code",
   "execution_count": 124,
   "id": "a4e93a7d",
   "metadata": {},
   "outputs": [
    {
     "name": "stdout",
     "output_type": "stream",
     "text": [
      "(1000, 1000)"
     ]
    }
   ],
   "source": [
    "args.step, args.n_steps"
   ]
  },
  {
   "cell_type": "code",
   "execution_count": 125,
   "id": "d6018534",
   "metadata": {},
   "outputs": [],
   "source": [
    "# Train The Model\n",
    "train_flow(model, dataset, loss_fn, optimizer, scheduler, args)"
   ]
  },
  {
   "cell_type": "code",
   "execution_count": 126,
   "id": "54ea6f46",
   "metadata": {},
   "outputs": [
    {
     "name": "stdout",
     "output_type": "stream",
     "text": [
      "(2000, 1000, 0.1)"
     ]
    }
   ],
   "source": [
    "args.step, args.n_steps, args.lr"
   ]
  },
  {
   "cell_type": "code",
   "execution_count": 127,
   "id": "d6923361",
   "metadata": {},
   "outputs": [],
   "source": [
    "args.lr = 0.01"
   ]
  },
  {
   "cell_type": "code",
   "execution_count": 128,
   "id": "ecfbabe8",
   "metadata": {},
   "outputs": [],
   "source": [
    "args.lr = 0.01\n",
    "args.n_steps = 100"
   ]
  },
  {
   "cell_type": "code",
   "execution_count": 129,
   "id": "a8115ce3",
   "metadata": {},
   "outputs": [],
   "source": [
    "# Train The Model\n",
    "train_flow(model, dataset, loss_fn, optimizer, scheduler, args)"
   ]
  },
  {
   "cell_type": "code",
   "execution_count": 130,
   "id": "b13ff9c0",
   "metadata": {},
   "outputs": [],
   "source": [
    "# Train The Model\n",
    "train_flow(model, dataset, loss_fn, optimizer, scheduler, args)"
   ]
  },
  {
   "cell_type": "code",
   "execution_count": 131,
   "id": "19617dd8",
   "metadata": {},
   "outputs": [],
   "source": [
    "WANDB_DESC = 'Setting up BNAF.'"
   ]
  },
  {
   "cell_type": "code",
   "execution_count": 132,
   "id": "48b5c720",
   "metadata": {},
   "outputs": [],
   "source": [
    "%%capture\n",
    "! pip3 install torch==1.9.0+cu102 torchvision==0.10.0+cu102 -f https://download.pytorch.org/whl/torch_stable.html\n",
    "! pip install wandb"
   ]
  },
  {
   "cell_type": "code",
   "execution_count": 133,
   "id": "867ff525",
   "metadata": {},
   "outputs": [],
   "source": [
    "import torch\n",
    "assert torch.__version__ == '1.9.0+cu102'\n",
    "! pip list | grep torch"
   ]
  },
  {
   "cell_type": "code",
   "execution_count": 134,
   "id": "bdfea3bd",
   "metadata": {},
   "outputs": [],
   "source": [
    "! wandb login"
   ]
  },
  {
   "cell_type": "code",
   "execution_count": 135,
   "id": "a8619755",
   "metadata": {},
   "outputs": [],
   "source": [
    "### COLAB ###\n",
    "\n",
    "# Mount Drive\n",
    "from google.colab import drive\n",
    "drive.mount('/content/drive')\n",
    "\n",
    "# Install missing packages\n",
    "! apt-get install tree >/dev/null\n",
    "\n",
    "# Download dataset\n",
    "# ! ./get_dataset.sh"
   ]
  },
  {
   "cell_type": "code",
   "execution_count": 136,
   "id": "d61b6311",
   "metadata": {},
   "outputs": [],
   "source": [
    "# Input format of files in $ROOT/data\n",
    "INPUT_FORMAT = 'Boosted_Jets_Sample-{}.snappy.parquet'"
   ]
  },
  {
   "cell_type": "code",
   "execution_count": 137,
   "id": "61c21387",
   "metadata": {},
   "outputs": [],
   "source": [
    "''' DOING IMPORTS '''\n",
    "\n",
    "%matplotlib inline\n",
    "\n",
    "import os\n",
    "import cv2\n",
    "import wandb\n",
    "import numpy as np\n",
    "import pandas as pd\n",
    "import pickle as pkl\n",
    "import matplotlib.pyplot as plt\n",
    "import pyarrow.parquet as pq\n",
    "from tqdm.auto import tqdm, trange\n",
    "import torch.nn.functional as F\n",
    "\n",
    "# Set Numpy Print Options\n",
    "np.set_printoptions(precision=3)\n",
    "np.set_printoptions(suppress=True)"
   ]
  },
  {
   "cell_type": "code",
   "execution_count": 138,
   "id": "b76119ad",
   "metadata": {},
   "outputs": [],
   "source": [
    "''' CREATE AND SET DATA/CACHE DIRECTORIES '''\n",
    "\n",
    "ROOT = '/content/drive/My Drive/_GSoC/Normalizing-Flows/'\n",
    "DATA_ROOT = ROOT + \"data/\"\n",
    "CACHE_ROOT = ROOT + \"cache/\"\n",
    "LOGS_ROOT = ROOT + \"logs/\"\n",
    "\n",
    "os.chdir(ROOT)\n",
    "os.makedirs(DATA_ROOT, exist_ok=True)\n",
    "os.makedirs(CACHE_ROOT, exist_ok=True)\n",
    "os.makedirs(LOGS_ROOT, exist_ok=True)\n",
    "\n",
    "# Initialize scratch space on /content for faster read-write\n",
    "SCRATCH_ROOT = '/content/scratch/'   \n",
    "os.makedirs(SCRATCH_ROOT, exist_ok=True) \n",
    "\n",
    "# print('Directory Structure [Excluding Log/Temp Files]:')\n",
    "! tree -I 'model*|temp__*|wandb*|run_'"
   ]
  },
  {
   "cell_type": "code",
   "execution_count": 139,
   "id": "2d2b14ad",
   "metadata": {},
   "outputs": [],
   "source": [
    "import torch\n",
    "from torch.utils.data import *\n",
    "\n",
    "class ParquetDataset(Dataset):\n",
    "    def __init__(self, filename, channels=[1], max_instances=1024):\n",
    "        self.parquet = pq.ParquetFile(filename)\n",
    "        self.cols = None \n",
    "        self.verbose = False\n",
    "        self.channels = channels  # Channels to process - currently only Ecal. \n",
    "        self.max_instances = max_instances  # Number of hits to force in each jet.\n",
    "        \n",
    "    def __getitem__(self, index):\n",
    "        data = self.parquet.read_row_group(index, columns=self.cols).to_pydict()\n",
    "        data['X_jets'] = np.float32(data['X_jets'][0]) \n",
    "        data['X_jets'] = data['X_jets'][0:]\n",
    "        data['X_jets'][data['X_jets'] < 1.e-3] = 0.     # Zero-Suppression\n",
    "        jets = [self.parse_img(dict(data)['X_jets'][i]) for i in self.channels]\n",
    "        jets = jets[0]            # Temporary Hack for Ecal\n",
    "        return jets\n",
    "    \n",
    "    def __len__(self):\n",
    "        return self.parquet.num_row_groups\n",
    "\n",
    "    def parse_img(self, track_img, reduce=False):\n",
    "        '''\n",
    "        Returns non-zero hits from the single-channel input jet image - `track_img`. \n",
    "        If `max_instances` is defined then returns an array of shape [max_instances, 3].   \n",
    "        Else returns an array of shape [N, 3] where N is the number of non-zero hits in each jet.\n",
    "        '''\n",
    "        track_img = torch.Tensor(track_img)        \n",
    "        x_pos, y_pos = torch.nonzero(track_img, as_tuple=True)\n",
    "        val = track_img[x_pos, y_pos]\n",
    "        out = torch.stack((x_pos,y_pos),dim=1)\n",
    "        # print(out.shape)\n",
    "\n",
    "        if self.max_instances:\n",
    "            # Pad instances with fewer hits\n",
    "            if out.shape[0] <= self.max_instances:\n",
    "                pad_len = self.max_instances - out.shape[0]\n",
    "                out = F.pad(out, pad=(0, 0, 0, pad_len), mode='constant', value=0)\n",
    "            # Cut off excess hits from other jets\n",
    "            else:\n",
    "                out = out[:self.max_instances,:]\n",
    "        \n",
    "        if self.verbose:\n",
    "            print('Output Shape:', out.shape)\n",
    "        return out"
   ]
  },
  {
   "cell_type": "code",
   "execution_count": 140,
   "id": "e4b1ecd3",
   "metadata": {},
   "outputs": [],
   "source": [
    "def vis(arr, is_parsed=True, title=None, scale=1000, cmap='gist_heat', reduce=False):  \n",
    "    '''\n",
    "    Visualise a jet instance.\n",
    "    '''\n",
    "\n",
    "    if not is_parsed:   \n",
    "        arr = parse_img(arr, reduce)\n",
    "\n",
    "    if arr.shape[1] == 3:\n",
    "        x_pos, y_pos, val = arr[:,0], arr[:,1], arr[:,2]\n",
    "    elif arr.shape[1] == 2:\n",
    "        x_pos, y_pos = arr[:,0], arr[:,1]\n",
    "        val = torch.ones_like(x_pos)\n",
    "        scale = None\n",
    "\n",
    "    if scale:\n",
    "        sz = np.array(np.abs(val)) * scale\n",
    "    else:\n",
    "        sz = np.ones_like(val) * 10\n",
    "        \n",
    "    plt.figure(figsize=[10,6], facecolor='#f0f0f0')\n",
    "    cm = plt.cm.get_cmap(cmap)     # 'gist_heat' / 'YlOrRd'\n",
    "    sc = plt.scatter(x_pos, y_pos, c=val, s=sz, cmap=cm, alpha=0.5, edgecolors='k')\n",
    "    plt.colorbar(sc)\n",
    "    plt.xlim(0, 126)\n",
    "    plt.ylim(0, 126)\n",
    "    plt.xticks(range(0,125,25))\n",
    "    plt.yticks(range(0,125,25))\n",
    "    plt.grid()\n",
    "    if title:\n",
    "        plt.title(title)\n",
    "    plt.show()"
   ]
  },
  {
   "cell_type": "code",
   "execution_count": 141,
   "id": "ac5b1c8d",
   "metadata": {},
   "outputs": [],
   "source": [
    "import torch\n",
    "import torch.nn as nn\n",
    "import torch.nn.functional as F\n",
    "import torch.distributions as D\n",
    "from torch.utils.data import DataLoader, TensorDataset\n",
    "\n",
    "import math\n",
    "import os\n",
    "import time\n",
    "import argparse\n",
    "import pprint\n",
    "from functools import partial\n",
    "\n",
    "import matplotlib\n",
    "matplotlib.use('Agg')\n",
    "import matplotlib.pyplot as plt\n",
    "from tqdm import tqdm"
   ]
  },
  {
   "cell_type": "code",
   "execution_count": 142,
   "id": "1927f49c",
   "metadata": {},
   "outputs": [],
   "source": [
    "def get_args():\n",
    "    parser = argparse.ArgumentParser()\n",
    "    parser.add_argument('--train', action='store_true', help='Train a flow.')\n",
    "    parser.add_argument('--plot', action='store_false', help='Plot a flow and target density.')\n",
    "    parser.add_argument('--restore_file', type=str, help='Path to model to restore.')\n",
    "    parser.add_argument('--output_dir', default='./results/run_')\n",
    "    parser.add_argument('--cuda', type=int, help='Which GPU to run on.')\n",
    "    parser.add_argument('--seed', type=int, default=0, help='Random seed.')\n",
    "    # model parameters\n",
    "    parser.add_argument('--data_dim', type=int, default=2, help='Dimension of the data.')\n",
    "    parser.add_argument('--hidden_dim', type=int, default=100, help='Dimensions of hidden layers.')\n",
    "    parser.add_argument('--n_hidden', type=int, default=3, help='Number of hidden layers.')\n",
    "    # training parameters\n",
    "    parser.add_argument('--step', type=int, default=0, help='Current step of training (number of minibatches processed).')\n",
    "    parser.add_argument('--n_steps', type=int, default=1, help='Number of steps to train.')\n",
    "    parser.add_argument('--batch_size', type=int, default=200, help='Training batch size.')\n",
    "    parser.add_argument('--lr', type=float, default=1e-1, help='Initial learning rate.')\n",
    "    parser.add_argument('--lr_decay', type=float, default=0.5, help='Learning rate decay.')\n",
    "    parser.add_argument('--lr_patience', type=float, default=2000, help='Number of steps before decaying learning rate.')\n",
    "    parser.add_argument('--log_interval', type=int, default=50, help='How often to save model and samples.')\n",
    "\n",
    "    args = parser.parse_args([])\n",
    "    args.output_dir = os.path.join('./results/run_', time.strftime('%Y-%m-%d_%H-%M-%S', time.gmtime()))\n",
    "    if not os.path.isdir(args.output_dir): \n",
    "        os.makedirs(args.output_dir)\n",
    "    args.device = torch.device('cuda:{}'.format(args.cuda) if args.cuda is not None and torch.cuda.is_available() else 'cpu')\n",
    "\n",
    "    return args"
   ]
  },
  {
   "cell_type": "code",
   "execution_count": 143,
   "id": "8a53c793",
   "metadata": {},
   "outputs": [],
   "source": [
    "''' Model components ''' \n",
    "\n",
    "class MaskedLinear(nn.Module):\n",
    "    def __init__(self, in_features, out_features, data_dim):\n",
    "        super().__init__()\n",
    "        self.in_features = in_features\n",
    "        self.out_features = out_features\n",
    "        self.data_dim = data_dim\n",
    "        # print(self.in_features, self.out_features, self.data_dim)\n",
    "\n",
    "        # Notation:\n",
    "        # BNAF weight calculation for (eq 8): W = g(W) * M_d + W * M_o\n",
    "        #   where W is block lower triangular so model is autoregressive,\n",
    "        #         g = exp function; M_d is block diagonal mask; M_o is block off-diagonal mask.\n",
    "        # Weight Normalization (Salimans & Kingma, eq 2): w = g * v / ||v||\n",
    "        #   where g is scalar, v is k-dim vector, ||v|| is Euclidean norm\n",
    "        # ------\n",
    "        # Here: pre-weight norm matrix is v; then: v = exp(weight) * mask_d + weight * mask_o\n",
    "        #       weight-norm scalar is g: out_features dimensional vector (here logg is used instead to avoid taking logs in the logdet calc.\n",
    "        #       then weight-normed weight matrix is w = g * v / ||v||\n",
    "        #\n",
    "        #       log det jacobian of block lower triangular is taking block diagonal mask of\n",
    "        #           log(g*v/||v||) = log(g) + log(v) - log(||v||)\n",
    "        #                          = log(g) + weight - log(||v||) since v = exp(weight) * mask_d + weight * mask_o\n",
    "\n",
    "        weight = torch.zeros(out_features, in_features)\n",
    "        mask_d = torch.zeros_like(weight)\n",
    "        mask_o = torch.zeros_like(weight)\n",
    "        for i in range(data_dim):\n",
    "            # select block slices\n",
    "            h     = slice(i * out_features // data_dim, (i+1) * out_features // data_dim)\n",
    "            w     = slice(i * in_features // data_dim,  (i+1) * in_features // data_dim)\n",
    "            w_row = slice(0,                            (i+1) * in_features // data_dim)\n",
    "            # initialize block-lower-triangular weight and construct block diagonal mask_d and lower triangular mask_o\n",
    "            nn.init.kaiming_uniform_(weight[h,w_row], a=math.sqrt(5))  # default nn.Linear weight init only block-wise\n",
    "            mask_d[h,w] = 1\n",
    "            mask_o[h,w_row] = 1\n",
    "\n",
    "        mask_o = mask_o - mask_d  # remove diagonal so mask_o is lower triangular 1-off the diagonal\n",
    "\n",
    "        self.weight = nn.Parameter(weight)                          # pre-mask, pre-weight-norm\n",
    "        self.logg = nn.Parameter(torch.rand(out_features, 1).log()) # weight-norm parameter\n",
    "        self.bias = nn.Parameter(nn.init.uniform_(torch.rand(out_features), -1/math.sqrt(in_features), 1/math.sqrt(in_features)))  # default nn.Linear bias init\n",
    "        self.register_buffer('mask_d', mask_d)\n",
    "        self.register_buffer('mask_o', mask_o)\n",
    "\n",
    "    def forward(self, x, sum_logdets):\n",
    "        # 1. compute BNAF masked weight eq 8\n",
    "        v = self.weight.exp() * self.mask_d + self.weight * self.mask_o\n",
    "        # 2. weight normalization\n",
    "        v_norm = v.norm(p=2, dim=1, keepdim=True)\n",
    "        w = self.logg.exp() * v / v_norm\n",
    "        # 3. compute output and logdet of the layer\n",
    "        # print(x.dtype)\n",
    "        # print(w.dtype)\n",
    "        # print(x)\n",
    "        # print(w)\n",
    "        x = x.type(torch.float32)\n",
    "        # print(x.dtype)\n",
    "        out = F.linear(x, w, self.bias)\n",
    "        # print('Out:', out.shape)\n",
    "\n",
    "\n",
    "        logdet = self.logg + self.weight - 0.5 * v_norm.pow(2).log()\n",
    "        logdet = logdet[self.mask_d.byte()]\n",
    "        logdet = logdet.view(1, self.data_dim, out.shape[1]//self.data_dim, x.shape[1]//self.data_dim) \\\n",
    "                       .expand(x.shape[0],-1,-1,-1)  # output (B, data_dim, out_dim // data_dim, in_dim // data_dim)\n",
    "\n",
    "        # 4. sum with sum_logdets from layers before (BNAF section 3.3)\n",
    "        # Compute log det jacobian of the flow (eq 9, 10, 11) using log-matrix multiplication of the different layers.\n",
    "        # Specifically for two successive MaskedLinear layers A -> B with logdets A and B of shapes\n",
    "        #  logdet A is (B, data_dim, outA_dim, inA_dim)\n",
    "        #  logdet B is (B, data_dim, outB_dim, inB_dim) where outA_dim = inB_dim\n",
    "        #\n",
    "        #  Note -- in the first layer, inA_dim = in_features//data_dim = 1 since in_features == data_dim.\n",
    "        #            thus logdet A is (B, data_dim, outA_dim, 1)\n",
    "        #\n",
    "        #  Then:\n",
    "        #  logsumexp(A.transpose(2,3) + B) = logsumexp( (B, data_dim, 1, outA_dim) + (B, data_dim, outB_dim, inB_dim) , dim=-1)\n",
    "        #                                  = logsumexp( (B, data_dim, 1, outA_dim) + (B, data_dim, outB_dim, outA_dim), dim=-1)\n",
    "        #                                  = logsumexp( (B, data_dim, outB_dim, outA_dim), dim=-1) where dim2 of tensor1 is broadcasted\n",
    "        #                                  = (B, data_dim, outB_dim, 1)\n",
    "\n",
    "        sum_logdets = torch.logsumexp(sum_logdets.transpose(2,3) + logdet, dim=-1, keepdim=True)\n",
    "\n",
    "        return out, sum_logdets\n",
    "\n",
    "\n",
    "    def extra_repr(self):\n",
    "        return 'in_features={}, out_features={}, bias={}'.format(\n",
    "            self.in_features, self.out_features, self.bias is not None\n",
    "        )\n",
    "\n",
    "class Tanh(nn.Module):\n",
    "    def __init__(self):\n",
    "        super().__init__()\n",
    "\n",
    "    def forward(self, x, sum_logdets):\n",
    "        # derivation of logdet:\n",
    "        # d/dx tanh = 1 / cosh^2; cosh = (1 + exp(-2x)) / (2*exp(-x))\n",
    "        # log d/dx tanh = - 2 * log cosh = -2 * (x - log 2 + log(1 + exp(-2x)))\n",
    "        logdet = -2 * (x - math.log(2) + F.softplus(-2*x))\n",
    "        sum_logdets = sum_logdets + logdet.view_as(sum_logdets)\n",
    "        return x.tanh(), sum_logdets\n",
    "\n",
    "class FlowSequential(nn.Sequential):\n",
    "    \"\"\" Container for layers of a normalizing flow \"\"\"\n",
    "    def forward(self, x):\n",
    "        sum_logdets = torch.zeros(1, x.shape[1], 1, 1, device=x.device)\n",
    "        for module in self:\n",
    "            x, sum_logdets = module(x, sum_logdets)\n",
    "        return x, sum_logdets.squeeze()"
   ]
  },
  {
   "cell_type": "code",
   "execution_count": 144,
   "id": "31838640",
   "metadata": {},
   "outputs": [],
   "source": [
    "''' Model '''\n",
    "\n",
    "class BNAF(nn.Module):\n",
    "    def __init__(self, data_dim, n_hidden, hidden_dim):\n",
    "        super().__init__()\n",
    "\n",
    "        # base distribution for calculation of log prob under the model\n",
    "        self.register_buffer('base_dist_mean', torch.zeros(data_dim))\n",
    "        self.register_buffer('base_dist_var', torch.ones(data_dim))\n",
    "\n",
    "        # construct model\n",
    "        modules = []\n",
    "        modules += [MaskedLinear(data_dim, hidden_dim, data_dim), Tanh()]\n",
    "        for _ in range(n_hidden):\n",
    "            modules += [MaskedLinear(hidden_dim, hidden_dim, data_dim), Tanh()]\n",
    "        modules += [MaskedLinear(hidden_dim, data_dim, data_dim)]\n",
    "        self.net = FlowSequential(*modules)\n",
    "\n",
    "        # TODO --   add permutation\n",
    "        #           add residual gate\n",
    "        #           add stack of flows\n",
    "\n",
    "    @property\n",
    "    def base_dist(self):\n",
    "        return D.Normal(self.base_dist_mean, self.base_dist_var)\n",
    "\n",
    "    def forward(self, x):\n",
    "        return self.net(x)\n",
    "\n",
    "def compute_kl_pq_loss(model, input_data):\n",
    "    input_data = input_data.to(model.base_dist.loc.device)\n",
    "    z, logdet = model(input_data)\n",
    "    return - torch.sum(model.base_dist.log_prob(z) + logdet, dim=1)"
   ]
  },
  {
   "cell_type": "code",
   "execution_count": 145,
   "id": "89867d0f",
   "metadata": {},
   "outputs": [],
   "source": [
    "''' Training ''' \n",
    "\n",
    "def train_flow(model, dataset, loss_fn, optimizer, scheduler, args):\n",
    "    model.train()\n",
    "\n",
    "    init_steps = args.step\n",
    "    for idx in range(args.n_steps):\n",
    "        args.step += 1\n",
    "\n",
    "        input_data = dataset.__getitem__(idx)\n",
    "        input_data = input_data.reshape(1,-1)\n",
    "        loss = loss_fn(model, input_data).mean(0)\n",
    "\n",
    "        optimizer.zero_grad()\n",
    "        loss.backward()\n",
    "        optimizer.step()\n",
    "        scheduler.step(loss)\n",
    "\n",
    "        print(\"Step: {:03d}/{:03d} | Loss: {:14.2f}\".format(args.step, init_steps+args.n_steps, loss.item()))\n",
    "        wandb.log({'Step': args.step, 'Loss': loss.item(), 'Learning_Rate': args.lr})\n",
    "\n",
    "        if args.step % args.log_interval == 0:\n",
    "            # save model\n",
    "            torch.save({'step': args.step,\n",
    "                        'state_dict': model.state_dict()},\n",
    "                        os.path.join(args.output_dir, 'checkpoint.pt'))\n",
    "            torch.save({'optimizer': optimizer.state_dict(),\n",
    "                        'scheduler': scheduler.state_dict()},\n",
    "                        os.path.join(args.output_dir, 'optim_checkpoint.pt'))"
   ]
  },
  {
   "cell_type": "code",
   "execution_count": 146,
   "id": "52db79e2",
   "metadata": {},
   "outputs": [
    {
     "name": "stdout",
     "output_type": "stream",
     "text": [
      "(2200, 100, 0.01)"
     ]
    }
   ],
   "source": [
    "args.step, args.n_steps, args.lr"
   ]
  },
  {
   "cell_type": "code",
   "execution_count": 147,
   "id": "68bf6fef",
   "metadata": {},
   "outputs": [],
   "source": [
    "args.lr = 0.01\n",
    "args.n_steps = 100"
   ]
  },
  {
   "cell_type": "code",
   "execution_count": 148,
   "id": "3c92c365",
   "metadata": {},
   "outputs": [
    {
     "name": "stdout",
     "output_type": "stream",
     "text": [
      "(2200, 100, 0.01)"
     ]
    }
   ],
   "source": [
    "args.step, args.n_steps, args.lr"
   ]
  },
  {
   "cell_type": "code",
   "execution_count": 149,
   "id": "dec9edbd",
   "metadata": {},
   "outputs": [],
   "source": [
    "from sklearn.preprocessing import MinMaxScaler\n",
    "\n",
    "def eval_bnaf(model, dataset, instance_idx, scale=True, verbose=True):\n",
    "    input_data = dataset.__getitem__(instance_idx)\n",
    "    zzk, logdets = model(input_data.reshape(1,-1))\n",
    "    log_prob = model.base_dist.log_prob(zzk) + logdets\n",
    "    prob = log_prob.sum(1).exp().cpu()\n",
    "    pred = log_prob.reshape(1024,2).cpu().detach()\n",
    "\n",
    "    if verbose:\n",
    "        print('zzk:{}, logdets:{}'.format(zzk.shape, logdets.shape))\n",
    "        print('zzk:{}, logdets:{}'.format(prob.shape, log_prob.shape))\n",
    "        print('pred:{}'.format(pred.shape))\n",
    "\n",
    "    if scale:\n",
    "        scaler = MinMaxScaler()\n",
    "        pred = scaler.fit_transform(pred) * 125\n",
    "        pred = torch.Tensor(pred)\n",
    "\n",
    "    return input_data, pred\n",
    "\n",
    "input_data, pred = eval_bnaf(model, dataset, instance_idx=0, scale=True)"
   ]
  },
  {
   "cell_type": "code",
   "execution_count": 150,
   "id": "11b7a5fd",
   "metadata": {},
   "outputs": [
    {
     "name": "stdout",
     "output_type": "stream",
     "text": [
      "2"
     ]
    }
   ],
   "source": [
    "input_data.shape[1]"
   ]
  },
  {
   "cell_type": "code",
   "execution_count": 151,
   "id": "45a3df75",
   "metadata": {},
   "outputs": [],
   "source": [
    "vis(input_data)"
   ]
  },
  {
   "cell_type": "code",
   "execution_count": 152,
   "id": "ba1e2584",
   "metadata": {},
   "outputs": [],
   "source": [
    "vis(pred)"
   ]
  },
  {
   "cell_type": "code",
   "execution_count": 153,
   "id": "8d3f2ffd",
   "metadata": {},
   "outputs": [],
   "source": [
    "from sklearn.preprocessing import MinMaxScaler\n",
    "\n",
    "def eval_bnaf(model, dataset, instance_idx, scale=True, verbose=True):\n",
    "    input_data = dataset.__getitem__(instance_idx)\n",
    "    zzk, logdets = model(input_data.reshape(1,-1))\n",
    "    log_prob = model.base_dist.log_prob(zzk) + logdets\n",
    "    prob = log_prob.sum(1).exp().cpu()\n",
    "    pred = log_prob.reshape(1024,2).cpu().detach()\n",
    "\n",
    "    if verbose:\n",
    "        print('zzk:{}, logdets:{}'.format(zzk.shape, logdets.shape))\n",
    "        print('zzk:{}, logdets:{}'.format(prob.shape, log_prob.shape))\n",
    "        print('pred:{}'.format(pred.shape))\n",
    "\n",
    "    if scale:\n",
    "        scaler = MinMaxScaler()\n",
    "        pred = scaler.fit_transform(pred) * 125\n",
    "        pred = torch.Tensor(pred)\n",
    "\n",
    "    return input_data, pred\n",
    "\n",
    "input_data, pred = eval_bnaf(model, dataset, instance_idx=0, scale=False)"
   ]
  },
  {
   "cell_type": "code",
   "execution_count": 154,
   "id": "bfa1dabb",
   "metadata": {},
   "outputs": [
    {
     "name": "stdout",
     "output_type": "stream",
     "text": [
      "2"
     ]
    }
   ],
   "source": [
    "input_data.shape[1]"
   ]
  },
  {
   "cell_type": "code",
   "execution_count": 155,
   "id": "dc734359",
   "metadata": {},
   "outputs": [],
   "source": [
    "vis(input_data)"
   ]
  },
  {
   "cell_type": "code",
   "execution_count": 156,
   "id": "822f2f53",
   "metadata": {},
   "outputs": [],
   "source": [
    "vis(pred)"
   ]
  },
  {
   "cell_type": "code",
   "execution_count": 157,
   "id": "9ab156b2",
   "metadata": {},
   "outputs": [],
   "source": [
    "def analyse_prediction(data, pred, to_sort=False):\n",
    "    fig, axes = plt.subplots(nrows=2, ncols=1, figsize=[12,12])\n",
    "    labels = ['X', 'Y']\n",
    "    n_hits = len(data.nonzero()) // 2\n",
    "    data = data[:n_hits]\n",
    "\n",
    "    for i,ax in enumerate(axes):\n",
    "        pred_idx = np.array(range(0,1024))\n",
    "        data_idx = (1024 / n_hits) * np.array(range(0,n_hits))\n",
    "\n",
    "        if to_sort:\n",
    "            ax.plot(pred_idx, sorted(pred[:,i]), label='prediction', c='lightskyblue')\n",
    "            ax.plot(data_idx, sorted(data[:,i]), label='labels', c='navy')\n",
    "        else:\n",
    "            ax.plot(pred_idx, pred[:,i], label='prediction', c='lightskyblue')\n",
    "            ax.plot(data_idx, data[:,i], label='labels', c='navy')\n",
    "        \n",
    "        ax.set_title('Distribution of: {}'.format(labels[i]))\n",
    "        ax.grid()\n",
    "        ax.set_xlim(0,1025)\n",
    "        ax.set_xticks(range(0,1025,128))\n",
    "        ax.legend()\n",
    "    plt.show()\n",
    "\n",
    "analyse_prediction(input_data, pred)\n",
    "analyse_prediction(input_data, pred, to_sort=True)"
   ]
  },
  {
   "cell_type": "code",
   "execution_count": 158,
   "id": "78c7137d",
   "metadata": {},
   "outputs": [],
   "source": [
    "from sklearn.preprocessing import MinMaxScaler\n",
    "\n",
    "def eval_bnaf(model, dataset, instance_idx, scale=True, verbose=True):\n",
    "    input_data = dataset.__getitem__(instance_idx)\n",
    "    zzk, logdets = model(input_data.reshape(1,-1))\n",
    "    log_prob = model.base_dist.log_prob(zzk) + logdets\n",
    "    prob = log_prob.sum(1).exp().cpu()\n",
    "    pred = log_prob.reshape(1024,2).cpu().detach()\n",
    "\n",
    "    if verbose:\n",
    "        print('zzk:{}, logdets:{}'.format(zzk.shape, logdets.shape))\n",
    "        print('zzk:{}, logdets:{}'.format(prob.shape, log_prob.shape))\n",
    "        print('pred:{}'.format(pred.shape))\n",
    "\n",
    "    if scale:\n",
    "        scaler = MinMaxScaler()\n",
    "        pred = scaler.fit_transform(pred) * 125\n",
    "        pred = torch.Tensor(pred)\n",
    "\n",
    "    return input_data, pred\n",
    "\n",
    "input_data, pred = eval_bnaf(model, dataset, instance_idx=0, scale=True)"
   ]
  },
  {
   "cell_type": "code",
   "execution_count": 159,
   "id": "216855b6",
   "metadata": {},
   "outputs": [
    {
     "name": "stdout",
     "output_type": "stream",
     "text": [
      "2"
     ]
    }
   ],
   "source": [
    "input_data.shape[1]"
   ]
  },
  {
   "cell_type": "code",
   "execution_count": 160,
   "id": "f0753726",
   "metadata": {},
   "outputs": [],
   "source": [
    "vis(input_data)"
   ]
  },
  {
   "cell_type": "code",
   "execution_count": 161,
   "id": "349734f0",
   "metadata": {},
   "outputs": [],
   "source": [
    "vis(pred)"
   ]
  },
  {
   "cell_type": "code",
   "execution_count": 162,
   "id": "f70e1bed",
   "metadata": {},
   "outputs": [],
   "source": [
    "def analyse_prediction(data, pred, to_sort=False):\n",
    "    fig, axes = plt.subplots(nrows=2, ncols=1, figsize=[12,12])\n",
    "    labels = ['X', 'Y']\n",
    "    n_hits = len(data.nonzero()) // 2\n",
    "    data = data[:n_hits]\n",
    "\n",
    "    for i,ax in enumerate(axes):\n",
    "        pred_idx = np.array(range(0,1024))\n",
    "        data_idx = (1024 / n_hits) * np.array(range(0,n_hits))\n",
    "\n",
    "        if to_sort:\n",
    "            ax.plot(pred_idx, sorted(pred[:,i]), label='prediction', c='lightskyblue')\n",
    "            ax.plot(data_idx, sorted(data[:,i]), label='labels', c='navy')\n",
    "        else:\n",
    "            ax.plot(pred_idx, pred[:,i], label='prediction', c='lightskyblue')\n",
    "            ax.plot(data_idx, data[:,i], label='labels', c='navy')\n",
    "        \n",
    "        ax.set_title('Distribution of: {}'.format(labels[i]))\n",
    "        ax.grid()\n",
    "        ax.set_xlim(0,1025)\n",
    "        ax.set_xticks(range(0,1025,128))\n",
    "        ax.legend()\n",
    "    plt.show()\n",
    "\n",
    "analyse_prediction(input_data, pred)\n",
    "analyse_prediction(input_data, pred, to_sort=True)"
   ]
  },
  {
   "cell_type": "code",
   "execution_count": 163,
   "id": "f3ecb058",
   "metadata": {},
   "outputs": [],
   "source": [
    "args.lr = 0.01\n",
    "args.n_steps = 300"
   ]
  },
  {
   "cell_type": "code",
   "execution_count": 164,
   "id": "8b9de6e7",
   "metadata": {},
   "outputs": [
    {
     "name": "stdout",
     "output_type": "stream",
     "text": [
      "(2200, 300, 0.01)"
     ]
    }
   ],
   "source": [
    "args.step, args.n_steps, args.lr"
   ]
  },
  {
   "cell_type": "code",
   "execution_count": 165,
   "id": "1cfd4471",
   "metadata": {},
   "outputs": [],
   "source": [
    "# Train The Model\n",
    "train_flow(model, dataset, loss_fn, optimizer, scheduler, args)"
   ]
  },
  {
   "cell_type": "code",
   "execution_count": 166,
   "id": "937409ce",
   "metadata": {},
   "outputs": [],
   "source": [
    "args.lr = 0.001\n",
    "args.n_steps = 300"
   ]
  },
  {
   "cell_type": "code",
   "execution_count": 167,
   "id": "7e861bd4",
   "metadata": {},
   "outputs": [],
   "source": [
    "args.lr = 0.001\n",
    "args.n_steps = 500"
   ]
  },
  {
   "cell_type": "code",
   "execution_count": 168,
   "id": "0268a07c",
   "metadata": {},
   "outputs": [
    {
     "name": "stdout",
     "output_type": "stream",
     "text": [
      "(2500, 500, 0.001)"
     ]
    }
   ],
   "source": [
    "args.step, args.n_steps, args.lr"
   ]
  },
  {
   "cell_type": "code",
   "execution_count": 169,
   "id": "1e6699a7",
   "metadata": {},
   "outputs": [],
   "source": [
    "# Train The Model\n",
    "train_flow(model, dataset, loss_fn, optimizer, scheduler, args)"
   ]
  },
  {
   "cell_type": "code",
   "execution_count": 170,
   "id": "e871c02b",
   "metadata": {},
   "outputs": [
    {
     "name": "stdout",
     "output_type": "stream",
     "text": [
      "(3000, 500, 0.001)"
     ]
    }
   ],
   "source": [
    "args.step, args.n_steps, args.lr"
   ]
  },
  {
   "cell_type": "code",
   "execution_count": 171,
   "id": "51137360",
   "metadata": {},
   "outputs": [],
   "source": [
    "from sklearn.preprocessing import MinMaxScaler\n",
    "\n",
    "def eval_bnaf(model, dataset, instance_idx, scale=True, verbose=True):\n",
    "    input_data = dataset.__getitem__(instance_idx)\n",
    "    zzk, logdets = model(input_data.reshape(1,-1))\n",
    "    log_prob = model.base_dist.log_prob(zzk) + logdets\n",
    "    prob = log_prob.sum(1).exp().cpu()\n",
    "    pred = log_prob.reshape(1024,2).cpu().detach()\n",
    "\n",
    "    if verbose:\n",
    "        print('zzk:{}, logdets:{}'.format(zzk.shape, logdets.shape))\n",
    "        print('zzk:{}, logdets:{}'.format(prob.shape, log_prob.shape))\n",
    "        print('pred:{}'.format(pred.shape))\n",
    "\n",
    "    if scale:\n",
    "        scaler = MinMaxScaler()\n",
    "        pred = scaler.fit_transform(pred) * 125\n",
    "        pred = torch.Tensor(pred)\n",
    "\n",
    "    return input_data, pred\n",
    "\n",
    "input_data, pred = eval_bnaf(model, dataset, instance_idx=0, scale=True)"
   ]
  },
  {
   "cell_type": "code",
   "execution_count": 172,
   "id": "d5e1a201",
   "metadata": {},
   "outputs": [
    {
     "name": "stdout",
     "output_type": "stream",
     "text": [
      "2"
     ]
    }
   ],
   "source": [
    "input_data.shape[1]"
   ]
  },
  {
   "cell_type": "code",
   "execution_count": 173,
   "id": "094e1a69",
   "metadata": {},
   "outputs": [],
   "source": [
    "vis(input_data)"
   ]
  },
  {
   "cell_type": "code",
   "execution_count": 174,
   "id": "1628bb75",
   "metadata": {},
   "outputs": [],
   "source": [
    "vis(pred)"
   ]
  },
  {
   "cell_type": "code",
   "execution_count": 175,
   "id": "abcb38ff",
   "metadata": {},
   "outputs": [],
   "source": [
    "from sklearn.preprocessing import MinMaxScaler\n",
    "\n",
    "def eval_bnaf(model, dataset, instance_idx, scale=True, verbose=True):\n",
    "    input_data = dataset.__getitem__(instance_idx)\n",
    "    zzk, logdets = model(input_data.reshape(1,-1))\n",
    "    log_prob = model.base_dist.log_prob(zzk) + logdets\n",
    "    prob = log_prob.sum(1).exp().cpu()\n",
    "    pred = log_prob.reshape(1024,2).cpu().detach()\n",
    "\n",
    "    if verbose:\n",
    "        print('zzk:{}, logdets:{}'.format(zzk.shape, logdets.shape))\n",
    "        print('zzk:{}, logdets:{}'.format(prob.shape, log_prob.shape))\n",
    "        print('pred:{}'.format(pred.shape))\n",
    "\n",
    "    if scale:\n",
    "        scaler = MinMaxScaler()\n",
    "        pred = scaler.fit_transform(pred) * 125\n",
    "        pred = torch.Tensor(pred)\n",
    "\n",
    "    return input_data, pred\n",
    "\n",
    "input_data, pred = eval_bnaf(model, dataset, instance_idx=2, scale=True)"
   ]
  },
  {
   "cell_type": "code",
   "execution_count": 176,
   "id": "3a730232",
   "metadata": {},
   "outputs": [
    {
     "name": "stdout",
     "output_type": "stream",
     "text": [
      "2"
     ]
    }
   ],
   "source": [
    "input_data.shape[1]"
   ]
  },
  {
   "cell_type": "code",
   "execution_count": 177,
   "id": "40892be3",
   "metadata": {},
   "outputs": [],
   "source": [
    "vis(input_data)"
   ]
  },
  {
   "cell_type": "code",
   "execution_count": 178,
   "id": "9f4938ed",
   "metadata": {},
   "outputs": [],
   "source": [
    "vis(pred)"
   ]
  },
  {
   "cell_type": "code",
   "execution_count": 179,
   "id": "daa9a21f",
   "metadata": {},
   "outputs": [],
   "source": [
    "from sklearn.preprocessing import MinMaxScaler\n",
    "\n",
    "def eval_bnaf(model, dataset, instance_idx, scale=True, verbose=True):\n",
    "    input_data = dataset.__getitem__(instance_idx)\n",
    "    zzk, logdets = model(input_data.reshape(1,-1))\n",
    "    log_prob = model.base_dist.log_prob(zzk) + logdets\n",
    "    prob = log_prob.sum(1).exp().cpu()\n",
    "    pred = log_prob.reshape(1024,2).cpu().detach()\n",
    "\n",
    "    if verbose:\n",
    "        print('zzk:{}, logdets:{}'.format(zzk.shape, logdets.shape))\n",
    "        print('zzk:{}, logdets:{}'.format(prob.shape, log_prob.shape))\n",
    "        print('pred:{}'.format(pred.shape))\n",
    "\n",
    "    if scale:\n",
    "        scaler = MinMaxScaler()\n",
    "        pred = scaler.fit_transform(pred) * 125\n",
    "        pred = torch.Tensor(pred)\n",
    "\n",
    "    return input_data, pred"
   ]
  },
  {
   "cell_type": "code",
   "execution_count": 180,
   "id": "7cb9e898",
   "metadata": {},
   "outputs": [],
   "source": [
    "IDX = 1\n",
    "\n",
    "input_data, pred = eval_bnaf(model, dataset, instance_idx=IDX, scale=True, verbose=False)\n",
    "vis(input_data)\n",
    "vis(pred)"
   ]
  },
  {
   "cell_type": "code",
   "execution_count": 181,
   "id": "417db2ca",
   "metadata": {},
   "outputs": [],
   "source": [
    "for IDX in range(2:10):\n",
    "    input_data, pred = eval_bnaf(model, dataset, instance_idx=IDX, scale=True, verbose=False)\n",
    "    vis(input_data)\n",
    "    vis(pred)"
   ]
  },
  {
   "cell_type": "code",
   "execution_count": 182,
   "id": "4ed84c45",
   "metadata": {},
   "outputs": [],
   "source": [
    "for IDX in range(2,10):\n",
    "    input_data, pred = eval_bnaf(model, dataset, instance_idx=IDX, scale=True, verbose=False)\n",
    "    vis(input_data)\n",
    "    vis(pred)"
   ]
  },
  {
   "cell_type": "code",
   "execution_count": 183,
   "id": "d90bcc74",
   "metadata": {},
   "outputs": [],
   "source": [
    "for IDX in range(2,3):\n",
    "    input_data, pred = eval_bnaf(model, dataset, instance_idx=IDX, scale=True, verbose=False)\n",
    "    vis(input_data, title='Data_Idx={:03d}'.format(IDX))\n",
    "    vis(pred, title='Pred_Idx={:03d}'.format(IDX))"
   ]
  },
  {
   "cell_type": "code",
   "execution_count": 184,
   "id": "c562a7df",
   "metadata": {},
   "outputs": [],
   "source": [
    "for IDX in range(2,5):\n",
    "    input_data, pred = eval_bnaf(model, dataset, instance_idx=IDX, scale=True, verbose=False)\n",
    "    vis(input_data, title='Data_Idx={:03d}'.format(IDX))\n",
    "    vis(pred, title='Pred_Idx={:03d}'.format(IDX))\n",
    "    print('\\n\\n')"
   ]
  },
  {
   "cell_type": "code",
   "execution_count": 185,
   "id": "801dde0d",
   "metadata": {},
   "outputs": [],
   "source": [
    "for IDX in range(2,5):\n",
    "    input_data, pred = eval_bnaf(model, dataset, instance_idx=IDX, scale=True, verbose=False)\n",
    "    vis(input_data, title='Data_Idx={:03d}'.format(IDX))\n",
    "    vis(pred, title='Pred_Idx={:03d}'.format(IDX))"
   ]
  },
  {
   "cell_type": "code",
   "execution_count": 186,
   "id": "0b443ec8",
   "metadata": {},
   "outputs": [],
   "source": [
    "for IDX in range(5.15):\n",
    "    input_data, pred = eval_bnaf(model, dataset, instance_idx=IDX, scale=True, verbose=False)\n",
    "    vis(input_data, title='Data_Idx={:03d}'.format(IDX))\n",
    "    vis(pred, title='Pred_Idx={:03d}'.format(IDX))"
   ]
  },
  {
   "cell_type": "code",
   "execution_count": 187,
   "id": "64738bab",
   "metadata": {},
   "outputs": [],
   "source": [
    "for IDX in range(5,15):\n",
    "    input_data, pred = eval_bnaf(model, dataset, instance_idx=IDX, scale=True, verbose=False)\n",
    "    vis(input_data, title='Data_Idx={:03d}'.format(IDX))\n",
    "    vis(pred, title='Pred_Idx={:03d}'.format(IDX))"
   ]
  },
  {
   "cell_type": "code",
   "execution_count": 188,
   "id": "d65b9099",
   "metadata": {},
   "outputs": [
    {
     "name": "stdout",
     "output_type": "stream",
     "text": [
      "(3000, 500, 0.001)"
     ]
    }
   ],
   "source": [
    "args.step, args.n_steps, args.lr"
   ]
  },
  {
   "cell_type": "code",
   "execution_count": 189,
   "id": "4c6f9cd8",
   "metadata": {},
   "outputs": [],
   "source": [
    "args.lr = 0.001\n",
    "args.n_steps = 500"
   ]
  },
  {
   "cell_type": "code",
   "execution_count": 190,
   "id": "408488a6",
   "metadata": {},
   "outputs": [],
   "source": [
    "# Train The Model\n",
    "train_flow(model, dataset, loss_fn, optimizer, scheduler, args)"
   ]
  },
  {
   "cell_type": "code",
   "execution_count": 191,
   "id": "009fade5",
   "metadata": {},
   "outputs": [],
   "source": [
    "args.lr = 0.001\n",
    "args.n_steps = 10"
   ]
  },
  {
   "cell_type": "code",
   "execution_count": 192,
   "id": "3c69501d",
   "metadata": {},
   "outputs": [],
   "source": [
    "# Train The Model\n",
    "train_flow(model, dataset, loss_fn, optimizer, scheduler, args)"
   ]
  },
  {
   "cell_type": "code",
   "execution_count": 193,
   "id": "a33b570c",
   "metadata": {},
   "outputs": [],
   "source": [
    "# Train The Model\n",
    "train_flow(model, dataset, loss_fn, optimizer, scheduler, args)"
   ]
  },
  {
   "cell_type": "code",
   "execution_count": 194,
   "id": "25ac3c16",
   "metadata": {},
   "outputs": [],
   "source": [
    "''' Model '''\n",
    "\n",
    "class BNAF(nn.Module):\n",
    "    def __init__(self, data_dim, n_hidden, hidden_dim):\n",
    "        super().__init__()\n",
    "\n",
    "        # base distribution for calculation of log prob under the model\n",
    "        self.register_buffer('base_dist_mean', torch.zeros(data_dim))\n",
    "        self.register_buffer('base_dist_var', torch.ones(data_dim))\n",
    "\n",
    "        # construct model\n",
    "        modules = []\n",
    "        modules += [MaskedLinear(data_dim, hidden_dim, data_dim), Tanh()]\n",
    "        for _ in range(n_hidden):\n",
    "            modules += [MaskedLinear(hidden_dim, hidden_dim, data_dim), Tanh()]\n",
    "        modules += [MaskedLinear(hidden_dim, data_dim, data_dim)]\n",
    "        self.net = FlowSequential(*modules)\n",
    "\n",
    "        # TODO --   add permutation\n",
    "        #           add residual gate\n",
    "        #           add stack of flows\n",
    "\n",
    "    @property\n",
    "    def base_dist(self):\n",
    "        return D.Normal(self.base_dist_mean, self.base_dist_var)\n",
    "\n",
    "    def forward(self, x):\n",
    "        return self.net(x)\n",
    "\n",
    "def compute_kl_pq_loss(model, input_data):\n",
    "    input_data = input_data.to(model.base_dist.loc.device)\n",
    "    z, logdet = model(input_data)\n",
    "    print(z)\n",
    "    print(logdet)\n",
    "    return - torch.sum(model.base_dist.log_prob(z) + logdet, dim=1)"
   ]
  },
  {
   "cell_type": "code",
   "execution_count": 195,
   "id": "818022fd",
   "metadata": {},
   "outputs": [],
   "source": [
    "# Train The Model\n",
    "train_flow(model, dataset, loss_fn, optimizer, scheduler, args)"
   ]
  },
  {
   "cell_type": "code",
   "execution_count": 196,
   "id": "72b4e0ee",
   "metadata": {},
   "outputs": [],
   "source": [
    "import torch\n",
    "import torch.nn as nn\n",
    "import torch.nn.functional as F\n",
    "import torch.distributions as D\n",
    "from torch.utils.data import DataLoader, TensorDataset\n",
    "\n",
    "import math\n",
    "import os\n",
    "import time\n",
    "import argparse\n",
    "import pprint\n",
    "from functools import partial\n",
    "\n",
    "import matplotlib\n",
    "matplotlib.use('Agg')\n",
    "import matplotlib.pyplot as plt\n",
    "from tqdm import tqdm"
   ]
  },
  {
   "cell_type": "code",
   "execution_count": 197,
   "id": "6e0af087",
   "metadata": {},
   "outputs": [],
   "source": [
    "def get_args():\n",
    "    parser = argparse.ArgumentParser()\n",
    "    parser.add_argument('--train', action='store_true', help='Train a flow.')\n",
    "    parser.add_argument('--plot', action='store_false', help='Plot a flow and target density.')\n",
    "    parser.add_argument('--restore_file', type=str, help='Path to model to restore.')\n",
    "    parser.add_argument('--output_dir', default='./results/run_')\n",
    "    parser.add_argument('--cuda', type=int, help='Which GPU to run on.')\n",
    "    parser.add_argument('--seed', type=int, default=0, help='Random seed.')\n",
    "    # model parameters\n",
    "    parser.add_argument('--data_dim', type=int, default=2, help='Dimension of the data.')\n",
    "    parser.add_argument('--hidden_dim', type=int, default=100, help='Dimensions of hidden layers.')\n",
    "    parser.add_argument('--n_hidden', type=int, default=3, help='Number of hidden layers.')\n",
    "    # training parameters\n",
    "    parser.add_argument('--step', type=int, default=0, help='Current step of training (number of minibatches processed).')\n",
    "    parser.add_argument('--n_steps', type=int, default=1, help='Number of steps to train.')\n",
    "    parser.add_argument('--batch_size', type=int, default=200, help='Training batch size.')\n",
    "    parser.add_argument('--lr', type=float, default=1e-1, help='Initial learning rate.')\n",
    "    parser.add_argument('--lr_decay', type=float, default=0.5, help='Learning rate decay.')\n",
    "    parser.add_argument('--lr_patience', type=float, default=2000, help='Number of steps before decaying learning rate.')\n",
    "    parser.add_argument('--log_interval', type=int, default=50, help='How often to save model and samples.')\n",
    "\n",
    "    args = parser.parse_args([])\n",
    "    args.output_dir = os.path.join('./results/run_', time.strftime('%Y-%m-%d_%H-%M-%S', time.gmtime()))\n",
    "    if not os.path.isdir(args.output_dir): \n",
    "        os.makedirs(args.output_dir)\n",
    "    args.device = torch.device('cuda:{}'.format(args.cuda) if args.cuda is not None and torch.cuda.is_available() else 'cpu')\n",
    "\n",
    "    return args"
   ]
  },
  {
   "cell_type": "code",
   "execution_count": 198,
   "id": "668b8fb2",
   "metadata": {},
   "outputs": [
    {
     "name": "stdout",
     "output_type": "stream",
     "text": [
      "tensor([1., 2., 3., 4., 5.])"
     ]
    }
   ],
   "source": [
    "d = [1,2,3,4,5]\n",
    "d = torch.Tensor(d)\n",
    "d = d.type(torch.int)\n",
    "d = d.type(torch.float32)\n",
    "d\n",
    "# d.dtype"
   ]
  },
  {
   "cell_type": "code",
   "execution_count": 199,
   "id": "08aa6b5f",
   "metadata": {},
   "outputs": [],
   "source": [
    "''' Model components ''' \n",
    "\n",
    "class MaskedLinear(nn.Module):\n",
    "    def __init__(self, in_features, out_features, data_dim):\n",
    "        super().__init__()\n",
    "        self.in_features = in_features\n",
    "        self.out_features = out_features\n",
    "        self.data_dim = data_dim\n",
    "        # print(self.in_features, self.out_features, self.data_dim)\n",
    "\n",
    "        # Notation:\n",
    "        # BNAF weight calculation for (eq 8): W = g(W) * M_d + W * M_o\n",
    "        #   where W is block lower triangular so model is autoregressive,\n",
    "        #         g = exp function; M_d is block diagonal mask; M_o is block off-diagonal mask.\n",
    "        # Weight Normalization (Salimans & Kingma, eq 2): w = g * v / ||v||\n",
    "        #   where g is scalar, v is k-dim vector, ||v|| is Euclidean norm\n",
    "        # ------\n",
    "        # Here: pre-weight norm matrix is v; then: v = exp(weight) * mask_d + weight * mask_o\n",
    "        #       weight-norm scalar is g: out_features dimensional vector (here logg is used instead to avoid taking logs in the logdet calc.\n",
    "        #       then weight-normed weight matrix is w = g * v / ||v||\n",
    "        #\n",
    "        #       log det jacobian of block lower triangular is taking block diagonal mask of\n",
    "        #           log(g*v/||v||) = log(g) + log(v) - log(||v||)\n",
    "        #                          = log(g) + weight - log(||v||) since v = exp(weight) * mask_d + weight * mask_o\n",
    "\n",
    "        weight = torch.zeros(out_features, in_features)\n",
    "        mask_d = torch.zeros_like(weight)\n",
    "        mask_o = torch.zeros_like(weight)\n",
    "        for i in range(data_dim):\n",
    "            # select block slices\n",
    "            h     = slice(i * out_features // data_dim, (i+1) * out_features // data_dim)\n",
    "            w     = slice(i * in_features // data_dim,  (i+1) * in_features // data_dim)\n",
    "            w_row = slice(0,                            (i+1) * in_features // data_dim)\n",
    "            # initialize block-lower-triangular weight and construct block diagonal mask_d and lower triangular mask_o\n",
    "            nn.init.kaiming_uniform_(weight[h,w_row], a=math.sqrt(5))  # default nn.Linear weight init only block-wise\n",
    "            mask_d[h,w] = 1\n",
    "            mask_o[h,w_row] = 1\n",
    "\n",
    "        mask_o = mask_o - mask_d  # remove diagonal so mask_o is lower triangular 1-off the diagonal\n",
    "\n",
    "        self.weight = nn.Parameter(weight)                          # pre-mask, pre-weight-norm\n",
    "        self.logg = nn.Parameter(torch.rand(out_features, 1).log()) # weight-norm parameter\n",
    "        self.bias = nn.Parameter(nn.init.uniform_(torch.rand(out_features), -1/math.sqrt(in_features), 1/math.sqrt(in_features)))  # default nn.Linear bias init\n",
    "        self.register_buffer('mask_d', mask_d)\n",
    "        self.register_buffer('mask_o', mask_o)\n",
    "\n",
    "    def forward(self, x, sum_logdets):\n",
    "        # 1. compute BNAF masked weight eq 8\n",
    "        v = self.weight.exp() * self.mask_d + self.weight * self.mask_o\n",
    "        # 2. weight normalization\n",
    "        v_norm = v.norm(p=2, dim=1, keepdim=True)\n",
    "        w = self.logg.exp() * v / v_norm\n",
    "        # 3. compute output and logdet of the layer\n",
    "        # print(x.dtype)\n",
    "        # print(w.dtype)\n",
    "        # print(x)\n",
    "        # print(w)\n",
    "        x = x.type(torch.float32)\n",
    "        # print(x.dtype)\n",
    "        out = F.linear(x, w, self.bias)\n",
    "        # print('Out:', out.shape)\n",
    "\n",
    "\n",
    "        logdet = self.logg + self.weight - 0.5 * v_norm.pow(2).log()\n",
    "        logdet = logdet[self.mask_d.byte()]\n",
    "        logdet = logdet.view(1, self.data_dim, out.shape[1]//self.data_dim, x.shape[1]//self.data_dim) \\\n",
    "                       .expand(x.shape[0],-1,-1,-1)  # output (B, data_dim, out_dim // data_dim, in_dim // data_dim)\n",
    "\n",
    "        # 4. sum with sum_logdets from layers before (BNAF section 3.3)\n",
    "        # Compute log det jacobian of the flow (eq 9, 10, 11) using log-matrix multiplication of the different layers.\n",
    "        # Specifically for two successive MaskedLinear layers A -> B with logdets A and B of shapes\n",
    "        #  logdet A is (B, data_dim, outA_dim, inA_dim)\n",
    "        #  logdet B is (B, data_dim, outB_dim, inB_dim) where outA_dim = inB_dim\n",
    "        #\n",
    "        #  Note -- in the first layer, inA_dim = in_features//data_dim = 1 since in_features == data_dim.\n",
    "        #            thus logdet A is (B, data_dim, outA_dim, 1)\n",
    "        #\n",
    "        #  Then:\n",
    "        #  logsumexp(A.transpose(2,3) + B) = logsumexp( (B, data_dim, 1, outA_dim) + (B, data_dim, outB_dim, inB_dim) , dim=-1)\n",
    "        #                                  = logsumexp( (B, data_dim, 1, outA_dim) + (B, data_dim, outB_dim, outA_dim), dim=-1)\n",
    "        #                                  = logsumexp( (B, data_dim, outB_dim, outA_dim), dim=-1) where dim2 of tensor1 is broadcasted\n",
    "        #                                  = (B, data_dim, outB_dim, 1)\n",
    "\n",
    "        sum_logdets = torch.logsumexp(sum_logdets.transpose(2,3) + logdet, dim=-1, keepdim=True)\n",
    "\n",
    "        return out, sum_logdets\n",
    "\n",
    "\n",
    "    def extra_repr(self):\n",
    "        return 'in_features={}, out_features={}, bias={}'.format(\n",
    "            self.in_features, self.out_features, self.bias is not None\n",
    "        )\n",
    "\n",
    "class Tanh(nn.Module):\n",
    "    def __init__(self):\n",
    "        super().__init__()\n",
    "\n",
    "    def forward(self, x, sum_logdets):\n",
    "        # derivation of logdet:\n",
    "        # d/dx tanh = 1 / cosh^2; cosh = (1 + exp(-2x)) / (2*exp(-x))\n",
    "        # log d/dx tanh = - 2 * log cosh = -2 * (x - log 2 + log(1 + exp(-2x)))\n",
    "        logdet = -2 * (x - math.log(2) + F.softplus(-2*x))\n",
    "        sum_logdets = sum_logdets + logdet.view_as(sum_logdets)\n",
    "        return x.tanh(), sum_logdets\n",
    "\n",
    "class FlowSequential(nn.Sequential):\n",
    "    \"\"\" Container for layers of a normalizing flow \"\"\"\n",
    "    def forward(self, x):\n",
    "        sum_logdets = torch.zeros(1, x.shape[1], 1, 1, device=x.device)\n",
    "        for module in self:\n",
    "            x, sum_logdets = module(x, sum_logdets)\n",
    "        return x, sum_logdets.squeeze()"
   ]
  },
  {
   "cell_type": "code",
   "execution_count": 200,
   "id": "3b931841",
   "metadata": {},
   "outputs": [],
   "source": [
    "''' Model '''\n",
    "\n",
    "class BNAF(nn.Module):\n",
    "    def __init__(self, data_dim, n_hidden, hidden_dim):\n",
    "        super().__init__()\n",
    "\n",
    "        # base distribution for calculation of log prob under the model\n",
    "        self.register_buffer('base_dist_mean', torch.zeros(data_dim))\n",
    "        self.register_buffer('base_dist_var', torch.ones(data_dim))\n",
    "\n",
    "        # construct model\n",
    "        modules = []\n",
    "        modules += [MaskedLinear(data_dim, hidden_dim, data_dim), Tanh()]\n",
    "        for _ in range(n_hidden):\n",
    "            modules += [MaskedLinear(hidden_dim, hidden_dim, data_dim), Tanh()]\n",
    "        modules += [MaskedLinear(hidden_dim, data_dim, data_dim)]\n",
    "        self.net = FlowSequential(*modules)\n",
    "\n",
    "        # TODO --   add permutation\n",
    "        #           add residual gate\n",
    "        #           add stack of flows\n",
    "\n",
    "    @property\n",
    "    def base_dist(self):\n",
    "        return D.Normal(self.base_dist_mean, self.base_dist_var)\n",
    "\n",
    "    def forward(self, x):\n",
    "        return self.net(x)\n",
    "\n",
    "def compute_kl_pq_loss(model, input_data):\n",
    "    input_data = input_data.to(model.base_dist.loc.device)\n",
    "    z, logdet = model(input_data)\n",
    "    print(z)\n",
    "    print(logdet)\n",
    "    return - torch.sum(model.base_dist.log_prob(z) + logdet, dim=1)"
   ]
  },
  {
   "cell_type": "code",
   "execution_count": 201,
   "id": "6aa3bbef",
   "metadata": {},
   "outputs": [],
   "source": [
    "''' Training ''' \n",
    "\n",
    "def train_flow(model, dataset, loss_fn, optimizer, scheduler, args):\n",
    "    model.train()\n",
    "\n",
    "    init_steps = args.step\n",
    "    for idx in range(args.n_steps):\n",
    "        args.step += 1\n",
    "\n",
    "        input_data = dataset.__getitem__(idx)\n",
    "        input_data = input_data.reshape(1,-1)\n",
    "        loss = loss_fn(model, input_data).mean(0)\n",
    "\n",
    "        optimizer.zero_grad()\n",
    "        loss.backward()\n",
    "        optimizer.step()\n",
    "        scheduler.step(loss)\n",
    "\n",
    "        print(\"Step: {:03d}/{:03d} | Loss: {:14.2f}\".format(args.step, init_steps+args.n_steps, loss.item()))\n",
    "        wandb.log({'Step': args.step, 'Loss': loss.item(), 'Learning_Rate': args.lr})\n",
    "\n",
    "        if args.step % args.log_interval == 0:\n",
    "            # save model\n",
    "            torch.save({'step': args.step,\n",
    "                        'state_dict': model.state_dict()},\n",
    "                        os.path.join(args.output_dir, 'checkpoint.pt'))\n",
    "            torch.save({'optimizer': optimizer.state_dict(),\n",
    "                        'scheduler': scheduler.state_dict()},\n",
    "                        os.path.join(args.output_dir, 'optim_checkpoint.pt'))"
   ]
  },
  {
   "cell_type": "code",
   "execution_count": 202,
   "id": "be304d80",
   "metadata": {},
   "outputs": [],
   "source": [
    "# Config to initialize wandb.\n",
    "DEFAULT_CFG = {\n",
    "    'model': 'BNAF',\n",
    "    'root_dir': ROOT,\n",
    "}"
   ]
  },
  {
   "cell_type": "code",
   "execution_count": 203,
   "id": "07470850",
   "metadata": {},
   "outputs": [
    {
     "name": "stdout",
     "output_type": "stream",
     "text": [
      "True"
     ]
    }
   ],
   "source": [
    "10 in range(10, 20+1)"
   ]
  },
  {
   "cell_type": "code",
   "execution_count": 204,
   "id": "802d4e42",
   "metadata": {},
   "outputs": [
    {
     "name": "stdout",
     "output_type": "stream",
     "text": [
      "False"
     ]
    }
   ],
   "source": [
    "10 in range(11, 20+1)"
   ]
  },
  {
   "cell_type": "code",
   "execution_count": 205,
   "id": "bb2f74d2",
   "metadata": {},
   "outputs": [
    {
     "name": "stdout",
     "output_type": "stream",
     "text": [
      "True"
     ]
    }
   ],
   "source": [
    "20 in range(11, 20+1)"
   ]
  },
  {
   "cell_type": "code",
   "execution_count": 206,
   "id": "1f0ec971",
   "metadata": {},
   "outputs": [
    {
     "name": "stdout",
     "output_type": "stream",
     "text": [
      "False"
     ]
    }
   ],
   "source": [
    "21 in range(11, 20+1)"
   ]
  },
  {
   "cell_type": "code",
   "execution_count": 207,
   "id": "5f1152da",
   "metadata": {},
   "outputs": [],
   "source": [
    "i = 10\n",
    "while i<20:\n",
    "    print(i)\n",
    "    i++"
   ]
  },
  {
   "cell_type": "code",
   "execution_count": 208,
   "id": "1322f817",
   "metadata": {},
   "outputs": [],
   "source": [
    "i = 10\n",
    "while i<20:\n",
    "    print(i)\n",
    "    i += 1"
   ]
  },
  {
   "cell_type": "code",
   "execution_count": 209,
   "id": "b22f390c",
   "metadata": {},
   "outputs": [],
   "source": [
    "import torch\n",
    "from torch.utils.data import *\n",
    "\n",
    "class ParquetDataset(Dataset):\n",
    "    def __init__(self, filename, channels=[1], max_instances=768, min_instances=384):\n",
    "        self.parquet = pq.ParquetFile(filename)\n",
    "        self.cols = None \n",
    "        self.verbose = False\n",
    "        self.channels = channels  # Channels to process - currently only Ecal. \n",
    "        self.max_instances = max_instances  # Number of max hits to force in each jet.\n",
    "        self.min_instances = min_instances  # Number of min hits to force in each jet.\n",
    "        self.total_len = self.parquet.num_row_groups\n",
    "        assert self.channels == [1]         # Temporary Hack for Ecal\n",
    "        self.cur_idx = 0\n",
    "\n",
    "    def __getitem__(self, index):\n",
    "        raise NotImplementedError('Use `get_next_valid_instance` instead`.')\n",
    "\n",
    "    def __len__(self):\n",
    "        return self.total_len // 3            # Set a safe limit.\n",
    "\n",
    "    def get_next_valid_instance(self):\n",
    "        allowed_range = range(self.min_instances, self.max_instances+1)\n",
    "        \n",
    "        while True:\n",
    "            for idx in range(self.cur_idx, self.total_len):\n",
    "                raw_jet = self.get_raw_instance(idx)\n",
    "                parsed_jet = self.parse_img(raw_jet)\n",
    "                if parsed_jet.shape[0] in allowed_range:\n",
    "                    padded_jet = self.pad_instance(parsed_jet)\n",
    "                    return padded_jet, idx     # Exit after finding a valid instance\n",
    "                else:\n",
    "                    if self.verbose:\n",
    "                        print('Skipped instance at idx={}, shape={}'.format(idx, parsed_jet.shape))\n",
    "\n",
    "            # End of dataset, loop back.\n",
    "            self.cur_idx = 0\n",
    "\n",
    "    def get_raw_instance(self, index):\n",
    "        data = self.parquet.read_row_group(index, columns=self.cols).to_pydict()\n",
    "        data['X_jets'] = np.float32(data['X_jets'][0]) \n",
    "        data['X_jets'] = data['X_jets'][0:]\n",
    "        data['X_jets'][data['X_jets'] < 1.e-3] = 0.     # Zero-Suppression\n",
    "        raw_jet = dict(data)['X_jets'][1]\n",
    "        return raw_jet\n",
    "\n",
    "    def parse_img(self, track_img, reduce=False):\n",
    "        '''\n",
    "        Returns non-zero hits from the single-channel input jet image - `track_img`. \n",
    "        If `max_instances` is defined then returns an array of shape [max_instances, 3].   \n",
    "        Else returns an array of shape [N, 3] where N is the number of non-zero hits in each jet.\n",
    "        '''\n",
    "        track_img = torch.Tensor(track_img)        \n",
    "        x_pos, y_pos = torch.nonzero(track_img, as_tuple=True)\n",
    "        val = track_img[x_pos, y_pos]\n",
    "        out = torch.stack((x_pos,y_pos),dim=1)\n",
    "        # print(out.shape)\n",
    "        \n",
    "        if self.verbose:\n",
    "            print('Output Shape:', out.shape)\n",
    "        return out\n",
    "\n",
    "    def pad_instance(self, instance):\n",
    "        assert instance.shape[0] <= self.max_instances\n",
    "        assert instance.shape[0] >= self.min_instances\n",
    "        pad_len = self.max_instances - instance.shape[0]\n",
    "        instance = F.pad(instance, pad=(0, 0, 0, pad_len), mode='constant', value=0)\n",
    "        return instance"
   ]
  },
  {
   "cell_type": "code",
   "execution_count": 210,
   "id": "ea3b6d99",
   "metadata": {},
   "outputs": [],
   "source": [
    "def vis(arr, is_parsed=True, title=None, scale=1000, cmap='gist_heat', reduce=False):  \n",
    "    '''\n",
    "    Visualise a jet instance.\n",
    "    '''\n",
    "\n",
    "    if not is_parsed:   \n",
    "        arr = parse_img(arr, reduce)\n",
    "\n",
    "    if arr.shape[1] == 3:\n",
    "        x_pos, y_pos, val = arr[:,0], arr[:,1], arr[:,2]\n",
    "    elif arr.shape[1] == 2:\n",
    "        x_pos, y_pos = arr[:,0], arr[:,1]\n",
    "        val = torch.ones_like(x_pos)\n",
    "        scale = None\n",
    "\n",
    "    if scale:\n",
    "        sz = np.array(np.abs(val)) * scale\n",
    "    else:\n",
    "        sz = np.ones_like(val) * 10\n",
    "        \n",
    "    plt.figure(figsize=[10,6], facecolor='#f0f0f0')\n",
    "    cm = plt.cm.get_cmap(cmap)     # 'gist_heat' / 'YlOrRd'\n",
    "    sc = plt.scatter(x_pos, y_pos, c=val, s=sz, cmap=cm, alpha=0.5, edgecolors='k')\n",
    "    plt.colorbar(sc)\n",
    "    plt.xlim(0, 126)\n",
    "    plt.ylim(0, 126)\n",
    "    plt.xticks(range(0,125,25))\n",
    "    plt.yticks(range(0,125,25))\n",
    "    plt.grid()\n",
    "    if title:\n",
    "        plt.title(title)\n",
    "    plt.show()"
   ]
  },
  {
   "cell_type": "code",
   "execution_count": 211,
   "id": "25b3f181",
   "metadata": {},
   "outputs": [],
   "source": [
    "dataset_file = DATA_ROOT + INPUT_FORMAT.format(0)\n",
    "dataset = ParquetDataset(dataset_file, max_instances=None)\n",
    "dataset.verbose = True\n",
    "print('Length of Dataset: ', dataset.__len__())"
   ]
  },
  {
   "cell_type": "code",
   "execution_count": 212,
   "id": "fc4d52b4",
   "metadata": {},
   "outputs": [],
   "source": [
    "dataset_file = DATA_ROOT + INPUT_FORMAT.format(0)\n",
    "dataset = ParquetDataset(dataset_file, max_instances=None)\n",
    "dataset.verbose = True\n",
    "print('Length of Dataset: ', dataset.__len__())\n",
    "print('Length of Dataset: ', dataset.total_len)"
   ]
  },
  {
   "cell_type": "code",
   "execution_count": 213,
   "id": "07a2bcee",
   "metadata": {},
   "outputs": [],
   "source": [
    "dataset_file = DATA_ROOT + INPUT_FORMAT.format(0)\n",
    "dataset = ParquetDataset(dataset_file, max_instances=None)\n",
    "dataset.verbose = True\n",
    "print('Assumed Length of Dataset: ', dataset.__len__())\n",
    "print('Max Length of Dataset: ', dataset.total_len)"
   ]
  },
  {
   "cell_type": "code",
   "execution_count": 214,
   "id": "2f5a6506",
   "metadata": {},
   "outputs": [],
   "source": [
    "data_sample = dataset.__getitem__(1)"
   ]
  },
  {
   "cell_type": "code",
   "execution_count": 215,
   "id": "f5c4918c",
   "metadata": {},
   "outputs": [],
   "source": [
    "data_sample = dataset.get_next_valid_instance()"
   ]
  },
  {
   "cell_type": "code",
   "execution_count": 216,
   "id": "a31f4bb8",
   "metadata": {},
   "outputs": [],
   "source": [
    "dataset_file = DATA_ROOT + INPUT_FORMAT.format(0)\n",
    "dataset = ParquetDataset(dataset_file, max_instances)\n",
    "dataset.verbose = True\n",
    "print('Assumed Length of Dataset: ', dataset.__len__())\n",
    "print('Max Length of Dataset: ', dataset.total_len)"
   ]
  },
  {
   "cell_type": "code",
   "execution_count": 217,
   "id": "e39555aa",
   "metadata": {},
   "outputs": [],
   "source": [
    "dataset_file = DATA_ROOT + INPUT_FORMAT.format(0)\n",
    "dataset = ParquetDataset(dataset_file)\n",
    "dataset.verbose = True\n",
    "print('Assumed Length of Dataset: ', dataset.__len__())\n",
    "print('Max Length of Dataset: ', dataset.total_len)"
   ]
  },
  {
   "cell_type": "code",
   "execution_count": 218,
   "id": "256b0635",
   "metadata": {},
   "outputs": [],
   "source": [
    "data_sample = dataset.get_next_valid_instance()"
   ]
  },
  {
   "cell_type": "code",
   "execution_count": 219,
   "id": "be329307",
   "metadata": {},
   "outputs": [],
   "source": [
    "data_sample = dataset.get_next_valid_instance()"
   ]
  },
  {
   "cell_type": "code",
   "execution_count": 220,
   "id": "e0b47077",
   "metadata": {},
   "outputs": [],
   "source": [
    "data_sample = dataset.get_next_valid_instance()"
   ]
  },
  {
   "cell_type": "code",
   "execution_count": 221,
   "id": "d1b49f94",
   "metadata": {},
   "outputs": [],
   "source": [
    "import torch\n",
    "from torch.utils.data import *\n",
    "\n",
    "class ParquetDataset(Dataset):\n",
    "    def __init__(self, filename, channels=[1], max_instances=768, min_instances=384):\n",
    "        self.parquet = pq.ParquetFile(filename)\n",
    "        self.cols = None \n",
    "        self.verbose = False\n",
    "        self.channels = channels  # Channels to process - currently only Ecal. \n",
    "        self.max_instances = max_instances  # Number of max hits to force in each jet.\n",
    "        self.min_instances = min_instances  # Number of min hits to force in each jet.\n",
    "        self.total_len = self.parquet.num_row_groups\n",
    "        assert self.channels == [1]         # Temporary Hack for Ecal\n",
    "        self.cur_idx = 0\n",
    "\n",
    "    def __getitem__(self, index):\n",
    "        raise NotImplementedError('Use `get_next_valid_instance` instead`.')\n",
    "\n",
    "    def __len__(self):\n",
    "        return self.total_len // 3            # Set a safe limit.\n",
    "\n",
    "    def get_next_valid_instance(self):\n",
    "        allowed_range = range(self.min_instances, self.max_instances+1)\n",
    "        \n",
    "        while True:\n",
    "            for idx in range(self.cur_idx, self.total_len):\n",
    "                raw_jet = self.get_raw_instance(idx)\n",
    "                parsed_jet = self.parse_img(raw_jet)\n",
    "                if parsed_jet.shape[0] in allowed_range:\n",
    "                    padded_jet = self.pad_instance(parsed_jet)\n",
    "                    self.cur_idx = idx + 1\n",
    "                    return padded_jet, idx     # Exit after finding a valid instance\n",
    "                else:\n",
    "                    if self.verbose:\n",
    "                        print('Skipped instance at idx={}, shape={}'.format(idx, parsed_jet.shape))\n",
    "\n",
    "            # End of dataset, loop back.\n",
    "            self.cur_idx = 0\n",
    "\n",
    "    def get_raw_instance(self, index):\n",
    "        data = self.parquet.read_row_group(index, columns=self.cols).to_pydict()\n",
    "        data['X_jets'] = np.float32(data['X_jets'][0]) \n",
    "        data['X_jets'] = data['X_jets'][0:]\n",
    "        data['X_jets'][data['X_jets'] < 1.e-3] = 0.     # Zero-Suppression\n",
    "        raw_jet = dict(data)['X_jets'][1]\n",
    "        return raw_jet\n",
    "\n",
    "    def parse_img(self, track_img, reduce=False):\n",
    "        '''\n",
    "        Returns non-zero hits from the single-channel input jet image - `track_img`. \n",
    "        If `max_instances` is defined then returns an array of shape [max_instances, 3].   \n",
    "        Else returns an array of shape [N, 3] where N is the number of non-zero hits in each jet.\n",
    "        '''\n",
    "        track_img = torch.Tensor(track_img)        \n",
    "        x_pos, y_pos = torch.nonzero(track_img, as_tuple=True)\n",
    "        val = track_img[x_pos, y_pos]\n",
    "        out = torch.stack((x_pos,y_pos),dim=1)\n",
    "        # print(out.shape)\n",
    "        \n",
    "        if self.verbose:\n",
    "            print('Output Shape:', out.shape)\n",
    "        return out\n",
    "\n",
    "    def pad_instance(self, instance):\n",
    "        assert instance.shape[0] <= self.max_instances\n",
    "        assert instance.shape[0] >= self.min_instances\n",
    "        pad_len = self.max_instances - instance.shape[0]\n",
    "        instance = F.pad(instance, pad=(0, 0, 0, pad_len), mode='constant', value=0)\n",
    "        return instance"
   ]
  },
  {
   "cell_type": "code",
   "execution_count": 222,
   "id": "7a5de76a",
   "metadata": {},
   "outputs": [],
   "source": [
    "def vis(arr, is_parsed=True, title=None, scale=1000, cmap='gist_heat', reduce=False):  \n",
    "    '''\n",
    "    Visualise a jet instance.\n",
    "    '''\n",
    "\n",
    "    if not is_parsed:   \n",
    "        arr = parse_img(arr, reduce)\n",
    "\n",
    "    if arr.shape[1] == 3:\n",
    "        x_pos, y_pos, val = arr[:,0], arr[:,1], arr[:,2]\n",
    "    elif arr.shape[1] == 2:\n",
    "        x_pos, y_pos = arr[:,0], arr[:,1]\n",
    "        val = torch.ones_like(x_pos)\n",
    "        scale = None\n",
    "\n",
    "    if scale:\n",
    "        sz = np.array(np.abs(val)) * scale\n",
    "    else:\n",
    "        sz = np.ones_like(val) * 10\n",
    "        \n",
    "    plt.figure(figsize=[10,6], facecolor='#f0f0f0')\n",
    "    cm = plt.cm.get_cmap(cmap)     # 'gist_heat' / 'YlOrRd'\n",
    "    sc = plt.scatter(x_pos, y_pos, c=val, s=sz, cmap=cm, alpha=0.5, edgecolors='k')\n",
    "    plt.colorbar(sc)\n",
    "    plt.xlim(0, 126)\n",
    "    plt.ylim(0, 126)\n",
    "    plt.xticks(range(0,125,25))\n",
    "    plt.yticks(range(0,125,25))\n",
    "    plt.grid()\n",
    "    if title:\n",
    "        plt.title(title)\n",
    "    plt.show()"
   ]
  },
  {
   "cell_type": "code",
   "execution_count": 223,
   "id": "2009e186",
   "metadata": {},
   "outputs": [],
   "source": [
    "dataset_file = DATA_ROOT + INPUT_FORMAT.format(0)\n",
    "dataset = ParquetDataset(dataset_file)\n",
    "dataset.verbose = True\n",
    "print('Assumed Length of Dataset: ', dataset.__len__())\n",
    "print('Max Length of Dataset: ', dataset.total_len)"
   ]
  },
  {
   "cell_type": "code",
   "execution_count": 224,
   "id": "04a10ffc",
   "metadata": {},
   "outputs": [],
   "source": [
    "import torch\n",
    "from torch.utils.data import *\n",
    "\n",
    "class ParquetDataset(Dataset):\n",
    "    def __init__(self, filename, channels=[1], max_instances=768, min_instances=384):\n",
    "        self.parquet = pq.ParquetFile(filename)\n",
    "        self.cols = None \n",
    "        self.verbose = False\n",
    "        self.channels = channels  # Channels to process - currently only Ecal. \n",
    "        self.max_instances = max_instances  # Number of max hits to force in each jet.\n",
    "        self.min_instances = min_instances  # Number of min hits to force in each jet.\n",
    "        self.total_len = self.parquet.num_row_groups\n",
    "        assert self.channels == [1]         # Temporary Hack for Ecal\n",
    "        self.cur_idx = 0\n",
    "\n",
    "    def __getitem__(self, index):\n",
    "        raise NotImplementedError('Use `get_next_valid_instance` instead`.')\n",
    "\n",
    "    def __len__(self):\n",
    "        return self.total_len // 3            # Set a safe limit.\n",
    "\n",
    "    def get_next_valid_instance(self):\n",
    "        '''\n",
    "        Returns a valid sample, with it's true index.\n",
    "        '''\n",
    "        allowed_range = range(self.min_instances, self.max_instances+1)\n",
    "        \n",
    "        while True:\n",
    "            for idx in range(self.cur_idx, self.total_len):\n",
    "                raw_jet = self.get_raw_instance(idx)\n",
    "                parsed_jet = self.parse_img(raw_jet)\n",
    "                if parsed_jet.shape[0] in allowed_range:\n",
    "                    padded_jet = self.pad_instance(parsed_jet)\n",
    "                    self.cur_idx = idx + 1\n",
    "                    return padded_jet, idx     # Exit after finding a valid instance\n",
    "                else:\n",
    "                    if self.verbose:\n",
    "                        print('-- Skipped instance at idx={}, shape={}'.format(idx, parsed_jet.shape))\n",
    "\n",
    "            # End of dataset, loop back.\n",
    "            self.cur_idx = 0\n",
    "\n",
    "    def get_raw_instance(self, index):\n",
    "        data = self.parquet.read_row_group(index, columns=self.cols).to_pydict()\n",
    "        data['X_jets'] = np.float32(data['X_jets'][0]) \n",
    "        data['X_jets'] = data['X_jets'][0:]\n",
    "        data['X_jets'][data['X_jets'] < 1.e-3] = 0.     # Zero-Suppression\n",
    "        raw_jet = dict(data)['X_jets'][1]\n",
    "        return raw_jet\n",
    "\n",
    "    def parse_img(self, track_img, reduce=False):\n",
    "        '''\n",
    "        Returns non-zero hits from the single-channel input jet image - `track_img`. \n",
    "        If `max_instances` is defined then returns an array of shape [max_instances, 3].   \n",
    "        Else returns an array of shape [N, 3] where N is the number of non-zero hits in each jet.\n",
    "        '''\n",
    "        track_img = torch.Tensor(track_img)        \n",
    "        x_pos, y_pos = torch.nonzero(track_img, as_tuple=True)\n",
    "        val = track_img[x_pos, y_pos]\n",
    "        out = torch.stack((x_pos,y_pos),dim=1)        \n",
    "        if self.verbose:\n",
    "            print('-- Output Shape:', out.shape)\n",
    "        return out\n",
    "\n",
    "    def pad_instance(self, instance):\n",
    "        assert instance.shape[0] <= self.max_instances\n",
    "        assert instance.shape[0] >= self.min_instances\n",
    "        pad_len = self.max_instances - instance.shape[0]\n",
    "        instance = F.pad(instance, pad=(0, 0, 0, pad_len), mode='constant', value=0)\n",
    "        return instance"
   ]
  },
  {
   "cell_type": "code",
   "execution_count": 225,
   "id": "67065faf",
   "metadata": {},
   "outputs": [],
   "source": [
    "def vis(arr, is_parsed=True, title=None, scale=1000, cmap='gist_heat', reduce=False):  \n",
    "    '''\n",
    "    Visualise a jet instance.\n",
    "    '''\n",
    "\n",
    "    if not is_parsed:   \n",
    "        arr = parse_img(arr, reduce)\n",
    "\n",
    "    if arr.shape[1] == 3:\n",
    "        x_pos, y_pos, val = arr[:,0], arr[:,1], arr[:,2]\n",
    "    elif arr.shape[1] == 2:\n",
    "        x_pos, y_pos = arr[:,0], arr[:,1]\n",
    "        val = torch.ones_like(x_pos)\n",
    "        scale = None\n",
    "\n",
    "    if scale:\n",
    "        sz = np.array(np.abs(val)) * scale\n",
    "    else:\n",
    "        sz = np.ones_like(val) * 10\n",
    "        \n",
    "    plt.figure(figsize=[10,6], facecolor='#f0f0f0')\n",
    "    cm = plt.cm.get_cmap(cmap)     # 'gist_heat' / 'YlOrRd'\n",
    "    sc = plt.scatter(x_pos, y_pos, c=val, s=sz, cmap=cm, alpha=0.5, edgecolors='k')\n",
    "    plt.colorbar(sc)\n",
    "    plt.xlim(0, 126)\n",
    "    plt.ylim(0, 126)\n",
    "    plt.xticks(range(0,125,25))\n",
    "    plt.yticks(range(0,125,25))\n",
    "    plt.grid()\n",
    "    if title:\n",
    "        plt.title(title)\n",
    "    plt.show()"
   ]
  },
  {
   "cell_type": "code",
   "execution_count": 226,
   "id": "06a0ca5f",
   "metadata": {},
   "outputs": [],
   "source": [
    "dataset_file = DATA_ROOT + INPUT_FORMAT.format(0)\n",
    "dataset = ParquetDataset(dataset_file)\n",
    "dataset.verbose = True\n",
    "print('Assumed Length of Dataset: ', dataset.__len__())\n",
    "print('Max Length of Dataset: ', dataset.total_len)"
   ]
  },
  {
   "cell_type": "code",
   "execution_count": 227,
   "id": "3a422600",
   "metadata": {},
   "outputs": [],
   "source": [
    "for i in range(10):\n",
    "    data_sample, true_idx = dataset.get_next_valid_instance()\n",
    "    print(data_sample.shape, true_idx)"
   ]
  },
  {
   "cell_type": "code",
   "execution_count": 228,
   "id": "fede4969",
   "metadata": {},
   "outputs": [],
   "source": [
    "for i in range(10):\n",
    "    print('[{}]'.format(i))\n",
    "    data_sample, true_idx = dataset.get_next_valid_instance()\n",
    "    print(data_sample.shape, true_idx)\n",
    "    print('\\n')    "
   ]
  },
  {
   "cell_type": "code",
   "execution_count": 229,
   "id": "7d99dbc3",
   "metadata": {},
   "outputs": [],
   "source": [
    "dataset_file = DATA_ROOT + INPUT_FORMAT.format(0)\n",
    "dataset = ParquetDataset(dataset_file)\n",
    "dataset.verbose = True\n",
    "print('Assumed Length of Dataset: ', dataset.__len__())\n",
    "print('Max Length of Dataset: ', dataset.total_len)"
   ]
  },
  {
   "cell_type": "code",
   "execution_count": 230,
   "id": "edd425a4",
   "metadata": {},
   "outputs": [],
   "source": [
    "for i in range(10):\n",
    "    print('[{}]'.format(i))\n",
    "    data_sample, true_idx = dataset.get_next_valid_instance()\n",
    "    print(data_sample.shape, true_idx)\n",
    "    pirnt(dataset.cur_idx)\n",
    "    print('\\n')    "
   ]
  },
  {
   "cell_type": "code",
   "execution_count": 231,
   "id": "9e7d2ef9",
   "metadata": {},
   "outputs": [],
   "source": [
    "dataset_file = DATA_ROOT + INPUT_FORMAT.format(0)\n",
    "dataset = ParquetDataset(dataset_file)\n",
    "dataset.verbose = True\n",
    "print('Assumed Length of Dataset: ', dataset.__len__())\n",
    "print('Max Length of Dataset: ', dataset.total_len)"
   ]
  },
  {
   "cell_type": "code",
   "execution_count": 232,
   "id": "1c78875c",
   "metadata": {},
   "outputs": [],
   "source": [
    "for i in range(10):\n",
    "    print('[{}]'.format(i))\n",
    "    data_sample, true_idx = dataset.get_next_valid_instance()\n",
    "    print(data_sample.shape, true_idx)\n",
    "    print(dataset.cur_idx)\n",
    "    print('\\n')    "
   ]
  },
  {
   "cell_type": "code",
   "execution_count": 233,
   "id": "48d25c8f",
   "metadata": {},
   "outputs": [],
   "source": [
    "for i in range(100):\n",
    "    print('[{}]'.format(i))\n",
    "    data_sample, true_idx = dataset.get_next_valid_instance()\n",
    "    print(data_sample.shape, true_idx)\n",
    "    print(dataset.cur_idx)\n",
    "    print('\\n')"
   ]
  },
  {
   "cell_type": "code",
   "execution_count": 234,
   "id": "51c3697a",
   "metadata": {},
   "outputs": [],
   "source": [
    "for i in range(1000):\n",
    "    print('[{}]'.format(i))\n",
    "    data_sample, true_idx = dataset.get_next_valid_instance()\n",
    "    print(data_sample.shape, true_idx)\n",
    "    print(dataset.cur_idx)\n",
    "    print('\\n')"
   ]
  },
  {
   "cell_type": "code",
   "execution_count": 235,
   "id": "27df4aac",
   "metadata": {},
   "outputs": [],
   "source": [
    "import torch\n",
    "from torch.utils.data import *\n",
    "\n",
    "class ParquetDataset(Dataset):\n",
    "    def __init__(self, filename, channels=[1], max_instances=768, min_instances=384):\n",
    "        self.parquet = pq.ParquetFile(filename)\n",
    "        self.cols = None \n",
    "        self.verbose = False\n",
    "        self.channels = channels  # Channels to process - currently only Ecal. \n",
    "        self.max_instances = max_instances  # Number of max hits to force in each jet.\n",
    "        self.min_instances = min_instances  # Number of min hits to force in each jet.\n",
    "        self.total_len = self.parquet.num_row_groups\n",
    "        assert self.channels == [1]         # Temporary Hack for Ecal\n",
    "        self.cur_idx = 0\n",
    "\n",
    "    def __getitem__(self, index):\n",
    "        raise NotImplementedError('Use `get_next_valid_instance` instead`.')\n",
    "\n",
    "    def __len__(self):\n",
    "        return -1\n",
    "        return self.total_len // 3            # Set a safe limit.\n",
    "\n",
    "    def get_next_valid_instance(self):\n",
    "        '''\n",
    "        Returns a valid sample, with it's true index.\n",
    "        '''\n",
    "        allowed_range = range(self.min_instances, self.max_instances+1)\n",
    "        \n",
    "        while True:\n",
    "            for idx in range(self.cur_idx, self.total_len):\n",
    "                raw_jet = self.get_raw_instance(idx)\n",
    "                parsed_jet = self.parse_img(raw_jet)\n",
    "                if parsed_jet.shape[0] in allowed_range:\n",
    "                    padded_jet = self.pad_instance(parsed_jet)\n",
    "                    self.cur_idx = idx + 1\n",
    "                    return padded_jet, idx     # Exit after finding a valid instance\n",
    "                else:\n",
    "                    if self.verbose:\n",
    "                        print('-- Skipped instance at idx={}, shape={}'.format(idx, parsed_jet.shape))\n",
    "\n",
    "            # End of dataset, loop back.\n",
    "            self.cur_idx = 0\n",
    "\n",
    "    def get_raw_instance(self, index):\n",
    "        data = self.parquet.read_row_group(index, columns=self.cols).to_pydict()\n",
    "        data['X_jets'] = np.float32(data['X_jets'][0]) \n",
    "        data['X_jets'] = data['X_jets'][0:]\n",
    "        data['X_jets'][data['X_jets'] < 1.e-3] = 0.     # Zero-Suppression\n",
    "        raw_jet = dict(data)['X_jets'][1]\n",
    "        return raw_jet\n",
    "\n",
    "    def parse_img(self, track_img, reduce=False):\n",
    "        '''\n",
    "        Returns non-zero hits from the single-channel input jet image - `track_img`. \n",
    "        If `max_instances` is defined then returns an array of shape [max_instances, 3].   \n",
    "        Else returns an array of shape [N, 3] where N is the number of non-zero hits in each jet.\n",
    "        '''\n",
    "        track_img = torch.Tensor(track_img)        \n",
    "        x_pos, y_pos = torch.nonzero(track_img, as_tuple=True)\n",
    "        val = track_img[x_pos, y_pos]\n",
    "        out = torch.stack((x_pos,y_pos),dim=1)        \n",
    "        if self.verbose:\n",
    "            print('-- Output Shape:', out.shape)\n",
    "        return out\n",
    "\n",
    "    def pad_instance(self, instance):\n",
    "        assert instance.shape[0] <= self.max_instances\n",
    "        assert instance.shape[0] >= self.min_instances\n",
    "        pad_len = self.max_instances - instance.shape[0]\n",
    "        instance = F.pad(instance, pad=(0, 0, 0, pad_len), mode='constant', value=0)\n",
    "        return instance"
   ]
  },
  {
   "cell_type": "code",
   "execution_count": 236,
   "id": "645885aa",
   "metadata": {},
   "outputs": [],
   "source": [
    "def vis(arr, is_parsed=True, title=None, scale=1000, cmap='gist_heat', reduce=False):  \n",
    "    '''\n",
    "    Visualise a jet instance.\n",
    "    '''\n",
    "\n",
    "    if not is_parsed:   \n",
    "        arr = parse_img(arr, reduce)\n",
    "\n",
    "    if arr.shape[1] == 3:\n",
    "        x_pos, y_pos, val = arr[:,0], arr[:,1], arr[:,2]\n",
    "    elif arr.shape[1] == 2:\n",
    "        x_pos, y_pos = arr[:,0], arr[:,1]\n",
    "        val = torch.ones_like(x_pos)\n",
    "        scale = None\n",
    "\n",
    "    if scale:\n",
    "        sz = np.array(np.abs(val)) * scale\n",
    "    else:\n",
    "        sz = np.ones_like(val) * 10\n",
    "        \n",
    "    plt.figure(figsize=[10,6], facecolor='#f0f0f0')\n",
    "    cm = plt.cm.get_cmap(cmap)     # 'gist_heat' / 'YlOrRd'\n",
    "    sc = plt.scatter(x_pos, y_pos, c=val, s=sz, cmap=cm, alpha=0.5, edgecolors='k')\n",
    "    plt.colorbar(sc)\n",
    "    plt.xlim(0, 126)\n",
    "    plt.ylim(0, 126)\n",
    "    plt.xticks(range(0,125,25))\n",
    "    plt.yticks(range(0,125,25))\n",
    "    plt.grid()\n",
    "    if title:\n",
    "        plt.title(title)\n",
    "    plt.show()"
   ]
  },
  {
   "cell_type": "code",
   "execution_count": 237,
   "id": "3ec89f37",
   "metadata": {},
   "outputs": [],
   "source": [
    "dataset_file = DATA_ROOT + INPUT_FORMAT.format(0)\n",
    "dataset = ParquetDataset(dataset_file)\n",
    "dataset.verbose = True\n",
    "print('Assumed Length of Dataset: ', dataset.__len__())\n",
    "print('Max Length of Dataset: ', dataset.total_len)"
   ]
  },
  {
   "cell_type": "code",
   "execution_count": 238,
   "id": "33fc952f",
   "metadata": {},
   "outputs": [],
   "source": [
    "for i in range(1000):\n",
    "    print('[{}]'.format(i))\n",
    "    data_sample, true_idx = dataset.get_next_valid_instance()\n",
    "    print(data_sample.shape, true_idx)\n",
    "    print(dataset.cur_idx)\n",
    "    print('\\n')"
   ]
  },
  {
   "cell_type": "code",
   "execution_count": 239,
   "id": "3bd3de33",
   "metadata": {},
   "outputs": [],
   "source": [
    "import torch\n",
    "from torch.utils.data import *\n",
    "\n",
    "class ParquetDataset(Dataset):\n",
    "    def __init__(self, filename, channels=[1], max_instances=768, min_instances=384):\n",
    "        self.parquet = pq.ParquetFile(filename)\n",
    "        self.cur_idx = 0\n",
    "        self.total_len = self.parquet.num_row_groups\n",
    "        self.cols = None \n",
    "        self.verbose = False                # False by default\n",
    "        self.max_instances = max_instances  # Number of max hits to force in each jet.\n",
    "        self.min_instances = min_instances  # Number of min hits to force in each jet.\n",
    "        \n",
    "        \n",
    "    def __getitem__(self, index):\n",
    "        raise NotImplementedError('Not needed. Using `get_next_valid_instance` instead.')\n",
    "\n",
    "    def __len__(self):\n",
    "        raise NotImplementedError('Not needed. Using `get_next_valid_instance` instead.')\n",
    "\n",
    "    def get_next_instance(self):\n",
    "        '''\n",
    "        Returns the next valid sample, with it's true index.\n",
    "        Keeps looping until a valid sample is found.\n",
    "        '''\n",
    "        allowed_range = range(self.min_instances, self.max_instances+1)\n",
    "        \n",
    "        while True:\n",
    "            for idx in range(self.cur_idx, self.total_len):\n",
    "                raw_jet = self.get_raw_instance(idx)\n",
    "                parsed_jet = self.parse_img(raw_jet)\n",
    "                if parsed_jet.shape[0] in allowed_range:\n",
    "                    padded_jet = self.pad_instance(parsed_jet)\n",
    "                    self.cur_idx = idx + 1\n",
    "                    return padded_jet, idx     # Exit after finding a valid instance\n",
    "                else:\n",
    "                    if self.verbose:\n",
    "                        print('-- Skipped instance at idx={}, shape={}'.format(idx, parsed_jet.shape))\n",
    "\n",
    "            # End of dataset, loop back.\n",
    "            self.cur_idx = 0\n",
    "\n",
    "    def get_raw_instance(self, index):\n",
    "        data = self.parquet.read_row_group(index, columns=self.cols).to_pydict()\n",
    "        data['X_jets'] = np.float32(data['X_jets'][0]) \n",
    "        data['X_jets'] = data['X_jets'][0:]\n",
    "        data['X_jets'][data['X_jets'] < 1.e-3] = 0.     # Zero-Suppression\n",
    "        raw_jet = dict(data)['X_jets'][1]               # Temporary Hack for Ecal\n",
    "        return raw_jet\n",
    "\n",
    "    def parse_img(self, track_img, reduce=False):\n",
    "        '''\n",
    "        Returns non-zero hits from the single-channel input jet image - `track_img`. \n",
    "        '''\n",
    "        track_img = torch.Tensor(track_img)        \n",
    "        x_pos, y_pos = torch.nonzero(track_img, as_tuple=True)\n",
    "        val = track_img[x_pos, y_pos]\n",
    "        out = torch.stack((x_pos,y_pos),dim=1)        \n",
    "        if self.verbose:\n",
    "            print('-- Output Shape:', out.shape)\n",
    "        return out\n",
    "\n",
    "    def pad_instance(self, instance):\n",
    "        assert instance.shape[0] <= self.max_instances\n",
    "        assert instance.shape[0] >= self.min_instances\n",
    "        pad_len = self.max_instances - instance.shape[0]\n",
    "        instance = F.pad(instance, pad=(0, 0, 0, pad_len), mode='constant', value=0)\n",
    "        return instance"
   ]
  },
  {
   "cell_type": "code",
   "execution_count": 240,
   "id": "00819e08",
   "metadata": {},
   "outputs": [],
   "source": [
    "def vis(arr, is_parsed=True, title=None, scale=1000, cmap='gist_heat', reduce=False):  \n",
    "    '''\n",
    "    Visualise a jet instance.\n",
    "    '''\n",
    "\n",
    "    if not is_parsed:   \n",
    "        arr = parse_img(arr, reduce)\n",
    "\n",
    "    if arr.shape[1] == 3:\n",
    "        x_pos, y_pos, val = arr[:,0], arr[:,1], arr[:,2]\n",
    "    elif arr.shape[1] == 2:\n",
    "        x_pos, y_pos = arr[:,0], arr[:,1]\n",
    "        val = torch.ones_like(x_pos)\n",
    "        scale = None\n",
    "\n",
    "    if scale:\n",
    "        sz = np.array(np.abs(val)) * scale\n",
    "    else:\n",
    "        sz = np.ones_like(val) * 10\n",
    "        \n",
    "    plt.figure(figsize=[10,6], facecolor='#f0f0f0')\n",
    "    cm = plt.cm.get_cmap(cmap)     # 'gist_heat' / 'YlOrRd'\n",
    "    sc = plt.scatter(x_pos, y_pos, c=val, s=sz, cmap=cm, alpha=0.5, edgecolors='k')\n",
    "    plt.colorbar(sc)\n",
    "    plt.xlim(0, 126)\n",
    "    plt.ylim(0, 126)\n",
    "    plt.xticks(range(0,125,25))\n",
    "    plt.yticks(range(0,125,25))\n",
    "    plt.grid()\n",
    "    if title:\n",
    "        plt.title(title)\n",
    "    plt.show()"
   ]
  },
  {
   "cell_type": "code",
   "execution_count": 241,
   "id": "9a8ec3f3",
   "metadata": {},
   "outputs": [],
   "source": [
    "dataset_file = DATA_ROOT + INPUT_FORMAT.format(0)\n",
    "dataset = ParquetDataset(dataset_file)\n",
    "dataset.verbose = True\n",
    "print('Assumed Length of Dataset: ', dataset.__len__())\n",
    "print('Max Length of Dataset: ', dataset.total_len)"
   ]
  },
  {
   "cell_type": "code",
   "execution_count": 242,
   "id": "68be5d89",
   "metadata": {},
   "outputs": [],
   "source": [
    "dataset_file = DATA_ROOT + INPUT_FORMAT.format(0)\n",
    "dataset = ParquetDataset(dataset_file)\n",
    "dataset.verbose = True\n",
    "print('Max Length of Dataset: ', dataset.total_len)"
   ]
  },
  {
   "cell_type": "code",
   "execution_count": 243,
   "id": "d8207f3d",
   "metadata": {},
   "outputs": [],
   "source": [
    "for i in range(10):\n",
    "    print('[{}]'.format(i))\n",
    "    data_sample, true_idx = dataset.get_next_instance()\n",
    "    print(data_sample.shape, true_idx)\n",
    "    print(dataset.cur_idx)\n",
    "    print('\\n')"
   ]
  },
  {
   "cell_type": "code",
   "execution_count": 244,
   "id": "549ea5fb",
   "metadata": {},
   "outputs": [],
   "source": [
    "import torch\n",
    "import torch.nn as nn\n",
    "import torch.nn.functional as F\n",
    "import torch.distributions as D\n",
    "from torch.utils.data import DataLoader, TensorDataset\n",
    "\n",
    "import math\n",
    "import os\n",
    "import time\n",
    "import argparse\n",
    "import pprint\n",
    "from functools import partial\n",
    "\n",
    "import matplotlib\n",
    "matplotlib.use('Agg')\n",
    "import matplotlib.pyplot as plt\n",
    "from tqdm import tqdm"
   ]
  },
  {
   "cell_type": "code",
   "execution_count": 245,
   "id": "253192fb",
   "metadata": {},
   "outputs": [],
   "source": [
    "def get_args():\n",
    "    parser = argparse.ArgumentParser()\n",
    "    parser.add_argument('--train', action='store_true', help='Train a flow.')\n",
    "    parser.add_argument('--plot', action='store_false', help='Plot a flow and target density.')\n",
    "    parser.add_argument('--restore_file', type=str, help='Path to model to restore.')\n",
    "    parser.add_argument('--output_dir', default='./results/run_')\n",
    "    parser.add_argument('--cuda', type=int, help='Which GPU to run on.')\n",
    "    parser.add_argument('--seed', type=int, default=0, help='Random seed.')\n",
    "    # model parameters\n",
    "    parser.add_argument('--data_dim', type=int, default=2, help='Dimension of the data.')\n",
    "    parser.add_argument('--hidden_dim', type=int, default=100, help='Dimensions of hidden layers.')\n",
    "    parser.add_argument('--n_hidden', type=int, default=3, help='Number of hidden layers.')\n",
    "    # training parameters\n",
    "    parser.add_argument('--step', type=int, default=0, help='Current step of training (number of minibatches processed).')\n",
    "    parser.add_argument('--n_steps', type=int, default=1, help='Number of steps to train.')\n",
    "    parser.add_argument('--batch_size', type=int, default=200, help='Training batch size.')\n",
    "    parser.add_argument('--lr', type=float, default=1e-1, help='Initial learning rate.')\n",
    "    parser.add_argument('--lr_decay', type=float, default=0.5, help='Learning rate decay.')\n",
    "    parser.add_argument('--lr_patience', type=float, default=2000, help='Number of steps before decaying learning rate.')\n",
    "    parser.add_argument('--log_interval', type=int, default=50, help='How often to save model and samples.')\n",
    "\n",
    "    args = parser.parse_args([])\n",
    "    args.output_dir = os.path.join('./results/run_', time.strftime('%Y-%m-%d_%H-%M-%S', time.gmtime()))\n",
    "    if not os.path.isdir(args.output_dir): \n",
    "        os.makedirs(args.output_dir)\n",
    "    args.device = torch.device('cuda:{}'.format(args.cuda) if args.cuda is not None and torch.cuda.is_available() else 'cpu')\n",
    "\n",
    "    return args"
   ]
  },
  {
   "cell_type": "code",
   "execution_count": 246,
   "id": "ead5300c",
   "metadata": {},
   "outputs": [],
   "source": [
    "''' Model components ''' \n",
    "\n",
    "class MaskedLinear(nn.Module):\n",
    "    def __init__(self, in_features, out_features, data_dim):\n",
    "        super().__init__()\n",
    "        self.in_features = in_features\n",
    "        self.out_features = out_features\n",
    "        self.data_dim = data_dim\n",
    "        # print(self.in_features, self.out_features, self.data_dim)\n",
    "\n",
    "        # Notation:\n",
    "        # BNAF weight calculation for (eq 8): W = g(W) * M_d + W * M_o\n",
    "        #   where W is block lower triangular so model is autoregressive,\n",
    "        #         g = exp function; M_d is block diagonal mask; M_o is block off-diagonal mask.\n",
    "        # Weight Normalization (Salimans & Kingma, eq 2): w = g * v / ||v||\n",
    "        #   where g is scalar, v is k-dim vector, ||v|| is Euclidean norm\n",
    "        # ------\n",
    "        # Here: pre-weight norm matrix is v; then: v = exp(weight) * mask_d + weight * mask_o\n",
    "        #       weight-norm scalar is g: out_features dimensional vector (here logg is used instead to avoid taking logs in the logdet calc.\n",
    "        #       then weight-normed weight matrix is w = g * v / ||v||\n",
    "        #\n",
    "        #       log det jacobian of block lower triangular is taking block diagonal mask of\n",
    "        #           log(g*v/||v||) = log(g) + log(v) - log(||v||)\n",
    "        #                          = log(g) + weight - log(||v||) since v = exp(weight) * mask_d + weight * mask_o\n",
    "\n",
    "        weight = torch.zeros(out_features, in_features)\n",
    "        mask_d = torch.zeros_like(weight)\n",
    "        mask_o = torch.zeros_like(weight)\n",
    "        for i in range(data_dim):\n",
    "            # select block slices\n",
    "            h     = slice(i * out_features // data_dim, (i+1) * out_features // data_dim)\n",
    "            w     = slice(i * in_features // data_dim,  (i+1) * in_features // data_dim)\n",
    "            w_row = slice(0,                            (i+1) * in_features // data_dim)\n",
    "            # initialize block-lower-triangular weight and construct block diagonal mask_d and lower triangular mask_o\n",
    "            nn.init.kaiming_uniform_(weight[h,w_row], a=math.sqrt(5))  # default nn.Linear weight init only block-wise\n",
    "            mask_d[h,w] = 1\n",
    "            mask_o[h,w_row] = 1\n",
    "\n",
    "        mask_o = mask_o - mask_d  # remove diagonal so mask_o is lower triangular 1-off the diagonal\n",
    "\n",
    "        self.weight = nn.Parameter(weight)                          # pre-mask, pre-weight-norm\n",
    "        self.logg = nn.Parameter(torch.rand(out_features, 1).log()) # weight-norm parameter\n",
    "        self.bias = nn.Parameter(nn.init.uniform_(torch.rand(out_features), -1/math.sqrt(in_features), 1/math.sqrt(in_features)))  # default nn.Linear bias init\n",
    "        self.register_buffer('mask_d', mask_d)\n",
    "        self.register_buffer('mask_o', mask_o)\n",
    "\n",
    "    def forward(self, x, sum_logdets):\n",
    "        # 1. compute BNAF masked weight eq 8\n",
    "        v = self.weight.exp() * self.mask_d + self.weight * self.mask_o\n",
    "        # 2. weight normalization\n",
    "        v_norm = v.norm(p=2, dim=1, keepdim=True)\n",
    "        w = self.logg.exp() * v / v_norm\n",
    "        # 3. compute output and logdet of the layer\n",
    "        # print(x.dtype)\n",
    "        # print(w.dtype)\n",
    "        # print(x)\n",
    "        # print(w)\n",
    "        x = x.type(torch.float32)\n",
    "        # print(x.dtype)\n",
    "        out = F.linear(x, w, self.bias)\n",
    "        # print('Out:', out.shape)\n",
    "\n",
    "\n",
    "        logdet = self.logg + self.weight - 0.5 * v_norm.pow(2).log()\n",
    "        logdet = logdet[self.mask_d.byte()]\n",
    "        logdet = logdet.view(1, self.data_dim, out.shape[1]//self.data_dim, x.shape[1]//self.data_dim) \\\n",
    "                       .expand(x.shape[0],-1,-1,-1)  # output (B, data_dim, out_dim // data_dim, in_dim // data_dim)\n",
    "\n",
    "        # 4. sum with sum_logdets from layers before (BNAF section 3.3)\n",
    "        # Compute log det jacobian of the flow (eq 9, 10, 11) using log-matrix multiplication of the different layers.\n",
    "        # Specifically for two successive MaskedLinear layers A -> B with logdets A and B of shapes\n",
    "        #  logdet A is (B, data_dim, outA_dim, inA_dim)\n",
    "        #  logdet B is (B, data_dim, outB_dim, inB_dim) where outA_dim = inB_dim\n",
    "        #\n",
    "        #  Note -- in the first layer, inA_dim = in_features//data_dim = 1 since in_features == data_dim.\n",
    "        #            thus logdet A is (B, data_dim, outA_dim, 1)\n",
    "        #\n",
    "        #  Then:\n",
    "        #  logsumexp(A.transpose(2,3) + B) = logsumexp( (B, data_dim, 1, outA_dim) + (B, data_dim, outB_dim, inB_dim) , dim=-1)\n",
    "        #                                  = logsumexp( (B, data_dim, 1, outA_dim) + (B, data_dim, outB_dim, outA_dim), dim=-1)\n",
    "        #                                  = logsumexp( (B, data_dim, outB_dim, outA_dim), dim=-1) where dim2 of tensor1 is broadcasted\n",
    "        #                                  = (B, data_dim, outB_dim, 1)\n",
    "\n",
    "        sum_logdets = torch.logsumexp(sum_logdets.transpose(2,3) + logdet, dim=-1, keepdim=True)\n",
    "\n",
    "        return out, sum_logdets\n",
    "\n",
    "\n",
    "    def extra_repr(self):\n",
    "        return 'in_features={}, out_features={}, bias={}'.format(\n",
    "            self.in_features, self.out_features, self.bias is not None\n",
    "        )\n",
    "\n",
    "class Tanh(nn.Module):\n",
    "    def __init__(self):\n",
    "        super().__init__()\n",
    "\n",
    "    def forward(self, x, sum_logdets):\n",
    "        # derivation of logdet:\n",
    "        # d/dx tanh = 1 / cosh^2; cosh = (1 + exp(-2x)) / (2*exp(-x))\n",
    "        # log d/dx tanh = - 2 * log cosh = -2 * (x - log 2 + log(1 + exp(-2x)))\n",
    "        logdet = -2 * (x - math.log(2) + F.softplus(-2*x))\n",
    "        sum_logdets = sum_logdets + logdet.view_as(sum_logdets)\n",
    "        return x.tanh(), sum_logdets\n",
    "\n",
    "class FlowSequential(nn.Sequential):\n",
    "    \"\"\" Container for layers of a normalizing flow \"\"\"\n",
    "    def forward(self, x):\n",
    "        sum_logdets = torch.zeros(1, x.shape[1], 1, 1, device=x.device)\n",
    "        for module in self:\n",
    "            x, sum_logdets = module(x, sum_logdets)\n",
    "        return x, sum_logdets.squeeze()"
   ]
  },
  {
   "cell_type": "code",
   "execution_count": 247,
   "id": "ca3db897",
   "metadata": {},
   "outputs": [],
   "source": [
    "''' Model '''\n",
    "\n",
    "class BNAF(nn.Module):\n",
    "    def __init__(self, data_dim, n_hidden, hidden_dim):\n",
    "        super().__init__()\n",
    "\n",
    "        # base distribution for calculation of log prob under the model\n",
    "        self.register_buffer('base_dist_mean', torch.zeros(data_dim))\n",
    "        self.register_buffer('base_dist_var', torch.ones(data_dim))\n",
    "\n",
    "        # construct model\n",
    "        modules = []\n",
    "        modules += [MaskedLinear(data_dim, hidden_dim, data_dim), Tanh()]\n",
    "        for _ in range(n_hidden):\n",
    "            modules += [MaskedLinear(hidden_dim, hidden_dim, data_dim), Tanh()]\n",
    "        modules += [MaskedLinear(hidden_dim, data_dim, data_dim)]\n",
    "        self.net = FlowSequential(*modules)\n",
    "\n",
    "        # TODO --   add permutation\n",
    "        #           add residual gate\n",
    "        #           add stack of flows\n",
    "\n",
    "    @property\n",
    "    def base_dist(self):\n",
    "        return D.Normal(self.base_dist_mean, self.base_dist_var)\n",
    "\n",
    "    def forward(self, x):\n",
    "        return self.net(x)\n",
    "\n",
    "def compute_kl_pq_loss(model, input_data):\n",
    "    input_data = input_data.to(model.base_dist.loc.device)\n",
    "    z, logdet = model(input_data)\n",
    "    print(z)\n",
    "    print(logdet)\n",
    "    return - torch.sum(model.base_dist.log_prob(z) + logdet, dim=1)"
   ]
  },
  {
   "cell_type": "code",
   "execution_count": 248,
   "id": "c141dc0d",
   "metadata": {},
   "outputs": [],
   "source": [
    "''' Training ''' \n",
    "\n",
    "def train_flow(model, dataset, loss_fn, optimizer, scheduler, args):\n",
    "    model.train()\n",
    "\n",
    "    init_steps = args.step\n",
    "    for idx in range(args.n_steps):\n",
    "        args.step += 1\n",
    "\n",
    "        input_data = dataset.__getitem__(idx)\n",
    "        input_data = input_data.reshape(1,-1)\n",
    "        loss = loss_fn(model, input_data).mean(0)\n",
    "\n",
    "        optimizer.zero_grad()\n",
    "        loss.backward()\n",
    "        optimizer.step()\n",
    "        scheduler.step(loss)\n",
    "\n",
    "        print(\"Step: {:03d}/{:03d} | Loss: {:14.2f}\".format(args.step, init_steps+args.n_steps, loss.item()))\n",
    "        wandb.log({'Step': args.step, 'Loss': loss.item(), 'Learning_Rate': args.lr})\n",
    "\n",
    "        if args.step % args.log_interval == 0:\n",
    "            # save model\n",
    "            torch.save({'step': args.step,\n",
    "                        'state_dict': model.state_dict()},\n",
    "                        os.path.join(args.output_dir, 'checkpoint.pt'))\n",
    "            torch.save({'optimizer': optimizer.state_dict(),\n",
    "                        'scheduler': scheduler.state_dict()},\n",
    "                        os.path.join(args.output_dir, 'optim_checkpoint.pt'))"
   ]
  },
  {
   "cell_type": "code",
   "execution_count": 249,
   "id": "093d167b",
   "metadata": {},
   "outputs": [],
   "source": [
    "# Config to initialize wandb.\n",
    "DEFAULT_CFG = {\n",
    "    'model': 'BNAF',\n",
    "    'root_dir': ROOT,\n",
    "}"
   ]
  },
  {
   "cell_type": "code",
   "execution_count": 250,
   "id": "348a3371",
   "metadata": {},
   "outputs": [],
   "source": [
    "# Config to initialize wandb.\n",
    "DEFAULT_CFG = {\n",
    "    'model': 'BNAF_Valid-Samples',\n",
    "    'root_dir': ROOT,\n",
    "}"
   ]
  },
  {
   "cell_type": "code",
   "execution_count": 251,
   "id": "ed7830c0",
   "metadata": {},
   "outputs": [],
   "source": [
    "import warnings\n",
    "warnings.filterwarnings('ignore')\n",
    "\n",
    "# Get Args\n",
    "args = get_args()\n",
    "\n",
    "# Set custom args\n",
    "args.data_dim = 2048\n",
    "args.hidden_dim = 2048*4   #3072\n",
    "args.n_steps = 500*2\n",
    "args.log_interval = 200\n",
    "args.cuda = 0\n",
    "args.lr = 0.1\n",
    "args.step = 0\n",
    "\n",
    "# Set Seeds\n",
    "torch.manual_seed(args.seed)\n",
    "if args.device.type == 'cuda': \n",
    "    torch.cuda.manual_seed(args.seed)\n",
    "\n",
    "# Get Model\n",
    "model = BNAF(args.data_dim, args.n_hidden, args.hidden_dim).to(args.device)\n",
    "if args.restore_file:\n",
    "    model_checkpoint = torch.load(args.restore_file, map_location=args.device)\n",
    "    model.load_state_dict(model_checkpoint['state_dict'])\n",
    "    args.step = model_checkpoint['step']\n",
    "\n",
    "# Save Config\n",
    "config = 'Parsed args:\\n{}\\n\\n'.format(pprint.pformat(args.__dict__)) + \\\n",
    "            'Num trainable params: {:,.0f}\\n\\n'.format(sum(p.numel() for p in model.parameters())) + \\\n",
    "            'Model:\\n{}'.format(model)\n",
    "\n",
    "config_path = os.path.join(args.output_dir, 'config.txt')\n",
    "if not os.path.exists(config_path):\n",
    "    with open(config_path, 'a') as f:\n",
    "        print(config, file=f)\n",
    "\n",
    "# Get Optimizer + Scheduler\n",
    "optimizer = torch.optim.Adam(model.parameters(), lr=args.lr)\n",
    "scheduler = torch.optim.lr_scheduler.ReduceLROnPlateau(optimizer, factor=args.lr_decay, patience=args.lr_patience, verbose=True)\n",
    "if args.restore_file:\n",
    "    optim_checkpoint = torch.load(os.path.dirname(args.restore_file) + '/optim_checkpoint.pt', map_location=args.device)\n",
    "    optimizer.load_state_dict(optim_checkpoint['optimizer'])\n",
    "    scheduler.load_state_dict(optim_checkpoint['scheduler'])\n",
    "\n",
    "# Initialize Dataset \n",
    "dataset_file = DATA_ROOT + INPUT_FORMAT.format(0)\n",
    "dataset = ParquetDataset(dataset_file)\n",
    "\n",
    "# Define Loss\n",
    "loss_fn = compute_kl_pq_loss"
   ]
  },
  {
   "cell_type": "code",
   "execution_count": 252,
   "id": "a0748a7b",
   "metadata": {},
   "outputs": [],
   "source": [
    "''' Training ''' \n",
    "\n",
    "def train_flow(model, dataset, loss_fn, optimizer, scheduler, args):\n",
    "    model.train()\n",
    "\n",
    "    init_steps = args.step\n",
    "    for _ in range(args.n_steps):\n",
    "        args.step += 1\n",
    "\n",
    "        input_data = dataset.get_next_instance()\n",
    "        input_data = input_data.reshape(1,-1)\n",
    "        loss = loss_fn(model, input_data).mean(0)\n",
    "\n",
    "        optimizer.zero_grad()\n",
    "        loss.backward()\n",
    "        optimizer.step()\n",
    "        scheduler.step(loss)\n",
    "\n",
    "        print(\"Step: {:03d}/{:03d} | Loss: {:14.2f}\".format(args.step, init_steps+args.n_steps, loss.item()))\n",
    "        wandb.log({'Step': args.step, 'Loss': loss.item(), 'Learning_Rate': args.lr})\n",
    "\n",
    "        if args.step % args.log_interval == 0:\n",
    "            # save model\n",
    "            torch.save({'step': args.step,\n",
    "                        'state_dict': model.state_dict()},\n",
    "                        os.path.join(args.output_dir, 'checkpoint.pt'))\n",
    "            torch.save({'optimizer': optimizer.state_dict(),\n",
    "                        'scheduler': scheduler.state_dict()},\n",
    "                        os.path.join(args.output_dir, 'optim_checkpoint.pt'))"
   ]
  },
  {
   "cell_type": "code",
   "execution_count": 253,
   "id": "311cf7db",
   "metadata": {},
   "outputs": [],
   "source": [
    "# Config to initialize wandb.\n",
    "DEFAULT_CFG = {\n",
    "    'model': 'BNAF_Valid-Samples',\n",
    "    'root_dir': ROOT,\n",
    "}"
   ]
  },
  {
   "cell_type": "code",
   "execution_count": 254,
   "id": "076263bc",
   "metadata": {},
   "outputs": [],
   "source": [
    "import warnings\n",
    "warnings.filterwarnings('ignore')\n",
    "\n",
    "# Get Args\n",
    "args = get_args()\n",
    "\n",
    "# Set custom args\n",
    "args.data_dim = 2048\n",
    "args.hidden_dim = 2048*4   #3072\n",
    "args.n_steps = 500*2\n",
    "args.log_interval = 200\n",
    "args.cuda = 0\n",
    "args.lr = 0.1\n",
    "args.step = 0\n",
    "\n",
    "# Set Seeds\n",
    "torch.manual_seed(args.seed)\n",
    "if args.device.type == 'cuda': \n",
    "    torch.cuda.manual_seed(args.seed)\n",
    "\n",
    "# Get Model\n",
    "model = BNAF(args.data_dim, args.n_hidden, args.hidden_dim).to(args.device)\n",
    "if args.restore_file:\n",
    "    model_checkpoint = torch.load(args.restore_file, map_location=args.device)\n",
    "    model.load_state_dict(model_checkpoint['state_dict'])\n",
    "    args.step = model_checkpoint['step']\n",
    "\n",
    "# Save Config\n",
    "config = 'Parsed args:\\n{}\\n\\n'.format(pprint.pformat(args.__dict__)) + \\\n",
    "            'Num trainable params: {:,.0f}\\n\\n'.format(sum(p.numel() for p in model.parameters())) + \\\n",
    "            'Model:\\n{}'.format(model)\n",
    "\n",
    "config_path = os.path.join(args.output_dir, 'config.txt')\n",
    "if not os.path.exists(config_path):\n",
    "    with open(config_path, 'a') as f:\n",
    "        print(config, file=f)\n",
    "\n",
    "# Get Optimizer + Scheduler\n",
    "optimizer = torch.optim.Adam(model.parameters(), lr=args.lr)\n",
    "scheduler = torch.optim.lr_scheduler.ReduceLROnPlateau(optimizer, factor=args.lr_decay, patience=args.lr_patience, verbose=True)\n",
    "if args.restore_file:\n",
    "    optim_checkpoint = torch.load(os.path.dirname(args.restore_file) + '/optim_checkpoint.pt', map_location=args.device)\n",
    "    optimizer.load_state_dict(optim_checkpoint['optimizer'])\n",
    "    scheduler.load_state_dict(optim_checkpoint['scheduler'])\n",
    "\n",
    "# Initialize Dataset \n",
    "dataset_file = DATA_ROOT + INPUT_FORMAT.format(0)\n",
    "dataset = ParquetDataset(dataset_file)\n",
    "\n",
    "# Define Loss\n",
    "loss_fn = compute_kl_pq_loss"
   ]
  },
  {
   "cell_type": "code",
   "execution_count": 255,
   "id": "397b349d",
   "metadata": {},
   "outputs": [],
   "source": [
    "import warnings\n",
    "warnings.filterwarnings('ignore')\n",
    "\n",
    "# Get Args\n",
    "args = get_args()\n",
    "\n",
    "# Set custom args\n",
    "args.data_dim = 2048\n",
    "args.hidden_dim = 2048*4   #3072\n",
    "args.n_steps = 10\n",
    "args.log_interval = 200\n",
    "args.cuda = 0\n",
    "args.lr = 0.1\n",
    "args.step = 0\n",
    "\n",
    "# Set Seeds\n",
    "torch.manual_seed(args.seed)\n",
    "if args.device.type == 'cuda': \n",
    "    torch.cuda.manual_seed(args.seed)\n",
    "\n",
    "# Get Model\n",
    "model = BNAF(args.data_dim, args.n_hidden, args.hidden_dim).to(args.device)\n",
    "if args.restore_file:\n",
    "    model_checkpoint = torch.load(args.restore_file, map_location=args.device)\n",
    "    model.load_state_dict(model_checkpoint['state_dict'])\n",
    "    args.step = model_checkpoint['step']\n",
    "\n",
    "# Save Config\n",
    "config = 'Parsed args:\\n{}\\n\\n'.format(pprint.pformat(args.__dict__)) + \\\n",
    "            'Num trainable params: {:,.0f}\\n\\n'.format(sum(p.numel() for p in model.parameters())) + \\\n",
    "            'Model:\\n{}'.format(model)\n",
    "\n",
    "config_path = os.path.join(args.output_dir, 'config.txt')\n",
    "if not os.path.exists(config_path):\n",
    "    with open(config_path, 'a') as f:\n",
    "        print(config, file=f)\n",
    "\n",
    "# Get Optimizer + Scheduler\n",
    "optimizer = torch.optim.Adam(model.parameters(), lr=args.lr)\n",
    "scheduler = torch.optim.lr_scheduler.ReduceLROnPlateau(optimizer, factor=args.lr_decay, patience=args.lr_patience, verbose=True)\n",
    "if args.restore_file:\n",
    "    optim_checkpoint = torch.load(os.path.dirname(args.restore_file) + '/optim_checkpoint.pt', map_location=args.device)\n",
    "    optimizer.load_state_dict(optim_checkpoint['optimizer'])\n",
    "    scheduler.load_state_dict(optim_checkpoint['scheduler'])\n",
    "\n",
    "# Initialize Dataset \n",
    "dataset_file = DATA_ROOT + INPUT_FORMAT.format(0)\n",
    "dataset = ParquetDataset(dataset_file)\n",
    "\n",
    "# Define Loss\n",
    "loss_fn = compute_kl_pq_loss"
   ]
  },
  {
   "cell_type": "code",
   "execution_count": 256,
   "id": "27437c26",
   "metadata": {},
   "outputs": [
    {
     "name": "stdout",
     "output_type": "stream",
     "text": [
      "['/content/drive/My Drive/_GSoC/Normalizing-Flows/logs/wandb/run-20210702_123952-174v4wvp/files/requirements.txt',\n",
      " '/content/drive/My Drive/_GSoC/Normalizing-Flows/logs/wandb/run-20210702_123952-174v4wvp/files/requirements.txt']"
     ]
    }
   ],
   "source": [
    "# Init Wandb\n",
    "os.environ[\"WANDB_SILENT\"] = \"true\"\n",
    "os.environ[\"WANDB_NOTES\"] = WANDB_DESC\n",
    "run = wandb.init(project='gnf', config=DEFAULT_CFG, dir=LOGS_ROOT)\n",
    "wandb.config.update(args)\n",
    "\n",
    "# Save files for later\n",
    "! pip freeze > requirements.txt\n",
    "wandb.save(ROOT + 'requirements.txt')\n",
    "# wandb.save(config_path)       # TODO: Fix permission issue on Colab."
   ]
  },
  {
   "cell_type": "code",
   "execution_count": 257,
   "id": "c3794d00",
   "metadata": {},
   "outputs": [],
   "source": [
    "# Train The Model\n",
    "train_flow(model, dataset, loss_fn, optimizer, scheduler, args)"
   ]
  },
  {
   "cell_type": "code",
   "execution_count": 258,
   "id": "ed712df2",
   "metadata": {},
   "outputs": [],
   "source": [
    "''' Training ''' \n",
    "\n",
    "def train_flow(model, dataset, loss_fn, optimizer, scheduler, args):\n",
    "    model.train()\n",
    "\n",
    "    init_steps = args.step\n",
    "    for _ in range(args.n_steps):\n",
    "        args.step += 1\n",
    "\n",
    "        input_data, true_index = dataset.get_next_instance()\n",
    "        input_data = input_data.reshape(1,-1)\n",
    "        loss = loss_fn(model, input_data).mean(0)\n",
    "\n",
    "        optimizer.zero_grad()\n",
    "        loss.backward()\n",
    "        optimizer.step()\n",
    "        scheduler.step(loss)\n",
    "\n",
    "        print(\"Step: {:03d}/{:03d} | Loss: {:14.2f}\".format(args.step, init_steps+args.n_steps, loss.item()))\n",
    "        wandb.log({'Step': args.step, \n",
    "                   'Loss': loss.item(), \n",
    "                   'Learning_Rate': args.lr,\n",
    "                   'True_Index': true_index})\n",
    "\n",
    "        if args.step % args.log_interval == 0:\n",
    "            # save model\n",
    "            torch.save({'step': args.step,\n",
    "                        'state_dict': model.state_dict()},\n",
    "                        os.path.join(args.output_dir, 'checkpoint.pt'))\n",
    "            torch.save({'optimizer': optimizer.state_dict(),\n",
    "                        'scheduler': scheduler.state_dict()},\n",
    "                        os.path.join(args.output_dir, 'optim_checkpoint.pt'))"
   ]
  },
  {
   "cell_type": "code",
   "execution_count": 259,
   "id": "d6593aac",
   "metadata": {},
   "outputs": [],
   "source": [
    "# Config to initialize wandb.\n",
    "DEFAULT_CFG = {\n",
    "    'model': 'BNAF_Valid-Samples',\n",
    "    'root_dir': ROOT,\n",
    "}"
   ]
  },
  {
   "cell_type": "code",
   "execution_count": 260,
   "id": "75ed4ee3",
   "metadata": {},
   "outputs": [],
   "source": [
    "import warnings\n",
    "warnings.filterwarnings('ignore')\n",
    "\n",
    "# Get Args\n",
    "args = get_args()\n",
    "\n",
    "# Set custom args\n",
    "args.data_dim = 2048\n",
    "args.hidden_dim = 2048*4   #3072\n",
    "args.n_steps = 10\n",
    "args.log_interval = 200\n",
    "args.cuda = 0\n",
    "args.lr = 0.1\n",
    "args.step = 0\n",
    "\n",
    "# Set Seeds\n",
    "torch.manual_seed(args.seed)\n",
    "if args.device.type == 'cuda': \n",
    "    torch.cuda.manual_seed(args.seed)\n",
    "\n",
    "# Get Model\n",
    "model = BNAF(args.data_dim, args.n_hidden, args.hidden_dim).to(args.device)\n",
    "if args.restore_file:\n",
    "    model_checkpoint = torch.load(args.restore_file, map_location=args.device)\n",
    "    model.load_state_dict(model_checkpoint['state_dict'])\n",
    "    args.step = model_checkpoint['step']\n",
    "\n",
    "# Save Config\n",
    "config = 'Parsed args:\\n{}\\n\\n'.format(pprint.pformat(args.__dict__)) + \\\n",
    "            'Num trainable params: {:,.0f}\\n\\n'.format(sum(p.numel() for p in model.parameters())) + \\\n",
    "            'Model:\\n{}'.format(model)\n",
    "\n",
    "config_path = os.path.join(args.output_dir, 'config.txt')\n",
    "if not os.path.exists(config_path):\n",
    "    with open(config_path, 'a') as f:\n",
    "        print(config, file=f)\n",
    "\n",
    "# Get Optimizer + Scheduler\n",
    "optimizer = torch.optim.Adam(model.parameters(), lr=args.lr)\n",
    "scheduler = torch.optim.lr_scheduler.ReduceLROnPlateau(optimizer, factor=args.lr_decay, patience=args.lr_patience, verbose=True)\n",
    "if args.restore_file:\n",
    "    optim_checkpoint = torch.load(os.path.dirname(args.restore_file) + '/optim_checkpoint.pt', map_location=args.device)\n",
    "    optimizer.load_state_dict(optim_checkpoint['optimizer'])\n",
    "    scheduler.load_state_dict(optim_checkpoint['scheduler'])\n",
    "\n",
    "# Initialize Dataset \n",
    "dataset_file = DATA_ROOT + INPUT_FORMAT.format(0)\n",
    "dataset = ParquetDataset(dataset_file)\n",
    "\n",
    "# Define Loss\n",
    "loss_fn = compute_kl_pq_loss"
   ]
  },
  {
   "cell_type": "code",
   "execution_count": 261,
   "id": "776a9353",
   "metadata": {},
   "outputs": [],
   "source": [
    "# Init Wandb\n",
    "os.environ[\"WANDB_SILENT\"] = \"true\"\n",
    "os.environ[\"WANDB_NOTES\"] = WANDB_DESC\n",
    "run = wandb.init(project='gnf', config=DEFAULT_CFG, dir=LOGS_ROOT)\n",
    "wandb.config.update(args)\n",
    "\n",
    "# Save files for later\n",
    "! pip freeze > requirements.txt\n",
    "wandb.save(ROOT + 'requirements.txt')\n",
    "# wandb.save(config_path)       # TODO: Fix permission issue on Colab."
   ]
  }
 ],
 "metadata": {
  "kernelspec": {
   "display_name": "Python 3",
   "language": "python",
   "name": "python3"
  },
  "language_info": {
   "codemirror_mode": {
    "name": "ipython",
    "version": 3
   },
   "file_extension": ".py",
   "mimetype": "text/x-python",
   "name": "python",
   "nbconvert_exporter": "python",
   "pygments_lexer": "ipython3",
   "version": "3.7.10"
  }
 },
 "nbformat": 4,
 "nbformat_minor": 5
}
